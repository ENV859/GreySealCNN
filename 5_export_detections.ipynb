{
 "cells": [
  {
   "cell_type": "markdown",
   "metadata": {
    "id": "Y8WTbTOrpVVf"
   },
   "source": [
    "## Auditing and Exporting Detections"
   ]
  },
  {
   "cell_type": "markdown",
   "metadata": {
    "id": "o97tafnarHqG"
   },
   "source": [
    "#### Before running this script, make sure that your Google Drive folder contains the orthomosaic GeoTiff (`step 0`) and no other GeoTIFF files, and the `data.json` file you created (`step 1`) and the `new_detections.json` file you created (`step 4`). If you want to add your new CNN detections to the manually annotated detections you created in VIA, also add the JSON file you exported using VIA in `step 2`. You will need to input that file name directly, since it is not standardized in our workflow."
   ]
  },
  {
   "cell_type": "markdown",
   "metadata": {},
   "source": [
    "<a href=\"https://colab.research.google.com/github/gl7176/GreySealCNN/blob/master/5_export_detections.ipynb\" target=\"_parent\"><img src=\"https://colab.research.google.com/assets/colab-badge.svg\" alt=\"Open In Colab\"/></a>\n",
    "#####  <center> Be sure to update this hyperlink above if you clone and want to point to a different GitHub </center>"
   ]
  },
  {
   "cell_type": "code",
   "execution_count": 1,
   "metadata": {
    "colab": {
     "base_uri": "https://localhost:8080/"
    },
    "id": "SYEIuuoGpkZm",
    "outputId": "53b14b48-0181-4a72-c984-81be6ba66e55"
   },
   "outputs": [
    {
     "name": "stdout",
     "output_type": "stream",
     "text": [
      "10\n",
      "20\n",
      "30\n",
      "40\n",
      "50\n",
      "60\n",
      "70\n",
      "80\n",
      "90\n",
      "100\n",
      "110\n",
      "120\n",
      "130\n",
      "140\n",
      "150\n",
      "160\n",
      "170\n",
      "180\n",
      "190\n",
      "200\n",
      "210\n",
      "220\n",
      "230\n"
     ]
    }
   ],
   "source": [
    "!pip install -U -q PyDrive\n",
    "import os\n",
    "from pydrive.auth import GoogleAuth\n",
    "from pydrive.drive import GoogleDrive\n",
    "from google.colab import auth\n",
    "from oauth2client.client import GoogleCredentials\n",
    "\n",
    "# 1. Authenticate and create the PyDrive client.\n",
    "auth.authenticate_user()\n",
    "gauth = GoogleAuth()\n",
    "gauth.credentials = GoogleCredentials.get_application_default()\n",
    "drive = GoogleDrive(gauth)\n",
    "\n",
    "# choose a local (colab) directory to store the data.\n",
    "local_download_path = os.path.expanduser('data')\n",
    "try:\n",
    "  os.makedirs(local_download_path)\n",
    "except: pass\n",
    "\n",
    "# 2. Auto-iterate using the query syntax\n",
    "#    https://developers.google.com/drive/v2/web/search-parameters\n",
    "\n",
    "# set variable to the destination google drive folder you want to pull from\n",
    "drive_folder = 'https://drive.google.com/drive/folders/1INuRNVKvKMy8L_Nb6lmoVbyvScWK0-0D'\n",
    "\n",
    "# this bit points the code to that google drive folder\n",
    "pointer = str(\"'\" + drive_folder.split(\"/\")[-1] + \"'\" + \" in parents\")\n",
    "\n",
    "file_list = drive.ListFile(\n",
    "    {'q': pointer}).GetList()\n",
    "\n",
    "#    this bit pulls every file in the directory specified above\n",
    "orthomosaic_file = {}\n",
    "count = 0\n",
    "for f in file_list:\n",
    "  count += 1\n",
    "  if count % 10 == 0:\n",
    "    print(count)\n",
    "  # 3. Create & download by id.\n",
    "  fname = os.path.join(local_download_path, f['title'])\n",
    "  if fname.endswith(\".tif\") or fname.ednswith(\".json\"):\n",
    "    f_ = drive.CreateFile({'id': f['id']})\n",
    "    f_.GetContentFile(fname)\n",
    "    os.stat(fname)\n",
    "    # if the file is a *.tif and larger than 100 mb we label it the orthomosaic\n",
    "    if fname.endswith(\".tif\") and os.stat(fname).st_size > 10^8 :\n",
    "      # if there are multiple orthomosaic files detected we spit an error\n",
    "      if len(orthomosaic_file) != 0:\n",
    "        raise Exception(\"more than one orthomosaic file identified based on size and type\")\n",
    "      orthomosaic_file = fname\n",
    "      print(\"orthomosaic identified as \" + orthomosaic_file)\n",
    "  "
   ]
  },
  {
   "cell_type": "code",
   "execution_count": 6,
   "metadata": {
    "colab": {
     "base_uri": "https://localhost:8080/"
    },
    "id": "biwSnxfdpVVj",
    "outputId": "4e36a9c9-c7a3-454c-c1c3-0ad50542c2c0"
   },
   "outputs": [
    {
     "name": "stdout",
     "output_type": "stream",
     "text": [
      "Requirement already satisfied: rasterio in /usr/local/lib/python3.6/dist-packages (1.1.8)\n",
      "Requirement already satisfied: cligj>=0.5 in /usr/local/lib/python3.6/dist-packages (from rasterio) (0.7.0)\n",
      "Requirement already satisfied: attrs in /usr/local/lib/python3.6/dist-packages (from rasterio) (20.2.0)\n",
      "Requirement already satisfied: click-plugins in /usr/local/lib/python3.6/dist-packages (from rasterio) (1.1.1)\n",
      "Requirement already satisfied: numpy in /usr/local/lib/python3.6/dist-packages (from rasterio) (1.18.5)\n",
      "Requirement already satisfied: affine in /usr/local/lib/python3.6/dist-packages (from rasterio) (2.3.0)\n",
      "Requirement already satisfied: click<8,>=4.0 in /usr/local/lib/python3.6/dist-packages (from rasterio) (7.1.2)\n",
      "Requirement already satisfied: snuggs>=1.4.1 in /usr/local/lib/python3.6/dist-packages (from rasterio) (1.4.7)\n",
      "Requirement already satisfied: pyparsing>=2.1.6 in /usr/local/lib/python3.6/dist-packages (from snuggs>=1.4.1->rasterio) (2.4.7)\n",
      "/bin/bash: shapely.geometry: command not found\n",
      "Collecting fiona\n",
      "\u001b[?25l  Downloading https://files.pythonhosted.org/packages/36/8b/e8b2c11bed5373c8e98edb85ce891b09aa1f4210fd451d0fb3696b7695a2/Fiona-1.8.17-cp36-cp36m-manylinux1_x86_64.whl (14.8MB)\n",
      "\u001b[K     |████████████████████████████████| 14.8MB 322kB/s \n",
      "\u001b[?25hCollecting munch\n",
      "  Downloading https://files.pythonhosted.org/packages/cc/ab/85d8da5c9a45e072301beb37ad7f833cd344e04c817d97e0cc75681d248f/munch-2.5.0-py2.py3-none-any.whl\n",
      "Requirement already satisfied: cligj>=0.5 in /usr/local/lib/python3.6/dist-packages (from fiona) (0.7.0)\n",
      "Requirement already satisfied: click<8,>=4.0 in /usr/local/lib/python3.6/dist-packages (from fiona) (7.1.2)\n",
      "Requirement already satisfied: click-plugins>=1.0 in /usr/local/lib/python3.6/dist-packages (from fiona) (1.1.1)\n",
      "Requirement already satisfied: attrs>=17 in /usr/local/lib/python3.6/dist-packages (from fiona) (20.2.0)\n",
      "Requirement already satisfied: six>=1.7 in /usr/local/lib/python3.6/dist-packages (from fiona) (1.15.0)\n",
      "Installing collected packages: munch, fiona\n",
      "Successfully installed fiona-1.8.17 munch-2.5.0\n"
     ]
    }
   ],
   "source": [
    "import os\n",
    "import argparse\n",
    "import numpy as np\n",
    "import json\n",
    "import csv\n",
    "!pip install rasterio\n",
    "import rasterio\n",
    "\n",
    "!shapely.geometry import mapping, Polygon\n",
    "!pip install fiona\n",
    "import fiona # only required for exporting to shapefiles"
   ]
  },
  {
   "cell_type": "code",
   "execution_count": 37,
   "metadata": {
    "id": "WB5fhf-ypVVn"
   },
   "outputs": [],
   "source": [
    "# ingest the image\n",
    "infile = \"data/2015_02_02_hay_island_flight03_s110rgb_jpeg_mosaic_group1.tif\"\n",
    "\n",
    "img_dir = infile.split(\".\")[0]\n",
    "prj_name = img_dir.split(\"/\")[-1]\n",
    "data_dir = img_dir.split(\"/\")[0]"
   ]
  },
  {
   "cell_type": "code",
   "execution_count": 38,
   "metadata": {
    "id": "S4CyS4d6pVVr"
   },
   "outputs": [],
   "source": [
    "# open the output from seal_detection\n",
    "\n",
    "with open('data/new_detections.json') as f:\n",
    "    detected_labels = json.load(f)"
   ]
  },
  {
   "cell_type": "code",
   "execution_count": 40,
   "metadata": {
    "id": "IeEyWxA-pVVu"
   },
   "outputs": [],
   "source": [
    "# open the previous training data\n",
    "\n",
    "with open(data_dir + '/via_SealCNN_TrainingData.json') as f:\n",
    "    existing_labels = json.load(f)"
   ]
  },
  {
   "cell_type": "code",
   "execution_count": 41,
   "metadata": {
    "colab": {
     "base_uri": "https://localhost:8080/"
    },
    "id": "BKdfb9GipVVw",
    "outputId": "754890e0-e485-4bc1-894c-ca76f6fdb821",
    "scrolled": true
   },
   "outputs": [
    {
     "data": {
      "text/plain": [
       "8"
      ]
     },
     "execution_count": 41,
     "metadata": {
      "tags": []
     },
     "output_type": "execute_result"
    }
   ],
   "source": [
    "len(detected_labels)"
   ]
  },
  {
   "cell_type": "markdown",
   "metadata": {
    "id": "Xrjsw-07pVVz"
   },
   "source": [
    "### Exporting to Shapefile"
   ]
  },
  {
   "cell_type": "code",
   "execution_count": 47,
   "metadata": {
    "colab": {
     "base_uri": "https://localhost:8080/"
    },
    "id": "8L2oMtotpVV0",
    "outputId": "7fb7e6ba-60ff-426d-af71-8a38bd212383"
   },
   "outputs": [
    {
     "name": "stdout",
     "output_type": "stream",
     "text": [
      "data/2015_02_02_hay_island_flight03_s110rgb_jpeg_mosaic_group1---211.png\n",
      "{'box': [156, 901, 206, 985], 'label': 0, 'score': 0.8815857768058777}\n",
      "{'box': [737, 767, 796, 824], 'label': 0, 'score': 0.8385722637176514}\n",
      "{'box': [364, 428, 404, 470], 'label': 1, 'score': 0.7205950021743774}\n",
      "{'box': [345, 554, 417, 611], 'label': 0, 'score': 0.6761151552200317}\n",
      "{'box': [397, 806, 441, 840], 'label': 1, 'score': 0.6630175709724426}\n",
      "{'box': [387, 678, 427, 720], 'label': 1, 'score': 0.6524453163146973}\n",
      "{'box': [131, 265, 182, 356], 'label': 0, 'score': 0.6438854336738586}\n",
      "{'box': [233, 325, 291, 380], 'label': 0, 'score': 0.6438494920730591}\n",
      "{'box': [258, 458, 296, 505], 'label': 1, 'score': 0.6359509229660034}\n",
      "{'box': [223, 302, 269, 336], 'label': 1, 'score': 0.6229948997497559}\n",
      "{'box': [374, 403, 421, 434], 'label': 1, 'score': 0.6110461354255676}\n",
      "{'box': [367, 406, 418, 465], 'label': 0, 'score': 0.6066299080848694}\n",
      "{'box': [779, 485, 853, 541], 'label': 0, 'score': 0.5931316614151001}\n",
      "{'box': [361, 419, 406, 475], 'label': 0, 'score': 0.5728477239608765}\n",
      "{'box': [221, 300, 278, 343], 'label': 0, 'score': 0.5660308003425598}\n",
      "{'box': [66, 197, 126, 259], 'label': 0, 'score': 0.5472891330718994}\n",
      "{'box': [298, 502, 360, 552], 'label': 0, 'score': 0.5328906774520874}\n",
      "{'box': [281, 954, 333, 995], 'label': 1, 'score': 0.5314918756484985}\n",
      "{'box': [293, 584, 356, 637], 'label': 0, 'score': 0.5142885446548462}\n",
      "{'box': [335, 278, 377, 375], 'label': 0, 'score': 0.5010932683944702}\n",
      "data/2015_02_02_hay_island_flight03_s110rgb_jpeg_mosaic_group1---212.png\n",
      "{'box': [715, 80, 760, 115], 'label': 1, 'score': 0.8426198959350586}\n",
      "{'box': [30, 220, 113, 278], 'label': 0, 'score': 0.8269553780555725}\n",
      "{'box': [865, 76, 907, 109], 'label': 1, 'score': 0.8246799111366272}\n",
      "{'box': [812, 79, 855, 114], 'label': 1, 'score': 0.8198410868644714}\n",
      "{'box': [912, 45, 951, 86], 'label': 1, 'score': 0.7403334975242615}\n",
      "{'box': [929, 131, 965, 170], 'label': 1, 'score': 0.7315255999565125}\n",
      "{'box': [776, 220, 819, 255], 'label': 1, 'score': 0.7073413729667664}\n",
      "{'box': [778, 635, 812, 671], 'label': 1, 'score': 0.6505231857299805}\n",
      "{'box': [781, 169, 821, 202], 'label': 1, 'score': 0.6477243304252625}\n",
      "{'box': [929, 47, 962, 88], 'label': 1, 'score': 0.6127380132675171}\n",
      "{'box': [876, 152, 917, 186], 'label': 1, 'score': 0.6112133264541626}\n",
      "{'box': [498, 68, 539, 105], 'label': 1, 'score': 0.6029380559921265}\n",
      "{'box': [740, 169, 776, 206], 'label': 1, 'score': 0.5773013830184937}\n",
      "{'box': [850, 179, 884, 212], 'label': 1, 'score': 0.5639549493789673}\n",
      "{'box': [733, 733, 773, 771], 'label': 1, 'score': 0.5538631677627563}\n",
      "{'box': [922, 915, 961, 954], 'label': 1, 'score': 0.5210175514221191}\n",
      "data/2015_02_02_hay_island_flight03_s110rgb_jpeg_mosaic_group1---27.png\n",
      "{'box': [140, 662, 196, 743], 'label': 0, 'score': 0.524893045425415}\n",
      "data/2015_02_02_hay_island_flight03_s110rgb_jpeg_mosaic_group1---94.png\n",
      "{'box': [884, 589, 946, 644], 'label': 0, 'score': 0.8277623057365417}\n",
      "{'box': [195, 595, 254, 654], 'label': 0, 'score': 0.820591151714325}\n",
      "{'box': [281, 267, 358, 314], 'label': 0, 'score': 0.819371223449707}\n",
      "{'box': [342, 47, 387, 82], 'label': 1, 'score': 0.8092324733734131}\n",
      "{'box': [681, 865, 741, 922], 'label': 0, 'score': 0.8042410612106323}\n",
      "{'box': [270, 676, 317, 709], 'label': 1, 'score': 0.7278417944908142}\n",
      "{'box': [153, 64, 206, 141], 'label': 0, 'score': 0.6748605370521545}\n",
      "{'box': [8, 619, 53, 655], 'label': 1, 'score': 0.6620163917541504}\n",
      "{'box': [402, 46, 448, 79], 'label': 1, 'score': 0.5875234603881836}\n",
      "{'box': [379, 811, 423, 849], 'label': 1, 'score': 0.5761904716491699}\n",
      "{'box': [249, 754, 285, 793], 'label': 1, 'score': 0.521077573299408}\n",
      "data/2015_02_02_hay_island_flight03_s110rgb_jpeg_mosaic_group1---159.png\n",
      "{'box': [818, 445, 881, 504], 'label': 0, 'score': 0.9446507096290588}\n",
      "{'box': [653, 416, 706, 476], 'label': 0, 'score': 0.8461571335792542}\n",
      "{'box': [245, 799, 283, 836], 'label': 1, 'score': 0.8364107608795166}\n",
      "{'box': [705, 567, 781, 616], 'label': 0, 'score': 0.7569260001182556}\n",
      "{'box': [552, 265, 616, 330], 'label': 0, 'score': 0.7517828941345215}\n",
      "{'box': [104, 895, 150, 931], 'label': 1, 'score': 0.7297436594963074}\n",
      "{'box': [844, 592, 923, 639], 'label': 0, 'score': 0.7035199999809265}\n",
      "{'box': [38, 482, 83, 513], 'label': 1, 'score': 0.6838210821151733}\n",
      "{'box': [444, 861, 509, 916], 'label': 0, 'score': 0.6621094942092896}\n",
      "{'box': [849, 628, 908, 688], 'label': 0, 'score': 0.6553285717964172}\n",
      "{'box': [105, 481, 163, 536], 'label': 0, 'score': 0.65187007188797}\n",
      "{'box': [210, 164, 245, 211], 'label': 1, 'score': 0.6483518481254578}\n",
      "{'box': [494, 228, 542, 263], 'label': 1, 'score': 0.6194861531257629}\n",
      "{'box': [45, 495, 101, 556], 'label': 0, 'score': 0.6090477108955383}\n",
      "{'box': [845, 652, 894, 690], 'label': 0, 'score': 0.6088699102401733}\n",
      "{'box': [853, 609, 918, 664], 'label': 0, 'score': 0.5855485796928406}\n",
      "{'box': [706, 409, 744, 482], 'label': 0, 'score': 0.5129430294036865}\n",
      "data/2015_02_02_hay_island_flight03_s110rgb_jpeg_mosaic_group1---193.png\n",
      "{'box': [146, 727, 185, 762], 'label': 1, 'score': 0.8301136493682861}\n",
      "{'box': [177, 765, 218, 799], 'label': 1, 'score': 0.7522627711296082}\n",
      "{'box': [480, 896, 519, 938], 'label': 1, 'score': 0.7174159288406372}\n",
      "{'box': [397, 577, 442, 613], 'label': 1, 'score': 0.7157032489776611}\n",
      "{'box': [200, 606, 245, 642], 'label': 1, 'score': 0.6869957447052002}\n",
      "{'box': [279, 690, 320, 726], 'label': 1, 'score': 0.6775500774383545}\n",
      "{'box': [118, 836, 155, 870], 'label': 1, 'score': 0.6406681537628174}\n",
      "{'box': [441, 888, 476, 924], 'label': 1, 'score': 0.6311300992965698}\n",
      "{'box': [124, 755, 168, 789], 'label': 1, 'score': 0.6057339906692505}\n",
      "{'box': [225, 556, 264, 590], 'label': 1, 'score': 0.5989708304405212}\n",
      "{'box': [263, 759, 304, 791], 'label': 1, 'score': 0.5454727411270142}\n",
      "{'box': [31, 720, 75, 757], 'label': 1, 'score': 0.5116902589797974}\n",
      "{'box': [230, 762, 270, 796], 'label': 1, 'score': 0.508182168006897}\n",
      "{'box': [797, 682, 836, 717], 'label': 1, 'score': 0.5018247365951538}\n",
      "data/2015_02_02_hay_island_flight03_s110rgb_jpeg_mosaic_group1---241.png\n",
      "{'box': [338, 156, 412, 196], 'label': 0, 'score': 0.7128096222877502}\n",
      "{'box': [564, 6, 608, 37], 'label': 1, 'score': 0.6957710385322571}\n",
      "{'box': [348, 666, 390, 706], 'label': 1, 'score': 0.6061463952064514}\n",
      "{'box': [340, 156, 411, 195], 'label': 1, 'score': 0.575285017490387}\n",
      "{'box': [256, 213, 336, 255], 'label': 0, 'score': 0.5277315378189087}\n",
      "data/2015_02_02_hay_island_flight03_s110rgb_jpeg_mosaic_group1---199.png\n",
      "{'box': [218, 673, 271, 734], 'label': 0, 'score': 0.9030202031135559}\n",
      "{'box': [229, 147, 296, 204], 'label': 0, 'score': 0.8713027834892273}\n",
      "{'box': [37, 339, 114, 386], 'label': 0, 'score': 0.8093000650405884}\n",
      "{'box': [93, 225, 154, 284], 'label': 0, 'score': 0.7846594452857971}\n",
      "{'box': [1, 821, 67, 875], 'label': 0, 'score': 0.7592096328735352}\n",
      "{'box': [12, 626, 80, 674], 'label': 0, 'score': 0.7487812638282776}\n",
      "{'box': [179, 308, 248, 352], 'label': 0, 'score': 0.7325987219810486}\n",
      "{'box': [153, 210, 219, 258], 'label': 0, 'score': 0.7222899794578552}\n",
      "{'box': [277, 74, 335, 125], 'label': 0, 'score': 0.6546465754508972}\n",
      "{'box': [209, 808, 266, 875], 'label': 0, 'score': 0.6529093384742737}\n",
      "{'box': [26, 878, 99, 919], 'label': 0, 'score': 0.6484140753746033}\n",
      "{'box': [207, 119, 259, 166], 'label': 0, 'score': 0.6263187527656555}\n",
      "{'box': [174, 167, 232, 225], 'label': 0, 'score': 0.6224072575569153}\n",
      "{'box': [267, 0, 320, 45], 'label': 0, 'score': 0.5463329553604126}\n",
      "{'box': [152, 803, 183, 841], 'label': 1, 'score': 0.5440234541893005}\n",
      "{'box': [213, 80, 284, 119], 'label': 0, 'score': 0.5280266404151917}\n",
      "{'box': [386, 0, 438, 46], 'label': 0, 'score': 0.5221242308616638}\n",
      "{'box': [14, 629, 78, 673], 'label': 1, 'score': 0.5203276872634888}\n",
      "{'box': [186, 350, 240, 410], 'label': 0, 'score': 0.5146657824516296}\n",
      "{'box': [105, 479, 155, 553], 'label': 0, 'score': 0.5100811123847961}\n"
     ]
    }
   ],
   "source": [
    "image_annotations = []\n",
    "for key, value in detected_labels.items():\n",
    "    print(key)\n",
    "    annotation = [[key][0].split(\"/\")[-1]]\n",
    "    detections = []\n",
    "    for item in value:\n",
    "        box = item['box']\n",
    "        detections.append(box)\n",
    "        print(item)\n",
    "    annotation.append(detections)\n",
    "    image_annotations.append(annotation)"
   ]
  },
  {
   "cell_type": "code",
   "execution_count": 48,
   "metadata": {
    "id": "RPXdDvG8hyfz"
   },
   "outputs": [],
   "source": [
    "scores = []\n",
    "for key, value in detected_labels.items():\n",
    "    for item in value:\n",
    "        score = item['score']\n",
    "        scores.append(score)"
   ]
  },
  {
   "cell_type": "code",
   "execution_count": 54,
   "metadata": {
    "id": "POR7Sjn3iCi5"
   },
   "outputs": [],
   "source": [
    "with open('data/data.json') as f:\n",
    "  img_data = json.load(f)\n",
    "\n",
    "image_bbox = []\n",
    "for annotation in image_annotations:\n",
    "    for detection in annotation[1]:\n",
    "        try:\n",
    "            local_bounding_box = np.array([[detection[0], detection[1]], [detection[2], detection[1]], [detection[2], detection[3]], [detection[0], detection[3]]]).astype(int)\n",
    "            image_located_bb = local_bounding_box + [img_data[\"image_locations\"][annotation[0]]]\n",
    "            image_bbox.append(image_located_bb)\n",
    "            \n",
    "        except ValueError: # if the image doesn't have a detection\n",
    "            pass"
   ]
  },
  {
   "cell_type": "code",
   "execution_count": 55,
   "metadata": {
    "id": "ob6bmHFEiFZ6"
   },
   "outputs": [],
   "source": [
    "bbox = []\n",
    "for annotation in image_bbox:\n",
    "    x1 = annotation[0][0]\n",
    "    y1 = annotation[0][1]\n",
    "    x2 = annotation[1][0]\n",
    "    y2 = annotation[2][1]\n",
    "    bounding_box = [x1,y1,x2,y2]\n",
    "    bbox.append(bounding_box)"
   ]
  },
  {
   "cell_type": "code",
   "execution_count": 58,
   "metadata": {
    "id": "CXqKqRuViP0D"
   },
   "outputs": [],
   "source": [
    "# Malisiewicz et al.\n",
    "# import the necessary packages\n",
    "import numpy as np\n",
    "\n",
    "def non_max_suppression(boxes, probs=None, overlapThresh=0.6):\n",
    "    # if there are no boxes, return an empty list\n",
    "    if len(boxes) == 0:\n",
    "        return []\n",
    "\n",
    "    # if the bounding boxes are integers, convert them to floats -- this\n",
    "    # is important since we'll be doing a bunch of divisions\n",
    "    if boxes.dtype.kind == \"i\":\n",
    "        boxes = boxes.astype(\"float\")\n",
    "\n",
    "    # initialize the list of picked indexes\n",
    "    pick = []\n",
    "\n",
    "    # grab the coordinates of the bounding boxes\n",
    "    x1 = boxes[:, 0]\n",
    "    y1 = boxes[:, 1]\n",
    "    x2 = boxes[:, 2]\n",
    "    y2 = boxes[:, 3]\n",
    "\n",
    "    # compute the area of the bounding boxes and grab the indexes to sort\n",
    "    # (in the case that no probabilities are provided, simply sort on the\n",
    "    # bottom-left y-coordinate)\n",
    "    area = (x2 - x1 + 1) * (y2 - y1 + 1)\n",
    "    idxs = y2\n",
    "\n",
    "    # if probabilities are provided, sort on them instead\n",
    "    if probs is not None:\n",
    "        idxs = probs\n",
    "\n",
    "    # sort the indexes\n",
    "    idxs = np.argsort(idxs)\n",
    "\n",
    "    # keep looping while some indexes still remain in the indexes list\n",
    "    while len(idxs) > 0:\n",
    "        # grab the last index in the indexes list and add the index value\n",
    "        # to the list of picked indexes\n",
    "        last = len(idxs) - 1\n",
    "        i = idxs[last]\n",
    "        pick.append(i)\n",
    "\n",
    "        # find the largest (x, y) coordinates for the start of the bounding\n",
    "        # box and the smallest (x, y) coordinates for the end of the bounding\n",
    "        # box\n",
    "        xx1 = np.maximum(x1[i], x1[idxs[:last]])\n",
    "        yy1 = np.maximum(y1[i], y1[idxs[:last]])\n",
    "        xx2 = np.minimum(x2[i], x2[idxs[:last]])\n",
    "        yy2 = np.minimum(y2[i], y2[idxs[:last]])\n",
    "\n",
    "        # compute the width and height of the bounding box\n",
    "        w = np.maximum(0, xx2 - xx1 + 1)\n",
    "        h = np.maximum(0, yy2 - yy1 + 1)\n",
    "\n",
    "        # compute the ratio of overlap\n",
    "        overlap = (w * h) / area[idxs[:last]]\n",
    "\n",
    "        # delete all indexes from the index list that have overlap greater\n",
    "        # than the provided overlap threshold\n",
    "        idxs = np.delete(idxs, np.concatenate(([last],\n",
    "            np.where(overlap > overlapThresh)[0])))\n",
    "\n",
    "    # return only the bounding boxes that were picked\n",
    "    return boxes[pick].astype(\"int\")"
   ]
  },
  {
   "cell_type": "code",
   "execution_count": 64,
   "metadata": {
    "id": "cmY7ZCEvicfS"
   },
   "outputs": [],
   "source": [
    "bboxes = np.array(bbox)\n",
    "pick = non_max_suppression(bboxes, scores, 0.6)\n",
    "pick_list = pick.tolist()"
   ]
  },
  {
   "cell_type": "code",
   "execution_count": 66,
   "metadata": {
    "id": "DEuh5VhbpVV3"
   },
   "outputs": [],
   "source": [
    "# ingest back in the coordinates of detections within an image referenced by their filename\n",
    "\n",
    "with open('data/data.json') as f:\n",
    "    img_data = json.load(f)\n",
    "\n",
    "# open the satellite image\n",
    "dataset = rasterio.open(infile)\n",
    "\n",
    "geolocated_annotations_before_nms = []\n",
    "\n",
    "for annotation in image_annotations:\n",
    "    for detection in annotation[1]:\n",
    "        try:            \n",
    "            local_bounding_box = np.array([[detection[0], detection[1]], [detection[2], detection[1]], [detection[2], detection[3]], [detection[0], detection[3]]]).astype(int)\n",
    "            image_located_bb = local_bounding_box + [img_data[\"image_locations\"][annotation[0]]]\n",
    "            \n",
    "            geolocated_bb = []\n",
    "            for point in image_located_bb:\n",
    "                geolocated_bb.append(dataset.transform * point)\n",
    "            geolocated_annotations_before_nms.append(geolocated_bb)\n",
    "        except ValueError: # if the image doesn't have a detection\n",
    "            pass\n",
    "\n",
    "geolocated_annotations_after_nms = []\n",
    "        \n",
    "for box in pick_list:\n",
    "    image_located_bb = np.array([[box[0], box[1]], [box[2], box[1]], [box[2], box[3]], [box[0], box[3]]]).astype(int)\n",
    "            \n",
    "    geolocated_bb = []\n",
    "    for point in image_located_bb:\n",
    "        geolocated_bb.append(dataset.transform * point)\n",
    "    geolocated_annotations_after_nms.append(geolocated_bb)"
   ]
  },
  {
   "cell_type": "code",
   "execution_count": 1,
   "metadata": {
    "colab": {
     "base_uri": "https://localhost:8080/"
    },
    "id": "dFwZ_O0ijuz6",
    "outputId": "1689b6b7-572a-4e82-b40e-e932a9f2bb97"
   },
   "outputs": [
    {
     "ename": "NameError",
     "evalue": "name 'geolocated_annotations_before_nms' is not defined",
     "output_type": "error",
     "traceback": [
      "\u001b[1;31m---------------------------------------------------------------------------\u001b[0m",
      "\u001b[1;31mNameError\u001b[0m                                 Traceback (most recent call last)",
      "\u001b[1;32m<ipython-input-1-9a65652b8a48>\u001b[0m in \u001b[0;36m<module>\u001b[1;34m\u001b[0m\n\u001b[1;32m----> 1\u001b[1;33m \u001b[0mprint\u001b[0m\u001b[1;33m(\u001b[0m\u001b[1;34m\"before NMS: \"\u001b[0m \u001b[1;33m+\u001b[0m \u001b[0mlen\u001b[0m\u001b[1;33m(\u001b[0m\u001b[0mgeolocated_annotations_before_nms\u001b[0m\u001b[1;33m)\u001b[0m\u001b[1;33m)\u001b[0m\u001b[1;33m\u001b[0m\u001b[1;33m\u001b[0m\u001b[0m\n\u001b[0m\u001b[0;32m      2\u001b[0m \u001b[0mprint\u001b[0m\u001b[1;33m(\u001b[0m\u001b[1;34m\"after NMS: \"\u001b[0m \u001b[1;33m+\u001b[0m \u001b[0mlen\u001b[0m\u001b[1;33m(\u001b[0m\u001b[0mgeolocated_annotations_after_nms\u001b[0m\u001b[1;33m)\u001b[0m\u001b[1;33m)\u001b[0m\u001b[1;33m\u001b[0m\u001b[1;33m\u001b[0m\u001b[0m\n",
      "\u001b[1;31mNameError\u001b[0m: name 'geolocated_annotations_before_nms' is not defined"
     ]
    }
   ],
   "source": [
    "print(\"before NMS: \" + str(len(geolocated_annotations_before_nms)))\n",
    "print(\"after NMS: \" + str(len(geolocated_annotations_after_nms)))"
   ]
  },
  {
   "cell_type": "code",
   "execution_count": 69,
   "metadata": {
    "colab": {
     "base_uri": "https://localhost:8080/"
    },
    "id": "jX7m2C_XpVV5",
    "outputId": "73569ef4-857c-4b86-8dd1-1b3c51b1074c"
   },
   "outputs": [
    {
     "data": {
      "text/plain": [
       "98"
      ]
     },
     "execution_count": 69,
     "metadata": {
      "tags": []
     },
     "output_type": "execute_result"
    }
   ],
   "source": [
    "len(geolocated_annotations_after_nms)"
   ]
  },
  {
   "cell_type": "code",
   "execution_count": 46,
   "metadata": {
    "id": "0fKKpsQ5pVV7"
   },
   "outputs": [],
   "source": [
    "# write out the detections as a shapefile\n",
    "\n",
    "from collections import OrderedDict\n",
    "import fiona\n",
    "from fiona.crs import from_epsg\n",
    "\n",
    "# Define your schema as a polygon geom with a couple of fields\n",
    "schema = {\n",
    "    'geometry': 'Polygon',\n",
    "    'properties': OrderedDict([\n",
    "        ('ImageName', 'str'),\n",
    "        ('Detection', 'str')\n",
    "  ])\n",
    "}\n",
    "\n",
    "with fiona.open(\n",
    "    'shapefiles_albatross/final/grandjason_seblob.shp',\n",
    "    'w',\n",
    "    driver='ESRI Shapefile',\n",
    "    crs=dataset.crs,\n",
    "    schema=schema) as c:\n",
    "    \n",
    "    for num, polygon in enumerate(geolocated_annotations_after_nms):\n",
    "        record = {\n",
    "            'geometry': {'coordinates': [polygon], 'type': 'Polygon'},\n",
    "            'id': num,\n",
    "            'properties': OrderedDict([('ImageName', infile),\n",
    "                                       ('Detection', 'Albatross')\n",
    "                                       ]),\n",
    "            'type': 'Feature'}\n",
    "        c.write(record)"
   ]
  },
  {
   "cell_type": "code",
   "execution_count": null,
   "metadata": {
    "id": "tdoaY6HGpVV9"
   },
   "outputs": [],
   "source": []
  },
  {
   "cell_type": "markdown",
   "metadata": {
    "id": "Jb_yWaChpVV_"
   },
   "source": [
    "### RetinaNet to Existing VIA"
   ]
  },
  {
   "cell_type": "code",
   "execution_count": null,
   "metadata": {
    "id": "KxZjZKbfpVV_"
   },
   "outputs": [],
   "source": [
    "# add the new detections to the old via_region_data.json file\n",
    "\n",
    "#\"11_fiX1mEhK\",\"[\"\"2015_02_02_hay_island_flight03_s110rgb_jpeg_mosaic_group1---27.png\"\"]\",0,\"[]\",\"[2,509.275,929.174,89.376,48.904]\",\"{}\"\n",
    "\n",
    "for filepath, detections in detected_labels.items():\n",
    "    fn = filepath.split(\"/\")[-1]\n",
    "    # TODO is deep copy correct?\n",
    "    for filename_size, metadata in existing_labels.items():\n",
    "        if fn == metadata[\"filename\"]:\n",
    "            for detection in detections:\n",
    "                # 'box' : [x1, y1, x2, y2]\n",
    "                x1 = detection[\"box\"][0]\n",
    "                y1 = detection[\"box\"][1]\n",
    "                x2 = detection[\"box\"][2]\n",
    "                y2 = detection[\"box\"][3]\n",
    "                #print(x1,x2,y1,y2)\n",
    "                metadata[\"regions\"].append({'shape_attributes': {'name': 'rect', 'x': x1, 'y': y1, 'width': x2-x1, 'height': y2-y1}, 'region_attributes': {}})\n",
    "    "
   ]
  },
  {
   "cell_type": "code",
   "execution_count": null,
   "metadata": {
    "id": "ioY92hB7pVWB"
   },
   "outputs": [],
   "source": [
    "# write out new VIA file with additional detections\n",
    "\n",
    "with open(img_dir + '/via_region_data_detections.json', 'w') as fp:\n",
    "    json.dump(existing_labels, fp)"
   ]
  }
 ],
 "metadata": {
  "colab": {
   "name": "export_detections.ipynb",
   "provenance": []
  },
  "kernelspec": {
   "display_name": "Python 3",
   "language": "python",
   "name": "python3"
  },
  "language_info": {
   "codemirror_mode": {
    "name": "ipython",
    "version": 3
   },
   "file_extension": ".py",
   "mimetype": "text/x-python",
   "name": "python",
   "nbconvert_exporter": "python",
   "pygments_lexer": "ipython3",
   "version": "3.8.3"
  }
 },
 "nbformat": 4,
 "nbformat_minor": 1
}
