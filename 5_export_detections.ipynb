{
  "nbformat": 4,
  "nbformat_minor": 0,
  "metadata": {
    "colab": {
      "name": "export_detections.ipynb",
      "provenance": [],
      "toc_visible": true
    },
    "kernelspec": {
      "display_name": "Python 3",
      "language": "python",
      "name": "python3"
    },
    "language_info": {
      "codemirror_mode": {
        "name": "ipython",
        "version": 3
      },
      "file_extension": ".py",
      "mimetype": "text/x-python",
      "name": "python",
      "nbconvert_exporter": "python",
      "pygments_lexer": "ipython3",
      "version": "3.8.3"
    }
  },
  "cells": [
    {
      "cell_type": "markdown",
      "metadata": {
        "id": "Y8WTbTOrpVVf"
      },
      "source": [
        "## Auditing and Exporting Detections"
      ]
    },
    {
      "cell_type": "markdown",
      "metadata": {
        "id": "o97tafnarHqG"
      },
      "source": [
        "# REVISE ME\r\n",
        "#### Before running this script, make sure that your Google Drive folder contains the orthomosaic GeoTiff (`step 0`) and no other GeoTIFF files, the `spatial_data.json` file (`step 1`), the `classes.csv` file (`step3`) and the `new_detections.json` file (`step 4`). If you want to add your new CNN detections to the manually annotated detections you created in VIA, also add the JSON file you exported using VIA (`step 2`). You will need to input that file name directly, since it is not standardized in our workflow."
      ]
    },
    {
      "cell_type": "markdown",
      "metadata": {
        "id": "QI6JfXBBm1rs"
      },
      "source": [
        "<a href=\"https://colab.research.google.com/github/gl7176/GreySealCNN/blob/master/5_export_detections.ipynb\" target=\"_parent\"><img src=\"https://colab.research.google.com/assets/colab-badge.svg\" alt=\"Open In Colab\"/></a>\n",
        "<center> Be sure to update this hyperlink above if you clone and want to point to a different GitHub </center>"
      ]
    },
    {
      "cell_type": "markdown",
      "metadata": {
        "id": "_0SGgVrGEWZN"
      },
      "source": [
        "### Connect to our Google Drive folder and pull files\n",
        "Note: when you run this it will give you a link that you must click. You must give Google some permissions, then copy a code into a box that comes up in the output section of this code.\n",
        "\n",
        "If customizing this code, you will need to point the `drive_folder` variable to a URL for your shared google drive folder."
      ]
    },
    {
      "cell_type": "code",
      "metadata": {
        "colab": {
          "base_uri": "https://localhost:8080/"
        },
        "id": "SYEIuuoGpkZm",
        "outputId": "63ff081c-ee3d-4425-a561-234d22c3a15f"
      },
      "source": [
        "!pip install -U -q PyDrive\n",
        "import os\n",
        "from pydrive.auth import GoogleAuth\n",
        "from pydrive.drive import GoogleDrive\n",
        "from google.colab import auth\n",
        "from oauth2client.client import GoogleCredentials\n",
        "\n",
        "# 1. Authenticate and create the PyDrive client.\n",
        "auth.authenticate_user()\n",
        "gauth = GoogleAuth()\n",
        "gauth.credentials = GoogleCredentials.get_application_default()\n",
        "drive = GoogleDrive(gauth)\n",
        "\n",
        "# choose a local (colab) directory to store the data.\n",
        "local_download_path = os.path.expanduser('data')\n",
        "try:\n",
        "  os.makedirs(local_download_path)\n",
        "except: pass\n",
        "\n",
        "# 2. Auto-iterate using the query syntax\n",
        "#    https://developers.google.com/drive/v2/web/search-parameters\n",
        "\n",
        "# set variable to the destination google drive folder you want to pull from\n",
        "drive_folder = 'https://drive.google.com/drive/folders/1INuRNVKvKMy8L_Nb6lmoVbyvScWK0-0D'\n",
        "\n",
        "# this bit points the code to that google drive folder\n",
        "pointer = str(\"'\" + drive_folder.split(\"/\")[-1] + \"'\" + \" in parents\")\n",
        "\n",
        "file_list = drive.ListFile(\n",
        "    {'q': pointer}).GetList()\n",
        "\n",
        "#    this bit pulls key files from the directory specified above\n",
        "#    and checks that all necessary files are present\n",
        "\n",
        "orthomosaic_file = {}\n",
        "spatial_data_file = local_download_path + '/spatial_data.json'\n",
        "classes_file = local_download_path + '/classes.csv'\n",
        "new_detections_file = local_download_path + '/new_detections.json'\n",
        "subset_list_file = local_download_path + '/subset_list.csv'\n",
        "via_annotations_file = local_download_path + '/via_SealCNN_TrainingData.csv'\n",
        "\n",
        "checklist = ['orthomosaic', spatial_data_file, classes_file, new_detections_file, subset_list_file, via_annotations_file]\n",
        "\n",
        "for f in file_list:\n",
        "  # 3. Create & download by id.\n",
        "  fname = os.path.join(local_download_path, f['title'])\n",
        "  if fname.endswith(\".tif\") or fname.endswith(\".json\") or fname.endswith(\".csv\"):\n",
        "    f_ = drive.CreateFile({'id': f['id']})\n",
        "    f_.GetContentFile(fname)\n",
        "    os.stat(fname)\n",
        "    # if the file is a *.tif and larger than 100 mb we label it the orthomosaic\n",
        "    if fname.endswith(\".tif\") and os.stat(fname).st_size > 10^8 :\n",
        "      # if there are multiple orthomosaic files detected we spit an error\n",
        "      if len(orthomosaic_file) != 0:\n",
        "        raise Exception(\"more than one orthomosaic file identified based on size and type\")\n",
        "      orthomosaic_file = fname\n",
        "      print(\"orthomosaic identified as \" + orthomosaic_file)\n",
        "      checklist.remove('orthomosaic')\n",
        "    elif fname in checklist:\n",
        "      checklist.remove(fname)\n",
        "      print(\"required file found: \" + fname)\n",
        "    else:\n",
        "      print(\"additional file found: \" + fname)\n",
        "print(\"all files pulled\")\n",
        "if len(checklist) > 0:\n",
        "  print(\"Error: did not find \" + str(len(checklist)) + \" required files in your google folder: \", checklist)\n",
        "  raise Exception(\"missing required data files\")"
      ],
      "execution_count": 110,
      "outputs": [
        {
          "output_type": "stream",
          "text": [
            "required file found: data/subset_list.csv\n",
            "required file found: data/new_detections.json\n",
            "additional file found: data/annotations_valid.csv\n",
            "additional file found: data/annotations_train.csv\n",
            "additional file found: data/annotations_test.csv\n",
            "required file found: data/classes.csv\n",
            "required file found: data/spatial_data.json\n",
            "required file found: data/via_SealCNN_TrainingData.csv\n",
            "additional file found: data/via_SealCNN_TrainingData.json\n",
            "orthomosaic identified as data/Hay Island 2015.tif\n",
            "all files pulled\n"
          ],
          "name": "stdout"
        }
      ]
    },
    {
      "cell_type": "markdown",
      "metadata": {
        "id": "FHksaZEPEWZO"
      },
      "source": [
        "### Set up the python environment and key variables"
      ]
    },
    {
      "cell_type": "code",
      "metadata": {
        "colab": {
          "base_uri": "https://localhost:8080/"
        },
        "id": "biwSnxfdpVVj",
        "outputId": "3d75fd8f-c127-4829-9859-3c1c92c6d501"
      },
      "source": [
        "import os\n",
        "import argparse\n",
        "import numpy as np\n",
        "import json\n",
        "import csv\n",
        "!pip install rasterio\n",
        "import rasterio\n",
        "import copy\n",
        "\n",
        "from shapely.geometry import mapping, Polygon\n",
        "!pip install fiona\n",
        "import fiona # only required for exporting to shapefiles"
      ],
      "execution_count": 224,
      "outputs": [
        {
          "output_type": "stream",
          "text": [
            "Requirement already satisfied: rasterio in /usr/local/lib/python3.6/dist-packages (1.1.8)\n",
            "Requirement already satisfied: snuggs>=1.4.1 in /usr/local/lib/python3.6/dist-packages (from rasterio) (1.4.7)\n",
            "Requirement already satisfied: cligj>=0.5 in /usr/local/lib/python3.6/dist-packages (from rasterio) (0.7.1)\n",
            "Requirement already satisfied: affine in /usr/local/lib/python3.6/dist-packages (from rasterio) (2.3.0)\n",
            "Requirement already satisfied: click-plugins in /usr/local/lib/python3.6/dist-packages (from rasterio) (1.1.1)\n",
            "Requirement already satisfied: numpy in /usr/local/lib/python3.6/dist-packages (from rasterio) (1.19.4)\n",
            "Requirement already satisfied: attrs in /usr/local/lib/python3.6/dist-packages (from rasterio) (20.3.0)\n",
            "Requirement already satisfied: click<8,>=4.0 in /usr/local/lib/python3.6/dist-packages (from rasterio) (7.1.2)\n",
            "Requirement already satisfied: pyparsing>=2.1.6 in /usr/local/lib/python3.6/dist-packages (from snuggs>=1.4.1->rasterio) (2.4.7)\n",
            "Requirement already satisfied: fiona in /usr/local/lib/python3.6/dist-packages (1.8.18)\n",
            "Requirement already satisfied: cligj>=0.5 in /usr/local/lib/python3.6/dist-packages (from fiona) (0.7.1)\n",
            "Requirement already satisfied: munch in /usr/local/lib/python3.6/dist-packages (from fiona) (2.5.0)\n",
            "Requirement already satisfied: click<8,>=4.0 in /usr/local/lib/python3.6/dist-packages (from fiona) (7.1.2)\n",
            "Requirement already satisfied: certifi in /usr/local/lib/python3.6/dist-packages (from fiona) (2020.12.5)\n",
            "Requirement already satisfied: six>=1.7 in /usr/local/lib/python3.6/dist-packages (from fiona) (1.15.0)\n",
            "Requirement already satisfied: click-plugins>=1.0 in /usr/local/lib/python3.6/dist-packages (from fiona) (1.1.1)\n",
            "Requirement already satisfied: attrs>=17 in /usr/local/lib/python3.6/dist-packages (from fiona) (20.3.0)\n"
          ],
          "name": "stdout"
        }
      ]
    },
    {
      "cell_type": "markdown",
      "metadata": {
        "id": "Xrjsw-07pVVz"
      },
      "source": [
        "### Convert detections from image-/tile-based coordinates to orthomosaic coordinates"
      ]
    },
    {
      "cell_type": "code",
      "metadata": {
        "colab": {
          "base_uri": "https://localhost:8080/"
        },
        "id": "MIisHMg-7CGj",
        "outputId": "5c6b6ed3-7748-48c0-cf4c-4c7f3d8e0766"
      },
      "source": [
        "# update box locations from local tile coordinates to orthomosaic coordinates\n",
        "# using image_locations from original tiling process, invoked by filename\n",
        "# ---this involves transforming x1, y1, x2, y2 coordinates to 4 sets of x,y points\n",
        "# and then transforming them back to the original form---\n",
        "# then build a list of detection dictionaries. Note that filename is no longer\n",
        "# needed because coordinates are now relative to the orthomosaic, not tile\n",
        "\n",
        "# open the output from our CNN\n",
        "with open(new_detections_file) as f:\n",
        "    detected_labels = json.load(f)\n",
        "\n",
        "# open the output from our original tile splitting\n",
        "with open(spatial_data_file) as f:\n",
        "  img_data = json.load(f)\n",
        "\n",
        "detection_list = []\n",
        "for key, value in detected_labels.items():\n",
        "    for detection in value:\n",
        "      # convert bounding box from x1/y1/x2/y2 format to [x1,y1],[x2,y1],[x2,y2],[x2,y1] coordinates format \n",
        "      bounding_box = np.array([[detection['box'][0], detection['box'][1]], [detection['box'][2], detection['box'][1]], [detection['box'][2], detection['box'][3]], [detection['box'][0], detection['box'][3]]])\n",
        "      # update the new coordinates format from local tile coordinates to orthomosaic coordinates\n",
        "      bounding_box = bounding_box + [img_data[\"image_locations\"][[key][0].split(\"/\")[-1]]]\n",
        "      # convert our bounding box from coordinates format back to x1/y1/x2/y2 format\n",
        "      bounding_box = [bounding_box[0][0], bounding_box[0][1], bounding_box[1][0], bounding_box[2][1]] \n",
        "      # update the dictionary\n",
        "      detection['box'] = bounding_box\n",
        "      #build our detection list. Note we no longer need filenames because the coordinates are no longer local\n",
        "      detection_list.append(detection)\n",
        "print(detection_list[0:3])"
      ],
      "execution_count": 143,
      "outputs": [
        {
          "output_type": "stream",
          "text": [
            "[{'box': [8419, 10931, 8473, 11012], 'label': 0, 'score': 0.8839489817619324}, {'box': [8488, 10814, 8531, 10852], 'label': 1, 'score': 0.8155218958854675}, {'box': [8864, 10193, 8905, 10227], 'label': 1, 'score': 0.6655842065811157}]\n"
          ],
          "name": "stdout"
        }
      ]
    },
    {
      "cell_type": "markdown",
      "metadata": {
        "id": "FDAVvdbW0Hy0"
      },
      "source": [
        "### Implement non-max suppression on duplicate CNN detections"
      ]
    },
    {
      "cell_type": "code",
      "metadata": {
        "id": "c4lajvLFICGO"
      },
      "source": [
        "# pull labels from classes.csv\n",
        "import csv\n",
        "with open(classes_file, \"r\") as f:\n",
        "    reader = csv.reader(f, delimiter=\",\")\n",
        "    labels_to_names = {int(i[1]):i[0] for i in reader}\n",
        "\n",
        "boxes = []\n",
        "scores = []\n",
        "for detection in detection_list:\n",
        "  boxes.append(detection['box'])\n",
        "  scores.append(detection['score'])"
      ],
      "execution_count": 134,
      "outputs": []
    },
    {
      "cell_type": "code",
      "metadata": {
        "id": "CXqKqRuViP0D"
      },
      "source": [
        "# Malisiewicz et al.\n",
        "# https://www.pyimagesearch.com/2015/02/16/faster-non-maximum-suppression-python/\n",
        "# import the necessary packages\n",
        "import numpy as np\n",
        "\n",
        "def non_max_suppression(boxes, probs, overlapThresh):\n",
        "    # if there are no boxes, return an empty list\n",
        "    if len(boxes) == 0:\n",
        "        return []\n",
        "\n",
        "    # if the bounding boxes are integers, convert them to floats -- this\n",
        "    # is important since we'll be doing a bunch of divisions\n",
        "    if boxes.dtype.kind == \"i\":\n",
        "        boxes = boxes.astype(\"float\")\n",
        "\n",
        "    # initialize the list of picked indexes\n",
        "    pick = []\n",
        "\n",
        "    # grab the coordinates of the bounding boxes\n",
        "    x1 = boxes[:, 0]\n",
        "    y1 = boxes[:, 1]\n",
        "    x2 = boxes[:, 2]\n",
        "    y2 = boxes[:, 3]\n",
        "\n",
        "    # compute the area of the bounding boxes and grab the indexes to sort\n",
        "    # (in the case that no probabilities are provided, simply sort on the\n",
        "    # bottom-left y-coordinate)\n",
        "    area = (x2 - x1 + 1) * (y2 - y1 + 1)\n",
        "    idxs = y2\n",
        "\n",
        "    # if probabilities are provided, sort on them instead\n",
        "    if probs is not None:\n",
        "        idxs = probs\n",
        "\n",
        "    # sort the indexes\n",
        "    idxs = np.argsort(idxs)\n",
        "\n",
        "    # keep looping while some indexes still remain in the indexes list\n",
        "    while len(idxs) > 0:\n",
        "        # grab the last index in the indexes list and add the index value\n",
        "        # to the list of picked indexes\n",
        "        last = len(idxs) - 1\n",
        "        i = idxs[last]\n",
        "        pick.append(i)\n",
        "\n",
        "        # find the largest (x, y) coordinates for the start of the bounding\n",
        "        # box and the smallest (x, y) coordinates for the end of the bounding\n",
        "        # box\n",
        "        xx1 = np.maximum(x1[i], x1[idxs[:last]])\n",
        "        yy1 = np.maximum(y1[i], y1[idxs[:last]])\n",
        "        xx2 = np.minimum(x2[i], x2[idxs[:last]])\n",
        "        yy2 = np.minimum(y2[i], y2[idxs[:last]])\n",
        "\n",
        "        # compute the width and height of the bounding box\n",
        "        w = np.maximum(0, xx2 - xx1 + 1)\n",
        "        h = np.maximum(0, yy2 - yy1 + 1)\n",
        "\n",
        "        # compute the ratio of overlap\n",
        "        overlap = (w * h) / area[idxs[:last]]\n",
        "\n",
        "        # delete all indexes from the index list that have overlap greater\n",
        "        # than the provided overlap threshold\n",
        "        idxs = np.delete(idxs, np.concatenate(([last],\n",
        "            np.where(overlap > overlapThresh)[0])))\n",
        "\n",
        "    # return the index of the bounding boxes that were picked\n",
        "    return pick"
      ],
      "execution_count": 135,
      "outputs": []
    },
    {
      "cell_type": "code",
      "metadata": {
        "colab": {
          "base_uri": "https://localhost:8080/"
        },
        "id": "cmY7ZCEvicfS",
        "outputId": "8104bc4b-df1c-44c2-e934-408c1adbbec5"
      },
      "source": [
        "bboxes = np.array(boxes)\n",
        "pick = non_max_suppression(bboxes, scores, 0.6)\n",
        "nms_detection_list = []\n",
        "for i in pick:\n",
        "  nms_detection_list.append(detection_list[i])\n",
        "\n",
        "# backup the nms_detection_list before running next section, so if something\n",
        "# goes wrong we don't need to re-run the whole code\n",
        "nms_detection_list_backup = copy.deepcopy(nms_detection_list)\n",
        "\n",
        "print(\"Before NMS: \" + str(len(detection_list)) + \" detections\")\n",
        "print(\"After NMS: \" + str(len(nms_detection_list)) + \" detections\")"
      ],
      "execution_count": 136,
      "outputs": [
        {
          "output_type": "stream",
          "text": [
            "Before NMS: 168 detections\n",
            "After NMS: 158 detections\n"
          ],
          "name": "stdout"
        }
      ]
    },
    {
      "cell_type": "markdown",
      "metadata": {
        "id": "GuyAwIh11qes"
      },
      "source": [
        "### Export CNN detections shapefile"
      ]
    },
    {
      "cell_type": "code",
      "metadata": {
        "id": "FCCJtJtcN69u",
        "colab": {
          "base_uri": "https://localhost:8080/"
        },
        "outputId": "335b3fcd-441b-43bb-c2c4-a19641ba9b77"
      },
      "source": [
        "# open the source image\n",
        "dataset = rasterio.open(orthomosaic_file)\n",
        "\n",
        "# the following section permanently alters nms_detection_list, necessitating the deepcopy backup earlier\n",
        "nms_detection_list = copy.deepcopy(nms_detection_list_backup)\n",
        "\n",
        "# converts orthomosaic pixel coordinates to global coordinates\n",
        "geolocated_bb = []\n",
        "for detection in nms_detection_list:\n",
        "  bounding_box = np.array([[detection['box'][0], detection['box'][1]], [detection['box'][2], detection['box'][1]], [detection['box'][2], detection['box'][3]], [detection['box'][0], detection['box'][3]]]).astype(float)\n",
        "  count = 0\n",
        "  for point in bounding_box:\n",
        "    point = dataset.transform * point\n",
        "    bounding_box[count] = point\n",
        "    count += 1\n",
        "  detection['box'] = bounding_box\n",
        "print(nms_detection_list[:3])"
      ],
      "execution_count": 162,
      "outputs": [
        {
          "output_type": "stream",
          "text": [
            "[{'box': array([[ 292345.79734, 5100323.74556],\n",
            "       [ 292348.77953, 5100323.74556],\n",
            "       [ 292348.77953, 5100321.30232],\n",
            "       [ 292345.79734, 5100321.30232]]), 'score': 0.882012814502266, 'label': 'Adult', 'subset': 'training'}, {'box': array([[ 292341.9169 , 5100333.94968],\n",
            "       [ 292344.93502, 5100333.94968],\n",
            "       [ 292344.93502, 5100331.68609],\n",
            "       [ 292341.9169 , 5100331.68609]]), 'score': 0.8270042194092827, 'label': 'Adult', 'subset': 'training'}, {'box': array([[ 292361.75026, 5100333.91375],\n",
            "       [ 292363.90606, 5100333.91375],\n",
            "       [ 292363.90606, 5100331.00342],\n",
            "       [ 292361.75026, 5100331.00342]]), 'score': 0.759493670886076, 'label': 'Adult', 'subset': 'training'}]\n"
          ],
          "name": "stdout"
        }
      ]
    },
    {
      "cell_type": "code",
      "metadata": {
        "id": "0fKKpsQ5pVV7"
      },
      "source": [
        "# write out the detections as a shapefile\n",
        "\n",
        "from collections import OrderedDict\n",
        "import fiona\n",
        "from fiona.crs import from_epsg\n",
        "\n",
        "# Set output directory\n",
        "output_dir = 'shapefile_output'\n",
        "\n",
        "# create the dir if it doesn't already exist\n",
        "if not os.path.exists(output_dir):\n",
        "    os.makedirs(output_dir)\n",
        "\n",
        "# Define your schema as a polygon geom with a couple of fields\n",
        "schema = {\n",
        "    'geometry': 'Polygon',\n",
        "    'properties': OrderedDict([\n",
        "        ('ImageName', 'str'),\n",
        "        ('Detection', 'str'),\n",
        "        ('Score', 'float')\n",
        "  ])\n",
        "}\n",
        "\n",
        "with fiona.open(output_dir + '/seal_detections.shp',\n",
        "    'w',\n",
        "    driver='ESRI Shapefile',\n",
        "    crs=dataset.crs,\n",
        "    schema=schema) as c:\n",
        "    \n",
        "    for num, polygon in enumerate(nms_detection_list):\n",
        "      record = {\n",
        "            'geometry': {'coordinates': [polygon['box']], 'type': 'Polygon'},\n",
        "            'id': num,\n",
        "            'properties': OrderedDict([('ImageName', orthomosaic_file),\n",
        "                                       ('Detection', labels_to_names[polygon['label']]),\n",
        "                                       ('Score', polygon['score'])\n",
        "                                       ]),\n",
        "            'type': 'Feature'}\n",
        "      c.write(record)"
      ],
      "execution_count": 17,
      "outputs": []
    },
    {
      "cell_type": "markdown",
      "metadata": {
        "id": "mKfVjeklm1rt"
      },
      "source": [
        "### Zip output folder for download"
      ]
    },
    {
      "cell_type": "code",
      "metadata": {
        "colab": {
          "base_uri": "https://localhost:8080/",
          "height": 17
        },
        "id": "aAmS92vcm1rt",
        "outputId": "97d794d0-791a-4ed3-88bb-eabbc157c06d"
      },
      "source": [
        "# zip up the output directory into an archive for download\n",
        "import subprocess\n",
        "subprocess.call(['zip', '-r', '/content/' + output_dir + '.zip', '/content/' + output_dir])\n",
        "\n",
        "from google.colab import files\n",
        "files.download(\"/content/\" + output_dir + \".zip\")"
      ],
      "execution_count": 18,
      "outputs": [
        {
          "output_type": "display_data",
          "data": {
            "application/javascript": [
              "\n",
              "    async function download(id, filename, size) {\n",
              "      if (!google.colab.kernel.accessAllowed) {\n",
              "        return;\n",
              "      }\n",
              "      const div = document.createElement('div');\n",
              "      const label = document.createElement('label');\n",
              "      label.textContent = `Downloading \"${filename}\": `;\n",
              "      div.appendChild(label);\n",
              "      const progress = document.createElement('progress');\n",
              "      progress.max = size;\n",
              "      div.appendChild(progress);\n",
              "      document.body.appendChild(div);\n",
              "\n",
              "      const buffers = [];\n",
              "      let downloaded = 0;\n",
              "\n",
              "      const channel = await google.colab.kernel.comms.open(id);\n",
              "      // Send a message to notify the kernel that we're ready.\n",
              "      channel.send({})\n",
              "\n",
              "      for await (const message of channel.messages) {\n",
              "        // Send a message to notify the kernel that we're ready.\n",
              "        channel.send({})\n",
              "        if (message.buffers) {\n",
              "          for (const buffer of message.buffers) {\n",
              "            buffers.push(buffer);\n",
              "            downloaded += buffer.byteLength;\n",
              "            progress.value = downloaded;\n",
              "          }\n",
              "        }\n",
              "      }\n",
              "      const blob = new Blob(buffers, {type: 'application/binary'});\n",
              "      const a = document.createElement('a');\n",
              "      a.href = window.URL.createObjectURL(blob);\n",
              "      a.download = filename;\n",
              "      div.appendChild(a);\n",
              "      a.click();\n",
              "      div.remove();\n",
              "    }\n",
              "  "
            ],
            "text/plain": [
              "<IPython.core.display.Javascript object>"
            ]
          },
          "metadata": {
            "tags": []
          }
        },
        {
          "output_type": "display_data",
          "data": {
            "application/javascript": [
              "download(\"download_5e10aa83-c7d4-435d-8183-86cd32c669de\", \"shapefile_output.zip\", 10297)"
            ],
            "text/plain": [
              "<IPython.core.display.Javascript object>"
            ]
          },
          "metadata": {
            "tags": []
          }
        }
      ]
    },
    {
      "cell_type": "markdown",
      "metadata": {
        "id": "Jb_yWaChpVV_"
      },
      "source": [
        "### RetinaNet to Existing VIA"
      ]
    },
    {
      "cell_type": "code",
      "metadata": {
        "id": "KxZjZKbfpVV_"
      },
      "source": [
        "# open the previous training JSON data\n",
        "with open(local_download_path + '/via_SealCNN_TrainingData.json') as f:\n",
        "    existing_labels = json.load(f)\n",
        "\n",
        "# add the new detections to the training JSON file\n",
        "with open(new_detections_file) as f:\n",
        "    detected_labels = json.load(f)\n",
        "    \n",
        "#\"11_fiX1mEhK\",\"[\"\"2015_02_02_hay_island_flight03_s110rgb_jpeg_mosaic_group1---27.png\"\"]\",0,\"[]\",\"[2,509.275,929.174,89.376,48.904]\",\"{}\"\n",
        "\n",
        "for filepath, detections in detected_labels.items():\n",
        "    fn = filepath.split(\"/\")[-1]\n",
        "    # TODO is deep copy correct?\n",
        "    annotations = existing_labels[\"_via_img_metadata\"]\n",
        "    for filename_size, metadata in annotations.items():\n",
        "        print(metadata.items())\n",
        "        if fn == metadata[\"filename\"]:\n",
        "            for detection in detections:\n",
        "                # 'box' : [x1, y1, x2, y2]\n",
        "                x1 = detection[\"box\"][0]\n",
        "                y1 = detection[\"box\"][1]\n",
        "                x2 = detection[\"box\"][2]\n",
        "                y2 = detection[\"box\"][3]\n",
        "                metadata[\"regions\"].append({'shape_attributes': {'name': 'rect', 'x': x1, 'y': y1, 'width': x2-x1, 'height': y2-y1}, 'region_attributes': {}})"
      ],
      "execution_count": null,
      "outputs": []
    },
    {
      "cell_type": "code",
      "metadata": {
        "id": "ioY92hB7pVWB"
      },
      "source": [
        "# write out new VIA file with additional detections\n",
        "\n",
        "with open(local_download_path + '/via_region_data_detections.json', 'w') as fp:\n",
        "    json.dump(existing_labels, fp)\n",
        "    \n",
        "from google.colab import files\n",
        "files.download(local_download_path + \"/via_region_data_detections.json\")\n",
        "\n",
        "# might be worth adding a section or conversion to allow this joined file to be converted to shapefile too."
      ],
      "execution_count": null,
      "outputs": []
    },
    {
      "cell_type": "markdown",
      "metadata": {
        "id": "D98r_mFO4ooy"
      },
      "source": [
        "### New Stuff: exporting VIA annotations as a shape file"
      ]
    },
    {
      "cell_type": "code",
      "metadata": {
        "id": "qOA7TmS66Y1S"
      },
      "source": [
        "# make a dictionary where {filename} calls {subset type}\r\n",
        "with open(subset_list_file, \"r\") as f:\r\n",
        "    reader = csv.reader(f, delimiter=\",\")\r\n",
        "    subset_dict = {i[0]:i[1] for i in reader}"
      ],
      "execution_count": 179,
      "outputs": []
    },
    {
      "cell_type": "code",
      "metadata": {
        "id": "s3d8-GkH4nqb"
      },
      "source": [
        "via_annotations_list = []\r\n",
        "\r\n",
        "# read each line, parse it, convert it, put it all back together\r\n",
        "# then drop it in the appropriate subset\r\n",
        "with open(via_annotations_file, \"r\") as f:\r\n",
        "    reader = csv.reader(f, delimiter=\",\")\r\n",
        "    for line in reader: \r\n",
        "        # output we want:\r\n",
        "        # format: path/to/image.jpg,x1,y1,x2,y2,class_name\r\n",
        "        # example: /data/imgs/img_001.jpg,837,346,981,456,cow\r\n",
        "        if 'filename' in line[0]:\r\n",
        "            # bypassing comments in csv\r\n",
        "            continue\r\n",
        "        if '{}' in line[5]:\r\n",
        "            #bypassing empty images\r\n",
        "            continue\r\n",
        "            \r\n",
        "        filename = line[0]\r\n",
        "        \r\n",
        "        # pulling from column named \"region_shape_attributes\"\r\n",
        "        box_entry = json.loads(line[5])\r\n",
        "        top_left_x, top_left_y, width, height = box_entry[\"x\"], box_entry[\"y\"], box_entry[\"width\"], box_entry[\"height\"]\r\n",
        "        if width == 0 or height == 0:\r\n",
        "            continue\r\n",
        "            # skip tiny/empty boxes\r\n",
        "        \r\n",
        "        # define area for NMS ranking later\r\n",
        "        area = width * height\r\n",
        "\r\n",
        "        # convert from \"top left and width/height\" to \"x and y values at each corner of the box\"\r\n",
        "        if top_left_x < 0:\r\n",
        "            top_left_x = 1\r\n",
        "        if top_left_y < 0:\r\n",
        "            top_left_y = 1\r\n",
        "        x1 = top_left_x\r\n",
        "        x2 = top_left_x + width\r\n",
        "        y1 = top_left_y\r\n",
        "        y2 = top_left_y + height \r\n",
        "        \r\n",
        "        # pulling from column named \"region_attributes\" to get class names\r\n",
        "        name = json.loads(line[6])[\"Age Class\"]\r\n",
        "\r\n",
        "        # skip unknown class, in this case. Might be useful in other applications though, e.g. total count\r\n",
        "        if name == \"Unknown\":\r\n",
        "            continue\r\n",
        "        \r\n",
        "        # pull subset from dictionary\r\n",
        "        subset_type = subset_dict[filename]\r\n",
        "\r\n",
        "        # create the annotation row\r\n",
        "        new_row = []\r\n",
        "        new_row.append(filename)\r\n",
        "        new_row.append([x1,y1])\r\n",
        "        new_row.append([x2,y1])\r\n",
        "        new_row.append([x2,y2])\r\n",
        "        new_row.append([x1,y2])\r\n",
        "        new_row.append(name)\r\n",
        "        new_row.append(area)\r\n",
        "        new_row.append(subset_type)\r\n",
        "\r\n",
        "        # append the row to the our list\r\n",
        "        via_annotations_list.append(new_row)\r\n",
        "print(via_annotations_list[0:5])"
      ],
      "execution_count": null,
      "outputs": []
    },
    {
      "cell_type": "code",
      "metadata": {
        "colab": {
          "base_uri": "https://localhost:8080/"
        },
        "id": "mkmJg5ivJEk2",
        "outputId": "742c521a-e0ad-4efb-928a-817d47497bb4"
      },
      "source": [
        "# give each detection a score for NMS, based on its area and prioritized by\r\n",
        "# testing > training datasets so during NMS if we encounter duplicates we prioritize\r\n",
        "# testing data for accuracy evaluation, and within that prioritization, we prioritize\r\n",
        "# larger boxes over smaller boxes (in case any \"edge\" animals were duplicated)\r\n",
        "area_max = max(list(i[6] for i in via_annotations_list))\r\n",
        "scores = []\r\n",
        "boxes = []\r\n",
        "\r\n",
        "detection_list = []\r\n",
        "for i in via_annotations_list:\r\n",
        "  score = i[6]/area_max\r\n",
        "  if i[7] != 'testing':\r\n",
        "    score = 0.01 * score\r\n",
        "  scores.append(score)\r\n",
        "\r\n",
        "  bounding_box = np.array([i[1],i[2],i[3],i[4]])\r\n",
        "  # update the new coordinates format from local tile coordinates to orthomosaic coordinates\r\n",
        "  bounding_box = bounding_box + [img_data[\"image_locations\"][i[0]]]\r\n",
        "  # convert our bounding box from coordinates format back to x1/y1/x2/y2 format\r\n",
        "  bounding_box = [bounding_box[0][0], bounding_box[0][1], bounding_box[1][0], bounding_box[2][1]] \r\n",
        "  boxes.append(bounding_box)\r\n",
        "\r\n",
        "  # update the dictionary\r\n",
        "  detection = {\"box\":bounding_box, \"score\":score, \"label\":i[5], \"subset\":i[7]}\r\n",
        "  #build our detection list. Note we no longer need filenames because the coordinates are no longer local\r\n",
        "  detection_list.append(detection)\r\n",
        "print(detection_list[0:3])"
      ],
      "execution_count": 200,
      "outputs": [
        {
          "output_type": "stream",
          "text": [
            "[{'box': [9815, 1847, 9881, 1879], 'score': 0.003300515705578997, 'label': 'Adult', 'subset': 'training'}, {'box': [10159, 1837, 10198, 1863], 'score': 0.001584622597280825, 'label': 'Pup', 'subset': 'training'}, {'box': [9832, 1819, 9868, 1852], 'score': 0.0018565400843881857, 'label': 'Pup', 'subset': 'training'}]\n"
          ],
          "name": "stdout"
        }
      ]
    },
    {
      "cell_type": "code",
      "metadata": {
        "colab": {
          "base_uri": "https://localhost:8080/"
        },
        "id": "Tz8Cb8RM3izp",
        "outputId": "37d66e44-bb54-404d-cad0-0326793e4788"
      },
      "source": [
        "bboxes = np.array(boxes)\r\n",
        "pick = non_max_suppression(bboxes, scores, 0.6)\r\n",
        "nms_detection_list = []\r\n",
        "for i in pick:\r\n",
        "  nms_detection_list.append(detection_list[i])\r\n",
        "\r\n",
        "# backup the nms_detection_list before running next section, so if something\r\n",
        "# goes wrong we don't need to re-run the whole code\r\n",
        "nms_detection_list_backup = copy.deepcopy(nms_detection_list)\r\n",
        "\r\n",
        "print(\"Before NMS: \" + str(len(detection_list)) + \" detections\")\r\n",
        "print(\"After NMS: \" + str(len(nms_detection_list)) + \" detections\")"
      ],
      "execution_count": 201,
      "outputs": [
        {
          "output_type": "stream",
          "text": [
            "Before NMS: 2719 detections\n",
            "After NMS: 2368 detections\n"
          ],
          "name": "stdout"
        }
      ]
    },
    {
      "cell_type": "markdown",
      "metadata": {
        "id": "3CVjR0cp4keA"
      },
      "source": [
        "### Export shapefile"
      ]
    },
    {
      "cell_type": "code",
      "metadata": {
        "colab": {
          "base_uri": "https://localhost:8080/"
        },
        "id": "pkhP6Dh34keW",
        "outputId": "f8e2369f-3b61-4cf7-b6d6-dcab0c087c19"
      },
      "source": [
        "# open the source image\n",
        "dataset = rasterio.open(orthomosaic_file)\n",
        "\n",
        "# this section permanently alters nms_detection_list, necessitating the deepcopy backup earlier\n",
        "nms_detection_list = copy.deepcopy(nms_detection_list_backup)\n",
        "geolocated_bb = []\n",
        "for detection in nms_detection_list:\n",
        "  bounding_box = np.array([[detection['box'][0], detection['box'][1]], [detection['box'][2], detection['box'][1]], [detection['box'][2], detection['box'][3]], [detection['box'][0], detection['box'][3]]]).astype(float)\n",
        "  count = 0\n",
        "  for point in bounding_box:\n",
        "    point = dataset.transform * point\n",
        "    bounding_box[count] = point\n",
        "    count += 1\n",
        "  detection['box'] = bounding_box\n",
        "print(nms_detection_list[0:3])"
      ],
      "execution_count": 203,
      "outputs": [
        {
          "output_type": "stream",
          "text": [
            "[{'box': array([[ 292015.24134, 5100059.30076],\n",
            "       [ 292018.22353, 5100059.30076],\n",
            "       [ 292018.22353, 5100056.85752],\n",
            "       [ 292015.24134, 5100056.85752]]), 'score': 0.882012814502266, 'label': 'Adult', 'subset': 'testing'}, {'box': array([[ 291978.3053 , 5099904.22688],\n",
            "       [ 291981.32342, 5099904.22688],\n",
            "       [ 291981.32342, 5099901.96329],\n",
            "       [ 291978.3053 , 5099901.96329]]), 'score': 0.8270042194092827, 'label': 'Adult', 'subset': 'testing'}, {'box': array([[ 292130.36106, 5100003.35775],\n",
            "       [ 292132.51686, 5100003.35775],\n",
            "       [ 292132.51686, 5100000.44742],\n",
            "       [ 292130.36106, 5100000.44742]]), 'score': 0.759493670886076, 'label': 'Adult', 'subset': 'testing'}]\n"
          ],
          "name": "stdout"
        }
      ]
    },
    {
      "cell_type": "code",
      "metadata": {
        "id": "BYlR1CrB4kea"
      },
      "source": [
        "# write out the detections as a shapefile\n",
        "\n",
        "from collections import OrderedDict\n",
        "import fiona\n",
        "from fiona.crs import from_epsg\n",
        "\n",
        "# Set output directory\n",
        "output_dir = 'shapefile_output'\n",
        "\n",
        "# create the dir if it doesn't already exist\n",
        "if not os.path.exists(output_dir):\n",
        "    os.makedirs(output_dir)\n",
        "\n",
        "# Define your schema as a polygon geom with a couple of fields\n",
        "schema = {\n",
        "    'geometry': 'Polygon',\n",
        "    'properties': OrderedDict([\n",
        "        ('ImageName', 'str'),\n",
        "        ('Detection', 'str'),\n",
        "        ('Subset', 'str'),\n",
        "  ])\n",
        "}\n",
        "\n",
        "with fiona.open(output_dir + '/seal_detections.shp',\n",
        "    'w',\n",
        "    driver='ESRI Shapefile',\n",
        "    crs=dataset.crs,\n",
        "    schema=schema) as c:\n",
        "    \n",
        "    for num, polygon in enumerate(nms_detection_list):\n",
        "      record = {\n",
        "            'geometry': {'coordinates': [polygon['box']], 'type': 'Polygon'},\n",
        "            'id': num,\n",
        "            'properties': OrderedDict([('ImageName', orthomosaic_file),\n",
        "                                       ('Detection', polygon['label']),\n",
        "                                       ('Subset', polygon['subset'])\n",
        "                                       ]),\n",
        "            'type': 'Feature'}\n",
        "      c.write(record)"
      ],
      "execution_count": 204,
      "outputs": []
    },
    {
      "cell_type": "markdown",
      "metadata": {
        "id": "E_ULh0LY4keb"
      },
      "source": [
        "### Zip output folder for download"
      ]
    },
    {
      "cell_type": "code",
      "metadata": {
        "colab": {
          "base_uri": "https://localhost:8080/",
          "height": 17
        },
        "id": "9mLJIsK_4kec",
        "outputId": "68511141-5248-43b1-d6fe-d5f55a8c5e45"
      },
      "source": [
        "# zip up the output directory into an archive for download\n",
        "import subprocess\n",
        "subprocess.call(['zip', '-r', '/content/' + output_dir + '.zip', '/content/' + output_dir])\n",
        "\n",
        "from google.colab import files\n",
        "files.download(\"/content/\" + output_dir + \".zip\")"
      ],
      "execution_count": 205,
      "outputs": [
        {
          "output_type": "display_data",
          "data": {
            "application/javascript": [
              "\n",
              "    async function download(id, filename, size) {\n",
              "      if (!google.colab.kernel.accessAllowed) {\n",
              "        return;\n",
              "      }\n",
              "      const div = document.createElement('div');\n",
              "      const label = document.createElement('label');\n",
              "      label.textContent = `Downloading \"${filename}\": `;\n",
              "      div.appendChild(label);\n",
              "      const progress = document.createElement('progress');\n",
              "      progress.max = size;\n",
              "      div.appendChild(progress);\n",
              "      document.body.appendChild(div);\n",
              "\n",
              "      const buffers = [];\n",
              "      let downloaded = 0;\n",
              "\n",
              "      const channel = await google.colab.kernel.comms.open(id);\n",
              "      // Send a message to notify the kernel that we're ready.\n",
              "      channel.send({})\n",
              "\n",
              "      for await (const message of channel.messages) {\n",
              "        // Send a message to notify the kernel that we're ready.\n",
              "        channel.send({})\n",
              "        if (message.buffers) {\n",
              "          for (const buffer of message.buffers) {\n",
              "            buffers.push(buffer);\n",
              "            downloaded += buffer.byteLength;\n",
              "            progress.value = downloaded;\n",
              "          }\n",
              "        }\n",
              "      }\n",
              "      const blob = new Blob(buffers, {type: 'application/binary'});\n",
              "      const a = document.createElement('a');\n",
              "      a.href = window.URL.createObjectURL(blob);\n",
              "      a.download = filename;\n",
              "      div.appendChild(a);\n",
              "      a.click();\n",
              "      div.remove();\n",
              "    }\n",
              "  "
            ],
            "text/plain": [
              "<IPython.core.display.Javascript object>"
            ]
          },
          "metadata": {
            "tags": []
          }
        },
        {
          "output_type": "display_data",
          "data": {
            "application/javascript": [
              "download(\"download_9fb3eab6-f354-40bb-b6c0-dff687a38599\", \"shapefile_output.zip\", 106948)"
            ],
            "text/plain": [
              "<IPython.core.display.Javascript object>"
            ]
          },
          "metadata": {
            "tags": []
          }
        }
      ]
    }
  ]
}