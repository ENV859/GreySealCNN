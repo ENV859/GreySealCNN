{
 "cells": [
  {
   "cell_type": "markdown",
   "metadata": {
    "id": "tl0scVF_G5VV"
   },
   "source": [
    "# Inspect, Crop/Tile, and Export UAS Imagery\n",
    "\n",
    "To create the environment, install the following\n",
    "```\n",
    "conda install -c conda-forge jupyter rasterio pyproj pillow matplotlib\n",
    "``` "
   ]
  },
  {
   "cell_type": "markdown",
   "metadata": {
    "id": "az4U54aCG5Vg"
   },
   "source": [
    "### Set up the python environment and prep some variables"
   ]
  },
  {
   "cell_type": "code",
   "execution_count": null,
   "metadata": {
    "colab": {
     "base_uri": "https://localhost:8080/",
     "height": 659
    },
    "id": "Flzb9-t9G5Vg",
    "outputId": "07600f47-b8a4-449d-916d-e9a838830f2e"
   },
   "outputs": [],
   "source": [
    "#Import librarries\n",
    "from PIL import Image\n",
    "import os\n",
    "import argparse\n",
    "import numpy as np\n",
    "import json\n",
    "import csv\n",
    "import rasterio\n",
    "import matplotlib\n",
    "import folium\n",
    "#from pyproj import Proj, transform\n",
    "from pyproj import Transformer\n",
    "\n",
    "%matplotlib inline\n",
    "\n",
    "Image.MAX_IMAGE_PIXELS = None"
   ]
  },
  {
   "cell_type": "code",
   "execution_count": null,
   "metadata": {},
   "outputs": [],
   "source": [
    "#Filename for the image file\n",
    "orthomosaic_file = './data/raw/2015_02_02_hay_island_flight03_s110rgb_jpeg_mosaic_group1.tif'\n",
    "\n",
    "# generous estimate of object length in meters\n",
    "seal_length = 2.6\n",
    "\n",
    "# nodata value in your imagery, if one applies for your input dataset\n",
    "nodata_value = (255,255,255)"
   ]
  },
  {
   "cell_type": "code",
   "execution_count": null,
   "metadata": {
    "colab": {
     "base_uri": "https://localhost:8080/",
     "height": 659
    },
    "id": "Flzb9-t9G5Vg",
    "outputId": "07600f47-b8a4-449d-916d-e9a838830f2e"
   },
   "outputs": [],
   "source": [
    "#Read in the image file\n",
    "dataset = rasterio.open(orthomosaic_file)"
   ]
  },
  {
   "cell_type": "markdown",
   "metadata": {
    "id": "Y37DXCxxG5Vh"
   },
   "source": [
    "### Examine the metadata of the orthomosiac\n",
    "This is mostly for checking/viewing info, but it does also set up some critical variables for later"
   ]
  },
  {
   "cell_type": "code",
   "execution_count": null,
   "metadata": {
    "colab": {
     "base_uri": "https://localhost:8080/"
    },
    "id": "Yr_PTAq0G5Vh",
    "outputId": "4123c34b-0137-4d6b-8fbc-f33d1769ad60"
   },
   "outputs": [],
   "source": [
    "# what is the name of this image\n",
    "print('Image filename: {n}\\n'.format(n=dataset.name))\n",
    "\n",
    "# How many bands does this image have?\n",
    "num_bands = dataset.count\n",
    "print('Number of bands in image: {n}\\n'.format(n=num_bands))\n",
    "\n",
    "# How many rows and columns?\n",
    "rows, cols = dataset.shape\n",
    "print('Image size is: {r} rows x {c} columns\\n'.format(r=rows, c=cols))\n",
    "\n",
    "# Does the raster have a description or metadata?\n",
    "desc = dataset.descriptions\n",
    "metadata = dataset.meta\n",
    "\n",
    "if desc[0]: \n",
    "    print('Raster description: {desc}\\n'.format(desc=desc))\n",
    "\n",
    "# What driver was used to open the raster?\n",
    "driver = dataset.driver\n",
    "print('Raster driver: {d}\\n'.format(d=driver))\n",
    "\n",
    "# What is the raster's projection?\n",
    "proj = dataset.crs\n",
    "print('Image projection:')\n",
    "print(proj, '\\n')\n",
    "\n",
    "# What is the raster's \"geo-transform\"\n",
    "gt = dataset.transform\n",
    "print('Image geo-transform:\\n{gt}\\n'.format(gt=gt))\n",
    "\n",
    "# What are the pixel dimensions\n",
    "pixelSizeX = gt[0]\n",
    "pixelSizeY =-gt[4]\n",
    "print(\"pixel X dimension: \" + str(pixelSizeX))\n",
    "print(\"pixel Y dimension: \" + str(pixelSizeY))\n",
    "\n",
    "#print('All raster metadata:')\n",
    "#print(metadata)\n",
    "#print('\\n')"
   ]
  },
  {
   "cell_type": "markdown",
   "metadata": {
    "heading_collapsed": true,
    "id": "w-9mOoThG5Vh"
   },
   "source": [
    "### Plot the image\n",
    "Also mostly for viewing and confirming that things look appropriate"
   ]
  },
  {
   "cell_type": "code",
   "execution_count": null,
   "metadata": {
    "colab": {
     "base_uri": "https://localhost:8080/",
     "height": 874
    },
    "hidden": true,
    "id": "CWe6pXyQG5Vi",
    "outputId": "9c614412-d115-41a2-fbc9-2704c3e559b9"
   },
   "outputs": [],
   "source": [
    "from rasterio.plot import show\n",
    "from rasterio.windows import Window\n",
    "import matplotlib.pyplot as plt\n",
    "\n",
    "fig, ax = plt.subplots(figsize=(15,15))\n",
    "\n",
    "show(dataset.read((1,2,3), window=Window(5000, 5000, 2000, 2000)), transform=dataset.transform, ax=ax)\n",
    "plt.show()"
   ]
  },
  {
   "cell_type": "markdown",
   "metadata": {
    "id": "BgmGGA-HG5Vi"
   },
   "source": [
    "### Visualize on the Map\n",
    "Again, mostly a disgnostic check"
   ]
  },
  {
   "cell_type": "code",
   "execution_count": null,
   "metadata": {},
   "outputs": [],
   "source": [
    "#Rasterio transformations\n",
    "utm_tl = dataset.transform * (0, 0)                          #Top left\n",
    "utm_br = dataset.transform * (dataset.width, dataset.height) #Bottom right\n",
    "utm_center = dataset.transform * (dataset.width // 2, dataset.height // 2)\n",
    "\n",
    "#Create the tranformer object\n",
    "transformer = Transformer.from_crs(crs_from = dataset.crs.to_epsg(), crs_to = \"epsg:4326\") \n",
    "\n",
    "#Create set of absolute coordinates\n",
    "positions = (\n",
    "    dataset.transform * (0, 0), \n",
    "    dataset.transform * (dataset.width, 0), \n",
    "    dataset.transform * (dataset.width, dataset.height), \n",
    "    dataset.transform * (0, dataset.height))\n",
    "\n",
    "#Transform coordinates to WGS 84\n",
    "tl_lat, tl_long = transformer.transform(utm_tl[0], utm_tl[1])\n",
    "br_lat, br_long = transformer.transform(utm_br[0], utm_br[1])\n",
    "center_lat, center_long = transformer.transform(utm_center[0], utm_center[1])\n",
    "\n",
    "lats, longs = transformer.transform(np.array(positions)[:,0],np.array(positions)[:,1])\n",
    "points = list(zip(lats, longs))\n",
    "print(tl_long,tl_lat)"
   ]
  },
  {
   "cell_type": "code",
   "execution_count": null,
   "metadata": {
    "colab": {
     "base_uri": "https://localhost:8080/",
     "height": 541
    },
    "id": "td8yHMoFG5Vj",
    "outputId": "487c0c00-2f9e-4bb8-b97d-6d54de63658d"
   },
   "outputs": [],
   "source": [
    "m = folium.Map(location=[center_lat, center_long])\n",
    "\n",
    "tooltip=\"Raster\"\n",
    "#folium.Marker([tl_lat, tl_long], popup='<i>Raster Top Left</i>', tooltip=tooltip).add_to(m)\n",
    "#folium.Marker([br_lat, br_long], popup='<i>Raster Bottom right</i>', tooltip=tooltip).add_to(m)\n",
    "#folium.Marker([center_lat, center_long], popup='<i>Raster Center</i>', tooltip=tooltip).add_to(m)\n",
    "\n",
    "folium.Polygon(points, \n",
    "               tooltip=tooltip, \n",
    "               popup='Laurelhurst Park',\n",
    "               color='#3186cc',\n",
    "               fill=True,\n",
    "               fill_color='#3186cc').add_to(m)\n",
    "\n",
    "#folium.PolyLine(points, color=\"red\", weight=100, opacity=1).add_to(m)\n",
    "\n",
    "m"
   ]
  },
  {
   "cell_type": "markdown",
   "metadata": {
    "id": "AyPTIx4yG5Vj"
   },
   "source": [
    "### Crop the Image into Tiles\n",
    "This section breaks up the orthomosaic image into tiles. <b> It is important to set the `overlap` variable to the pixel-length of at least 1 target object (here, a seal) </b> in case the tiling process \"cuts up\" some of your objects into undetectable shapes at the edges. Adequate `overlap` ensures that a target object that gets \"cut up\" on one edge, will be intact in an adjacent image."
   ]
  },
  {
   "cell_type": "code",
   "execution_count": null,
   "metadata": {
    "id": "eNK3MLzVG5Vj"
   },
   "outputs": [],
   "source": [
    "from rasterio.plot import reshape_as_image\n",
    "from rasterio.windows import Window\n",
    "\n",
    "# set tile size (pixels): this is dictated by what constitutes a managable filesize for processing\n",
    "tile_height = tile_width = 2000\n",
    "\n",
    "# set overlap: this should equal 1–2x the pixel-length of our feature of interest\n",
    "overlap = round((seal_length / pixelSizeX) * 1.1)\n",
    "\n",
    "stride = tile_height - overlap\n",
    "start_num=0\n",
    "\n",
    "def crop(orthomosaic_file, tile_height, tile_width, stride, img_dict, prj_name):\n",
    "    im = rasterio.open(orthomosaic_file) \n",
    "    img_height, img_width = im.shape\n",
    "    print(im.shape)\n",
    "    count = 0\n",
    "    for r in range(0, img_height, stride):\n",
    "        for c in range(0, img_width, stride):\n",
    "            tile = dataset.read((1,2,3),window=Window(c, r, tile_width, tile_height))\n",
    "            tile = reshape_as_image(tile)\n",
    "            top_pixel = [c,r]\n",
    "            count += 1\n",
    "            yield tile, top_pixel"
   ]
  },
  {
   "cell_type": "markdown",
   "metadata": {
    "id": "GVPkKWxtG5Vj"
   },
   "source": [
    "### Split the image up into `height` × `width` patches"
   ]
  },
  {
   "cell_type": "code",
   "execution_count": null,
   "metadata": {},
   "outputs": [],
   "source": [
    "orthomosaic_file.split(\"/\")[-1].split(\".\")[0]"
   ]
  },
  {
   "cell_type": "code",
   "execution_count": null,
   "metadata": {
    "id": "o-nGX8pwG5Vk"
   },
   "outputs": [],
   "source": [
    "prj_name = orthomosaic_file.split(\"/\")[-1].split(\".\")[0]\n",
    "img = Image\n",
    "img_dict = {}\n",
    "\n",
    "# use this variable to set output directory\n",
    "output_dir = 'tiled_data'\n",
    "try:\n",
    "  os.makedirs(output_dir)\n",
    "except: pass\n",
    "\n",
    "# create the dir if it doesn't already exist\n",
    "if not os.path.exists(output_dir):\n",
    "    os.makedirs(output_dir)\n",
    "\n",
    "# break it up into crops\n",
    "for k, tile_w_point in enumerate(crop(orthomosaic_file, tile_height, tile_width, stride, img_dict, prj_name), start_num):\n",
    "    empty_data = [(0,0,0), nodata_value]\n",
    "    try:\n",
    "      img=Image.fromarray(tile_w_point[0])\n",
    "    except ValueError:\n",
    "      print(\"End of set at file \" + image_name)\n",
    "      break\n",
    "    image_name = prj_name + \"---%s.png\" % k\n",
    "    print(image_name)\n",
    "    corner1, corner2, corner3, corner4 = img.load()[0, 0], img.load()[0, img.size[1]-1], img.load()[img.size[0]-1, img.size[1]-1], img.load()[img.size[0]-1, 0]\n",
    "    if corner1 in empty_data and corner2 in empty_data and corner3 in empty_data and corner4 in empty_data:\n",
    "      print(\"empty tile, skipped\")\n",
    "      continue\n",
    "    img_dict[image_name] = tile_w_point[1]\n",
    "    path=os.path.join(output_dir, image_name)\n",
    "    img.save(path)"
   ]
  },
  {
   "cell_type": "markdown",
   "metadata": {
    "id": "csgKsaHfG5Vk"
   },
   "source": [
    "### Create a .json file with all image names and geospatial metadata\n",
    "This is important for storing how the tiles fit together, we will need this later to stitch our detections back together"
   ]
  },
  {
   "cell_type": "code",
   "execution_count": null,
   "metadata": {
    "id": "IXkFpMWBG5Vk"
   },
   "outputs": [],
   "source": [
    "full_dict = {\"image_name\" : orthomosaic_file,\n",
    "            \"image_locations\" : img_dict,\n",
    "             \"crs\" : str(dataset.crs)\n",
    "            }\n",
    "json_output = output_dir + '/tiling_scheme.json'\n",
    "\n",
    "with open(json_output, 'w') as fp:\n",
    "    json.dump({\"orthomosaic_file\":orthomosaic_file.split(\"/\")[-1], \"spatial_reference\":str(proj), \"transform\":gt, \"tile_height\":tile_height, \"tile_width\":tile_width, \"tile_overlap\":overlap, \"tile_pointers\":full_dict}, fp)"
   ]
  },
  {
   "cell_type": "markdown",
   "metadata": {
    "id": "190041_iG5Vl"
   },
   "source": [
    "##### At the end of this script you should have downloaded all tile files and the `tiling_scheme.json` files. The tiles set should be ready for annotation in VIA to create training data. When you load the script to train the CNN, you will need the tiles and `tiling_scheme.json` file from this script (+ the `json` file from VIA, + annotation `csv` files that have been converted to RetinaNet format)\n",
    "\n",
    "Next steps:\n",
    "\n",
    "2) create annotations in VIA, save `csv` output\n",
    "\n",
    "3) convert annotations from VIA format to RetinaNet format, with Training, Testing, and Validation subsets\n",
    "\n",
    "4) train, refine, and test CNN using VIA annotations and the tiles generated here, produce precision metrics\n",
    "\n",
    "5) export CNN outputs, manual annotations, and tile footprints as shapefiles\n"
   ]
  }
 ],
 "metadata": {
  "colab": {
   "name": "1_orthomosaic_to_tiles.ipynb",
   "provenance": [],
   "toc_visible": true
  },
  "kernelspec": {
   "display_name": "Python 3 (ipykernel)",
   "language": "python",
   "name": "python3"
  },
  "language_info": {
   "codemirror_mode": {
    "name": "ipython",
    "version": 3
   },
   "file_extension": ".py",
   "mimetype": "text/x-python",
   "name": "python",
   "nbconvert_exporter": "python",
   "pygments_lexer": "ipython3",
   "version": "3.10.6"
  }
 },
 "nbformat": 4,
 "nbformat_minor": 1
}
