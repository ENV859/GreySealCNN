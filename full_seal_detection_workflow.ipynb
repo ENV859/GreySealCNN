{
  "nbformat": 4,
  "nbformat_minor": 0,
  "metadata": {
    "kernelspec": {
      "name": "python3",
      "display_name": "Python 3"
    },
    "language_info": {
      "codemirror_mode": {
        "name": "ipython",
        "version": 3
      },
      "file_extension": ".py",
      "mimetype": "text/x-python",
      "name": "python",
      "nbconvert_exporter": "python",
      "pygments_lexer": "ipython3",
      "version": "3.5.2"
    },
    "colab": {
      "name": "full_seal_detection_workflow.ipynb",
      "provenance": [],
      "collapsed_sections": [],
      "include_colab_link": true
    },
    "accelerator": "GPU"
  },
  "cells": [
    {
      "cell_type": "markdown",
      "metadata": {
        "id": "view-in-github",
        "colab_type": "text"
      },
      "source": [
        "<a href=\"https://colab.research.google.com/github/patrickcgray/spottheseal/blob/master/full_seal_detection_workflow.ipynb\" target=\"_parent\"><img src=\"https://colab.research.google.com/assets/colab-badge.svg\" alt=\"Open In Colab\"/></a>"
      ]
    },
    {
      "cell_type": "markdown",
      "metadata": {
        "id": "8XElcTShEQkh",
        "colab_type": "text"
      },
      "source": [
        "# Set up the Model and Data"
      ]
    },
    {
      "cell_type": "markdown",
      "metadata": {
        "id": "AyeiBgQB1skx",
        "colab_type": "text"
      },
      "source": [
        "Download all data from Google Drive onto the Co.Lab machine. This section sets up the environment of our virtual machine, then downloads tiles from our mosaic onto that virtual machine."
      ]
    },
    {
      "cell_type": "code",
      "metadata": {
        "id": "le3bfsAjzSP_",
        "colab_type": "code",
        "colab": {}
      },
      "source": [
        "!pip install -U -q PyDrive\n",
        "import os\n",
        "from pydrive.auth import GoogleAuth\n",
        "from pydrive.drive import GoogleDrive\n",
        "from google.colab import auth\n",
        "from oauth2client.client import GoogleCredentials\n",
        "\n",
        "# 1. Authenticate and create the PyDrive client.\n",
        "auth.authenticate_user()\n",
        "gauth = GoogleAuth()\n",
        "gauth.credentials = GoogleCredentials.get_application_default()\n",
        "drive = GoogleDrive(gauth)\n",
        "\n",
        "# choose a local (colab) directory to store the data.\n",
        "local_download_path = os.path.expanduser('data')\n",
        "try:\n",
        "  os.makedirs(local_download_path)\n",
        "except: pass\n",
        "\n",
        "# 2. Auto-iterate using the query syntax\n",
        "#    https://developers.google.com/drive/v2/web/search-parameters\n",
        "file_list = drive.ListFile(\n",
        "    {'q': \"'1HXZSFn_jy2aqFHk-HQ6cZgalfE-vgGTu' in parents\"}).GetList()\n",
        "\n",
        "count = 0\n",
        "for f in file_list:\n",
        "  count += 1\n",
        "  if count % 10 == 0:\n",
        "    print(count)\n",
        "  # 3. Create & download by id.\n",
        "  fname = os.path.join(local_download_path, f['title'])\n",
        "  f_ = drive.CreateFile({'id': f['id']})\n",
        "  f_.GetContentFile(fname)\n",
        "  "
      ],
      "execution_count": 0,
      "outputs": []
    },
    {
      "cell_type": "code",
      "metadata": {
        "id": "LvOQTEJV8pHC",
        "colab_type": "code",
        "colab": {}
      },
      "source": [
        "! ls data | head -10"
      ],
      "execution_count": 0,
      "outputs": []
    },
    {
      "cell_type": "code",
      "metadata": {
        "id": "N-VXXOfd-LXa",
        "colab_type": "code",
        "colab": {}
      },
      "source": [
        "! pip uninstall --yes keras\n",
        "! pip install keras==2.3.0"
      ],
      "execution_count": 0,
      "outputs": []
    },
    {
      "cell_type": "markdown",
      "metadata": {
        "id": "n-xdfna11L2F",
        "colab_type": "text"
      },
      "source": [
        "### Install the Convolutional Neural Network that will do the detections. \n",
        "\n",
        "This section pulls code for a CNN called \"retinanet\", an existing model that is already trained for object detection, which we will further train for our task."
      ]
    },
    {
      "cell_type": "code",
      "metadata": {
        "id": "_jb7YRXlEUUg",
        "colab_type": "code",
        "colab": {}
      },
      "source": [
        "! git clone https://github.com/fizyr/keras-retinanet/"
      ],
      "execution_count": 0,
      "outputs": []
    },
    {
      "cell_type": "code",
      "metadata": {
        "id": "RuULO44w6yx8",
        "colab_type": "code",
        "colab": {}
      },
      "source": [
        "% cd keras-retinanet"
      ],
      "execution_count": 0,
      "outputs": []
    },
    {
      "cell_type": "markdown",
      "metadata": {
        "id": "h7c-eGm41fjg",
        "colab_type": "text"
      },
      "source": [
        "Install the \"retinanet\" code so we can run it."
      ]
    },
    {
      "cell_type": "code",
      "metadata": {
        "id": "Pw8ZT-aU99ty",
        "colab_type": "code",
        "colab": {}
      },
      "source": [
        "! pip install ."
      ],
      "execution_count": 0,
      "outputs": []
    },
    {
      "cell_type": "code",
      "metadata": {
        "id": "Uu_IOPbC44SC",
        "colab_type": "code",
        "colab": {}
      },
      "source": [
        "! python setup.py build_ext --inplace"
      ],
      "execution_count": 0,
      "outputs": []
    },
    {
      "cell_type": "code",
      "metadata": {
        "id": "WJZItqKH7GHS",
        "colab_type": "code",
        "colab": {}
      },
      "source": [
        "% cd ../"
      ],
      "execution_count": 0,
      "outputs": []
    },
    {
      "cell_type": "markdown",
      "metadata": {
        "id": "P-XDi2Ct1nM8",
        "colab_type": "text"
      },
      "source": [
        "Download the pre-trained model that we will use as a starting point for our seal detecting CNN. This includes weights and parameters that have been generated by past training of retinanet on a generic dataset of miscellaneous objects."
      ]
    },
    {
      "cell_type": "code",
      "metadata": {
        "id": "33S3M0SoI1JI",
        "colab_type": "code",
        "colab": {}
      },
      "source": [
        "! wget -P data \"https://github.com/fizyr/keras-retinanet/releases/download/0.5.1/resnet50_coco_best_v2.1.0.h5\""
      ],
      "execution_count": 0,
      "outputs": []
    },
    {
      "cell_type": "markdown",
      "metadata": {
        "id": "LYBUnE6wEKuq",
        "colab_type": "text"
      },
      "source": [
        "# Train the Model"
      ]
    },
    {
      "cell_type": "markdown",
      "metadata": {
        "id": "yzdoAR2GEKuv",
        "colab_type": "text"
      },
      "source": [
        "#### Now we'll actually train the model. \n",
        "\n",
        "We're giving it the pre-trained weights that we downloaded above, and then we're telling it to use the training data in annotations.csv and to run for 10 epochs each with 20 steps with a batch-size of two. An epoch is a group of steps after which the model calculates its accuracy; a step is an increment of training the model on one batch or subset of files.\n",
        "\n",
        "This process could take 5-30 minutes, but you can stop it whenever you'd like as long as it has saved a couple models to the snapshots directory."
      ]
    },
    {
      "cell_type": "code",
      "metadata": {
        "id": "mcn229SrEKuw",
        "colab_type": "code",
        "colab": {}
      },
      "source": [
        "! keras-retinanet/keras_retinanet/bin/train.py --weights data/resnet50_coco_best_v2.1.0.h5 --epochs 10 --steps 20 --batch-size 2 csv data/annotations.csv data/classes.csv"
      ],
      "execution_count": 0,
      "outputs": []
    },
    {
      "cell_type": "markdown",
      "metadata": {
        "id": "iBRyzRLp4CyH",
        "colab_type": "text"
      },
      "source": [
        "Let's take a look at the format of the annotations to see how it is reading them. The format here is:\n",
        "\n",
        "`filename, x1, y1, x2, y2`\n",
        "\n",
        "These X,Y pairs describe \\(1) the top-left and \\(2) the bottom-right corners of each box, respectively."
      ]
    },
    {
      "cell_type": "code",
      "metadata": {
        "id": "8D9p8G583243",
        "colab_type": "code",
        "colab": {}
      },
      "source": [
        "! head data/annotations.csv"
      ],
      "execution_count": 0,
      "outputs": []
    },
    {
      "cell_type": "markdown",
      "metadata": {
        "id": "apHCQjSo8WC2",
        "colab_type": "text"
      },
      "source": [
        "We are now done training the model, and we want to see how it performs on our data! This next section converts the model from training mode to inference mode so it can be used to detection seals. This conversion process take a little time."
      ]
    },
    {
      "cell_type": "code",
      "metadata": {
        "id": "8YyMralKEKuz",
        "colab_type": "code",
        "colab": {}
      },
      "source": [
        "! keras-retinanet/keras_retinanet/bin/convert_model.py snapshots/resnet50_csv_10.h5 snapshots/test_model.h5"
      ],
      "execution_count": 0,
      "outputs": []
    },
    {
      "cell_type": "markdown",
      "metadata": {
        "id": "Vu3yk48fEKu2",
        "colab_type": "text"
      },
      "source": [
        "# Run Detection"
      ]
    },
    {
      "cell_type": "markdown",
      "metadata": {
        "id": "GbTLLmbGEKu2",
        "colab_type": "text"
      },
      "source": [
        "Now we wil get into the bulk of the python code: first we'll load the necessary python modules to handle and process our data."
      ]
    },
    {
      "cell_type": "code",
      "metadata": {
        "id": "Bj-WmUXiEKu3",
        "colab_type": "code",
        "colab": {}
      },
      "source": [
        "# show images inline\n",
        "%matplotlib inline\n",
        "\n",
        "# automatically reload modules when they have changed\n",
        "%load_ext autoreload\n",
        "%autoreload 2\n",
        "\n",
        "# import keras\n",
        "import keras\n",
        "\n",
        "# import keras_retinanet\n",
        "from keras_retinanet import models\n",
        "from keras_retinanet.utils.image import read_image_bgr, preprocess_image, resize_image\n",
        "from keras_retinanet.utils.visualization import draw_box, draw_caption\n",
        "from keras_retinanet.utils.colors import label_color\n",
        "\n",
        "# import miscellaneous modules\n",
        "import matplotlib.pyplot as plt\n",
        "import cv2\n",
        "import os\n",
        "import numpy as np\n",
        "import time\n",
        "import json\n",
        "from random import shuffle\n",
        "\n",
        "# set tf backend to allow memory to grow, instead of claiming everything\n",
        "import tensorflow as tf\n",
        "\n",
        "def get_session():\n",
        "    config = tf.ConfigProto()\n",
        "    config.gpu_options.allow_growth = True\n",
        "    return tf.Session(config=config)\n",
        "\n",
        "# use this environment flag to change which GPU to use\n",
        "#os.environ[\"CUDA_VISIBLE_DEVICES\"] = \"1\"\n",
        "\n",
        "# set the modified tf session as backend in keras\n",
        "keras.backend.tensorflow_backend.set_session(get_session())"
      ],
      "execution_count": 0,
      "outputs": []
    },
    {
      "cell_type": "markdown",
      "metadata": {
        "id": "w987GUwIEKu5",
        "colab_type": "text"
      },
      "source": [
        "## Load RetinaNet model\n",
        "\n",
        "Now we will load the model that you just converted into inference mode, it is called `test_model.h5`."
      ]
    },
    {
      "cell_type": "code",
      "metadata": {
        "scrolled": false,
        "id": "VDo883mYEKu6",
        "colab_type": "code",
        "colab": {}
      },
      "source": [
        "model_path = 'snapshots/test_model.h5'\n",
        "\n",
        "print(model_path)\n",
        "\n",
        "# load retinanet model\n",
        "model = models.load_model(model_path, backbone_name='resnet50')\n",
        "\n",
        "# you can check out a model summary by uncommenting this line\n",
        "#print(model.summary())\n",
        "\n",
        "# load label to names mapping for visualization purposes\n",
        "labels_to_names = {0: 'seal'}"
      ],
      "execution_count": 0,
      "outputs": []
    },
    {
      "cell_type": "markdown",
      "metadata": {
        "id": "2jfMnDLVEKu9",
        "colab_type": "text"
      },
      "source": [
        "## Load imagery\n",
        "\n",
        "Now we will load all of the images that we downloaded into our data directory during setup (the tiles from our orthomosaic). Just to check, we'll print out a count of those images."
      ]
    },
    {
      "cell_type": "code",
      "metadata": {
        "id": "7QjtUN5wEKu9",
        "colab_type": "code",
        "colab": {}
      },
      "source": [
        "# load imagery\n",
        "image_dir = \"data/\"\n",
        "\n",
        "image_list = []\n",
        "for root, dirs, files in os.walk(image_dir):  \n",
        "    for filename in files:\n",
        "        if filename.lower().endswith(('.png')):\n",
        "            image_list.append(image_dir + filename)\n",
        "print(len(image_list))"
      ],
      "execution_count": 0,
      "outputs": []
    },
    {
      "cell_type": "markdown",
      "metadata": {
        "id": "detiYRZWEKvA",
        "colab_type": "text"
      },
      "source": [
        "## Test out detections"
      ]
    },
    {
      "cell_type": "markdown",
      "metadata": {
        "id": "LDezuFxm-xAf",
        "colab_type": "text"
      },
      "source": [
        "Now we'll visualize some detections from our model to see how it performs. Each detection has a \"confidence score\" that describes the CNN's confidence that the detection is correct. Change the minimum confidence score (the first line of code) and re-run the code to check out how your \"confidence threshold\" affects the numbers of false positives and false negatives."
      ]
    },
    {
      "cell_type": "code",
      "metadata": {
        "scrolled": false,
        "id": "7I13IyhvEKvA",
        "colab_type": "code",
        "colab": {}
      },
      "source": [
        "min_score = 0.5 # this is the CNN's confidence that the detection is correct\n",
        "detection_iterations = 10 # max number of images to visualize\n",
        "\n",
        "visualize = True\n",
        "\n",
        "detections = {}\n",
        "\n",
        "total_time = 0\n",
        "\n",
        "count = 0\n",
        "shuffle(image_list)\n",
        "\n",
        "for image_path in image_list:\n",
        "    if count > detection_iterations:\n",
        "        break\n",
        "    else:\n",
        "        count +=1\n",
        "        \n",
        "    image = read_image_bgr(image_path)\n",
        "\n",
        "    if visualize:\n",
        "        # copy to draw on\n",
        "        draw = image.copy()\n",
        "        draw = cv2.cvtColor(draw, cv2.COLOR_BGR2RGB)\n",
        "\n",
        "    # preprocess image for network\n",
        "    image = preprocess_image(image)\n",
        "    image, scale = resize_image(image)\n",
        "\n",
        "    # process image\n",
        "    start = time.time()\n",
        "    boxes, scores, labels = model.predict_on_batch(np.expand_dims(image, axis=0))\n",
        "    total_time += time.time() - start\n",
        "\n",
        "    # correct for image scale\n",
        "    boxes /= scale\n",
        "    if any(score >= min_score for score in scores[0]):\n",
        "        detections[image_path] = []\n",
        "\n",
        "    # visualize detections\n",
        "    for box, score, label in zip(boxes[0], scores[0], labels[0]):\n",
        "        # scores are sorted so we can break\n",
        "        if score < min_score:\n",
        "            break\n",
        "\n",
        "        #print(score)\n",
        "        #print(box)\n",
        "\n",
        "        # TODO this does create a slight error in the boxes, might be worth doing something like\n",
        "        # list(map(str, box) but then would need to cast on the other end back to float\n",
        "        b = box.astype(int)\n",
        "        detections[image_path].append({\"box\" : b, \"label\" : label, \"score\" : score})\n",
        "\n",
        "        if visualize:\n",
        "            color = label_color(label)\n",
        "\n",
        "            # b = box.astype(int)\n",
        "            draw_box(draw, b, color=color)\n",
        "\n",
        "            caption = \"{} {:.3f}\".format(labels_to_names[label], score)\n",
        "            draw_caption(draw, b, caption)\n",
        "\n",
        "    if any(score >= min_score for score in scores[0]):\n",
        "        if visualize:\n",
        "            plt.figure(figsize=(10, 10))\n",
        "            plt.axis('off')\n",
        "            plt.imshow(draw)\n",
        "            plt.show()\n",
        "    \n",
        "print(\"Finished, time per image:\", total_time/len(image_list))"
      ],
      "execution_count": 0,
      "outputs": []
    },
    {
      "cell_type": "markdown",
      "metadata": {
        "id": "P_Khk5BWEKvD",
        "colab_type": "text"
      },
      "source": [
        "## Run Detections on all tiles ##\n",
        "This section repeats the process we just tested for all tiles that make up our orthomosaic. If you want to experiment, you can vary the confidence threshold and the amount of time the model trains, then look at how it affects the resulting detections.\n"
      ]
    },
    {
      "cell_type": "code",
      "metadata": {
        "id": "7Tvuim_vEKvE",
        "colab_type": "code",
        "colab": {}
      },
      "source": [
        "visualize = False\n",
        "min_score = 0.5 # this is the CNN's confidence that the detection is correct\n",
        "\n",
        "detections = {}\n",
        "\n",
        "total_time = 0\n",
        "\n",
        "for image_path in image_list:\n",
        "       \n",
        "    image = read_image_bgr(image_path)\n",
        "\n",
        "    if visualize:\n",
        "        # copy to draw on\n",
        "        draw = image.copy()\n",
        "        draw = cv2.cvtColor(draw, cv2.COLOR_BGR2RGB)\n",
        "\n",
        "    # preprocess image for network\n",
        "    image = preprocess_image(image)\n",
        "    image, scale = resize_image(image)\n",
        "\n",
        "    # process image\n",
        "    start = time.time()\n",
        "    boxes, scores, labels = model.predict_on_batch(np.expand_dims(image, axis=0))\n",
        "    total_time += time.time() - start\n",
        "\n",
        "    # correct for image scale\n",
        "    boxes /= scale\n",
        "    if any(score >= min_score for score in scores[0]):\n",
        "        detections[image_path] = []\n",
        "\n",
        "    # visualize detections\n",
        "    for box, score, label in zip(boxes[0], scores[0], labels[0]):\n",
        "        # scores are sorted so we can break\n",
        "        if score < min_score:\n",
        "            break\n",
        "\n",
        "        #print(score)\n",
        "        #print(box)\n",
        "\n",
        "        # TODO this does create a slight error in the boxes, might be worth doing something like\n",
        "        # list(map(str, box) but then would need to cast on the other end back to float\n",
        "        b = box.astype(int)\n",
        "        detections[image_path].append({\"box\" : b, \"label\" : label, \"score\" : score})\n",
        "\n",
        "        if visualize:\n",
        "            color = label_color(label)\n",
        "\n",
        "            # b = box.astype(int)\n",
        "            draw_box(draw, b, color=color)\n",
        "\n",
        "            caption = \"{} {:.3f}\".format(labels_to_names[label], score)\n",
        "            draw_caption(draw, b, caption)\n",
        "\n",
        "    if any(score >= min_score for score in scores[0]):\n",
        "        if visualize:\n",
        "            plt.figure(figsize=(10, 10))\n",
        "            plt.axis('off')\n",
        "            plt.imshow(draw)\n",
        "            plt.show()\n",
        "    \n",
        "print(\"Finished, time per image:\", total_time/len(image_list))"
      ],
      "execution_count": 0,
      "outputs": []
    },
    {
      "cell_type": "markdown",
      "metadata": {
        "id": "4P3nBtjv81_J",
        "colab_type": "text"
      },
      "source": [
        "Run an evaluation script to get the mean average precision (mAP) of the CNN. \n",
        "\n",
        "mAP is a model evaluation metric that is relative (aka it can be challenging to compare mAP values across datasets), but a great general metric for different models and approaches to detection objects on the same dataset. \n",
        "\n",
        "Read more about mAP here: https://tarangshah.com/blog/2018-01-27/what-is-map-understanding-the-statistic-of-choice-for-comparing-object-detection-models/"
      ]
    },
    {
      "cell_type": "code",
      "metadata": {
        "id": "5CKEvUTb1JC0",
        "colab_type": "code",
        "colab": {}
      },
      "source": [
        "! keras-retinanet/keras_retinanet/bin/evaluate.py csv data/annotations.csv data/classes.csv snapshots/test_model.h5"
      ],
      "execution_count": 0,
      "outputs": []
    },
    {
      "cell_type": "markdown",
      "metadata": {
        "id": "-SyoUJ6REKvJ",
        "colab_type": "text"
      },
      "source": [
        "## Export detections##\n",
        "Write out the detections to a json file that can be used in a GIS for  spatial databases and/or visualizations."
      ]
    },
    {
      "cell_type": "code",
      "metadata": {
        "id": "Z-zIVPAVEKvH",
        "colab_type": "code",
        "colab": {}
      },
      "source": [
        "class MyEncoder(json.JSONEncoder):\n",
        "    def default(self, obj):\n",
        "        if isinstance(obj, np.integer):\n",
        "            return int(obj)\n",
        "        elif isinstance(obj, np.floating):\n",
        "            return float(obj)\n",
        "        elif isinstance(obj, np.ndarray):\n",
        "            return obj.tolist()\n",
        "        else:\n",
        "            return super(MyEncoder, self).default(obj)"
      ],
      "execution_count": 0,
      "outputs": []
    },
    {
      "cell_type": "code",
      "metadata": {
        "id": "Qd3NXa3wEKvK",
        "colab_type": "code",
        "colab": {}
      },
      "source": [
        "with open('data/new_detections.json', 'w') as fp:\n",
        "    json.dump(detections, fp, cls=MyEncoder)"
      ],
      "execution_count": 0,
      "outputs": []
    },
    {
      "cell_type": "code",
      "metadata": {
        "id": "Z-6WjaR1EKvM",
        "colab_type": "code",
        "colab": {}
      },
      "source": [
        ""
      ],
      "execution_count": 0,
      "outputs": []
    }
  ]
}