{
 "cells": [
  {
   "cell_type": "markdown",
   "metadata": {},
   "source": [
    "## Convert VIA annotations export .csv file to RetinaNet .csv format"
   ]
  },
  {
   "cell_type": "markdown",
   "metadata": {},
   "source": [
    "#### Greg has adapted this from the script Patrick and Maddie used"
   ]
  },
  {
   "cell_type": "code",
   "execution_count": 17,
   "metadata": {},
   "outputs": [],
   "source": [
    "# import necessary modules\n",
    "import os\n",
    "import csv\n",
    "\n",
    "# set directory to root where files live\n",
    "os.chdir('C:\\\\Users\\\\Greg\\\\Documents\\\\GitHub\\\\GreySealCNN')\n",
    "\n",
    "# set path to VIA exported CSCV file\n",
    "via_path = 'data/via_SealCNN_TrainingData.csv'"
   ]
  },
  {
   "cell_type": "markdown",
   "metadata": {},
   "source": [
    "#### The following loop pulls each annotation, line-by-line, from the VIA exported CSV, extracts the necessary information, reformats it into the format that RetinaNet requires (https://github.com/fizyr/keras-retinanet#annotations-format), end then reassembles a new CSV line-by-line that RetinaNet can receive"
   ]
  },
  {
   "cell_type": "code",
   "execution_count": 20,
   "metadata": {
    "scrolled": true
   },
   "outputs": [],
   "source": [
    "#GDL has overhauled this code to ingest annotations exported as CSV from VIA 2.0.10\n",
    "\n",
    "# Create blank variable for our annotations list as we build it\n",
    "image_annotations = []\n",
    "\n",
    "with open(via_path, \"r\") as f:\n",
    "    reader = csv.reader(f, delimiter=\",\")\n",
    "    for line in reader: \n",
    "        # output we want\n",
    "        # path/to/image.jpg,x1,y1,x2,y2,class_name\n",
    "        # /data/imgs/img_001.jpg,837,346,981,456,cow\n",
    "        if 'filename' in line[0]:\n",
    "            # bypassing comments in csv\n",
    "            continue\n",
    "        if '{}' in line[5]:\n",
    "            #bypassing empty images\n",
    "            continue\n",
    "        filename = line[0]\n",
    "        \n",
    "        # pulling from column named \"region_shape_attributes\"\n",
    "        box_entry = list(str(line[5]).strip('}{').split(','))\n",
    "        box_entry = [i.split(':')[1] for i in box_entry]\n",
    "        # strip brackets, split and get only the values we care about, then convert all the string to int \n",
    "        top_left_x, top_left_y, width, height = list(map(int,list(map(float, box_entry[1:5]))))\n",
    "        if width == 0 or height == 0:\n",
    "            continue\n",
    "            # skip tiny/empty boxes\n",
    "        \n",
    "        # convert from \"top left and width/height\" to \"x and y values at each corner of the box\"\n",
    "        if top_left_x < 0:\n",
    "            top_left_x = 1\n",
    "        if top_left_y < 0:\n",
    "            top_left_y = 1\n",
    "        x1 = top_left_x\n",
    "        x2 = top_left_x + width\n",
    "        y1 = top_left_y\n",
    "        y2 = top_left_y + height \n",
    "        \n",
    "        # pulling from column named \"region_attributes\" to get class names\n",
    "        name = list(str(line[6]).strip('}{').split(':'))[1].strip('\"')\n",
    "\n",
    "        if name == \"Unknown\":\n",
    "            continue\n",
    "            # skip unknown class\n",
    "\n",
    "        # create the csv row\n",
    "        new_row = []\n",
    "        new_row.append(filename)\n",
    "        new_row.append(x1)\n",
    "        new_row.append(y1)\n",
    "        new_row.append(x2)\n",
    "        new_row.append(y2)\n",
    "        new_row.append(name)\n",
    "\n",
    "        image_annotations.append(new_row)\n",
    "\n",
    "with open('data/annotations.csv', 'w') as fp:\n",
    "    writer = csv.writer(fp)\n",
    "    writer.writerows(image_annotations)\n",
    "    "
   ]
  },
  {
   "cell_type": "markdown",
   "metadata": {},
   "source": [
    "### Output annotations.csv and classes.csv"
   ]
  },
  {
   "cell_type": "code",
   "execution_count": 21,
   "metadata": {},
   "outputs": [],
   "source": [
    "with open('data/annotations.csv', 'w', newline='') as fp:\n",
    "    writer = csv.writer(fp)\n",
    "    writer.writerows(image_annotations)"
   ]
  },
  {
   "cell_type": "code",
   "execution_count": 22,
   "metadata": {},
   "outputs": [],
   "source": [
    "# if we were trying to generalize this, we'd be tracking new class names as they show up,\n",
    "# assigning values and automating construction of our list of classes...\n",
    "# but with only three classes, screw it, we'll just write them manually\n",
    "\n",
    "detection_classes = [[\"Adult\", 0], [\"Pup\", 1]]\n",
    "with open('data/classes.csv', 'w', newline='') as fp:\n",
    "    writer = csv.writer(fp)\n",
    "    writer.writerows(detection_classes)"
   ]
  },
  {
   "cell_type": "code",
   "execution_count": null,
   "metadata": {},
   "outputs": [],
   "source": []
  }
 ],
 "metadata": {
  "kernelspec": {
   "display_name": "Python 3",
   "language": "python",
   "name": "python3"
  },
  "language_info": {
   "codemirror_mode": {
    "name": "ipython",
    "version": 3
   },
   "file_extension": ".py",
   "mimetype": "text/x-python",
   "name": "python",
   "nbconvert_exporter": "python",
   "pygments_lexer": "ipython3",
   "version": "3.8.3"
  }
 },
 "nbformat": 4,
 "nbformat_minor": 4
}
