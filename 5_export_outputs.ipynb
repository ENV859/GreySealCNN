{
  "nbformat": 4,
  "nbformat_minor": 0,
  "metadata": {
    "colab": {
      "name": "export_outputs.ipynb",
      "provenance": [],
      "toc_visible": true,
      "include_colab_link": true
    },
    "kernelspec": {
      "display_name": "Python 3",
      "language": "python",
      "name": "python3"
    },
    "language_info": {
      "codemirror_mode": {
        "name": "ipython",
        "version": 3
      },
      "file_extension": ".py",
      "mimetype": "text/x-python",
      "name": "python",
      "nbconvert_exporter": "python",
      "pygments_lexer": "ipython3",
      "version": "3.8.3"
    }
  },
  "cells": [
    {
      "cell_type": "markdown",
      "metadata": {
        "id": "view-in-github",
        "colab_type": "text"
      },
      "source": [
        "<a href=\"https://colab.research.google.com/github/gl7176/GreySealCNN/blob/master/5_export_detections.ipynb\" target=\"_parent\"><img src=\"https://colab.research.google.com/assets/colab-badge.svg\" alt=\"Open In Colab\"/></a>"
      ]
    },
    {
      "cell_type": "markdown",
      "metadata": {
        "id": "Y8WTbTOrpVVf"
      },
      "source": [
        "## Auditing and Exporting Detections"
      ]
    },
    {
      "cell_type": "markdown",
      "metadata": {
        "id": "o97tafnarHqG"
      },
      "source": [
        "# REVISE ME\n",
        "#### Before running this script, make sure that your Google Drive folder contains the orthomosaic GeoTiff (`step 0`) and no other GeoTIFF files, the `spatial_data.json` file (`step 1`), the `classes.csv` file (`step3`) and the `new_detections.json` file (`step 4`). If you want to add your new CNN detections to the manually annotated detections you created in VIA, also add the JSON file you exported using VIA (`step 2`). You will need to input that file name directly, since it is not standardized in our workflow."
      ]
    },
    {
      "cell_type": "markdown",
      "metadata": {
        "id": "QI6JfXBBm1rs"
      },
      "source": [
        "<a href=\"https://colab.research.google.com/github/gl7176/GreySealCNN/blob/master/5_export_detections.ipynb\" target=\"_parent\"><img src=\"https://colab.research.google.com/assets/colab-badge.svg\" alt=\"Open In Colab\"/></a>\n",
        "<center> Be sure to update this hyperlink above if you clone and want to point to a different GitHub </center>"
      ]
    },
    {
      "cell_type": "markdown",
      "metadata": {
        "id": "_0SGgVrGEWZN"
      },
      "source": [
        "### Connect to our Google Drive folder and pull files\n",
        "Note: when you run this it will give you a link that you must click. You must give Google some permissions, then copy a code into a box that comes up in the output section of this code.\n",
        "\n",
        "If customizing this code, you will need to point the `drive_folder` variable to a URL for your shared google drive folder."
      ]
    },
    {
      "cell_type": "code",
      "metadata": {
        "colab": {
          "base_uri": "https://localhost:8080/"
        },
        "id": "SYEIuuoGpkZm",
        "outputId": "b0b3a5a2-6dc6-4b04-be2b-068367c10820"
      },
      "source": [
        "!pip install -U -q PyDrive\n",
        "import os\n",
        "from pydrive.auth import GoogleAuth\n",
        "from pydrive.drive import GoogleDrive\n",
        "from google.colab import auth\n",
        "from oauth2client.client import GoogleCredentials\n",
        "\n",
        "# 1. Authenticate and create the PyDrive client.\n",
        "auth.authenticate_user()\n",
        "gauth = GoogleAuth()\n",
        "gauth.credentials = GoogleCredentials.get_application_default()\n",
        "drive = GoogleDrive(gauth)\n",
        "\n",
        "# choose a local (colab) directory to store the data.\n",
        "local_download_path = os.path.expanduser('data')\n",
        "try:\n",
        "  os.makedirs(local_download_path)\n",
        "except: pass\n",
        "\n",
        "# 2. Auto-iterate using the query syntax\n",
        "#    https://developers.google.com/drive/v2/web/search-parameters\n",
        "\n",
        "# set variable to the destination google drive folder you want to pull from\n",
        "drive_folder = 'https://drive.google.com/drive/folders/1INuRNVKvKMy8L_Nb6lmoVbyvScWK0-0D'\n",
        "\n",
        "# this bit points the code to that google drive folder\n",
        "pointer = str(\"'\" + drive_folder.split(\"/\")[-1] + \"'\" + \" in parents\")\n",
        "\n",
        "file_list = drive.ListFile(\n",
        "    {'q': pointer}).GetList()\n",
        "\n",
        "#    this bit pulls key files from the directory specified above\n",
        "#    and checks that all necessary files are present\n",
        "\n",
        "orthomosaic_file = {}\n",
        "spatial_data_file = local_download_path + '/spatial_data.json'\n",
        "classes_file = local_download_path + '/classes.csv'\n",
        "new_detections_file = local_download_path + '/new_detections.json'\n",
        "subset_list_file = local_download_path + '/subset_list.csv'\n",
        "via_annotations_file = local_download_path + '/via_SealCNN_TrainingData.csv'\n",
        "\n",
        "checklist = ['orthomosaic', spatial_data_file, classes_file, new_detections_file, subset_list_file, via_annotations_file]\n",
        "\n",
        "for f in file_list:\n",
        "  # 3. Create & download by id.\n",
        "  fname = os.path.join(local_download_path, f['title'])\n",
        "  if fname.endswith(\".tif\") or fname.endswith(\".json\") or fname.endswith(\".csv\"):\n",
        "    f_ = drive.CreateFile({'id': f['id']})\n",
        "    f_.GetContentFile(fname)\n",
        "    os.stat(fname)\n",
        "    # if the file is a *.tif and larger than 100 mb we label it the orthomosaic\n",
        "    if fname.endswith(\".tif\") and os.stat(fname).st_size > 10^8 :\n",
        "      # if there are multiple orthomosaic files detected we spit an error\n",
        "      if len(orthomosaic_file) != 0:\n",
        "        raise Exception(\"more than one orthomosaic file identified based on size and type\")\n",
        "      orthomosaic_file = fname\n",
        "      print(\"orthomosaic identified as \" + orthomosaic_file)\n",
        "      checklist.remove('orthomosaic')\n",
        "    elif fname in checklist:\n",
        "      checklist.remove(fname)\n",
        "      print(\"required file found: \" + fname)\n",
        "    else:\n",
        "      print(\"additional file found: \" + fname)\n",
        "print(\"all files pulled\")\n",
        "if len(checklist) > 0:\n",
        "  print(\"Error: did not find \" + str(len(checklist)) + \" required files in your google folder: \", checklist)\n",
        "  raise Exception(\"missing required data files\")"
      ],
      "execution_count": null,
      "outputs": [
        {
          "output_type": "stream",
          "text": [
            "required file found: data/spatial_data.json\n",
            "required file found: data/subset_list.csv\n",
            "required file found: data/new_detections.json\n",
            "additional file found: data/annotations_valid.csv\n",
            "additional file found: data/annotations_train.csv\n",
            "additional file found: data/annotations_test.csv\n",
            "required file found: data/classes.csv\n",
            "required file found: data/via_SealCNN_TrainingData.csv\n",
            "additional file found: data/via_SealCNN_TrainingData.json\n",
            "orthomosaic identified as data/Hay Island 2015.tif\n",
            "all files pulled\n"
          ],
          "name": "stdout"
        }
      ]
    },
    {
      "cell_type": "markdown",
      "metadata": {
        "id": "FHksaZEPEWZO"
      },
      "source": [
        "### Set up the python environment and key variables"
      ]
    },
    {
      "cell_type": "code",
      "metadata": {
        "colab": {
          "base_uri": "https://localhost:8080/"
        },
        "id": "biwSnxfdpVVj",
        "outputId": "d86b0b95-fcb2-4f90-c2b6-a57a741c46ed"
      },
      "source": [
        "import os\n",
        "import argparse\n",
        "import numpy as np\n",
        "import json\n",
        "import csv\n",
        "!pip install rasterio\n",
        "import rasterio\n",
        "import copy\n",
        "\n",
        "from shapely.geometry import mapping, Polygon\n",
        "!pip install fiona\n",
        "import fiona # only required for exporting to shapefiles\n",
        "\n",
        "# make a dictionary where {filename} calls {subset type}\n",
        "with open(subset_list_file, \"r\") as f:\n",
        "    reader = csv.reader(f, delimiter=\",\")\n",
        "    subset_dict = {i[0]:i[1] for i in reader}"
      ],
      "execution_count": null,
      "outputs": [
        {
          "output_type": "stream",
          "text": [
            "Requirement already satisfied: rasterio in /usr/local/lib/python3.6/dist-packages (1.1.8)\n",
            "Requirement already satisfied: affine in /usr/local/lib/python3.6/dist-packages (from rasterio) (2.3.0)\n",
            "Requirement already satisfied: attrs in /usr/local/lib/python3.6/dist-packages (from rasterio) (20.3.0)\n",
            "Requirement already satisfied: cligj>=0.5 in /usr/local/lib/python3.6/dist-packages (from rasterio) (0.7.1)\n",
            "Requirement already satisfied: click<8,>=4.0 in /usr/local/lib/python3.6/dist-packages (from rasterio) (7.1.2)\n",
            "Requirement already satisfied: numpy in /usr/local/lib/python3.6/dist-packages (from rasterio) (1.19.4)\n",
            "Requirement already satisfied: click-plugins in /usr/local/lib/python3.6/dist-packages (from rasterio) (1.1.1)\n",
            "Requirement already satisfied: snuggs>=1.4.1 in /usr/local/lib/python3.6/dist-packages (from rasterio) (1.4.7)\n",
            "Requirement already satisfied: pyparsing>=2.1.6 in /usr/local/lib/python3.6/dist-packages (from snuggs>=1.4.1->rasterio) (2.4.7)\n",
            "Requirement already satisfied: fiona in /usr/local/lib/python3.6/dist-packages (1.8.18)\n",
            "Requirement already satisfied: six>=1.7 in /usr/local/lib/python3.6/dist-packages (from fiona) (1.15.0)\n",
            "Requirement already satisfied: click<8,>=4.0 in /usr/local/lib/python3.6/dist-packages (from fiona) (7.1.2)\n",
            "Requirement already satisfied: cligj>=0.5 in /usr/local/lib/python3.6/dist-packages (from fiona) (0.7.1)\n",
            "Requirement already satisfied: certifi in /usr/local/lib/python3.6/dist-packages (from fiona) (2020.12.5)\n",
            "Requirement already satisfied: attrs>=17 in /usr/local/lib/python3.6/dist-packages (from fiona) (20.3.0)\n",
            "Requirement already satisfied: munch in /usr/local/lib/python3.6/dist-packages (from fiona) (2.5.0)\n",
            "Requirement already satisfied: click-plugins>=1.0 in /usr/local/lib/python3.6/dist-packages (from fiona) (1.1.1)\n"
          ],
          "name": "stdout"
        }
      ]
    },
    {
      "cell_type": "markdown",
      "metadata": {
        "id": "Xrjsw-07pVVz"
      },
      "source": [
        "### Convert detections from image-/tile-based coordinates to orthomosaic coordinates"
      ]
    },
    {
      "cell_type": "code",
      "metadata": {
        "colab": {
          "base_uri": "https://localhost:8080/"
        },
        "id": "MIisHMg-7CGj",
        "outputId": "fa7a5eb4-ffef-441d-8336-848cc89eda36"
      },
      "source": [
        "# open the output from our CNN\n",
        "with open(new_detections_file) as f:\n",
        "    detected_labels = json.load(f)\n",
        "\n",
        "# open the output from our original tile splitting\n",
        "with open(spatial_data_file) as f:\n",
        "    spatial_data = json.load(f)\n",
        "    tile_height = spatial_data[\"tile_height\"]\n",
        "    tile_width = spatial_data[\"tile_width\"]\n",
        "    img_data = spatial_data[\"tile_pointers\"]\n",
        "    \n",
        "# update box locations from local tile coordinates to orthomosaic coordinates\n",
        "# using image_locations from original tiling process, invoked by filename\n",
        "# ---this involves transforming x1, y1, x2, y2 coordinates to 4 sets of x,y points\n",
        "# and then transforming them back to the original form---\n",
        "# then build a list of detection dictionaries. Note that filename is no longer\n",
        "# needed because coordinates are now relative to the orthomosaic, not tile\n",
        "\n",
        "detection_list = []\n",
        "for key, value in detected_labels.items():\n",
        "    for detection in value:\n",
        "      # convert bounding box from x1/y1/x2/y2 format to [x1,y1],[x2,y1],[x2,y2],[x2,y1] coordinates format \n",
        "      bounding_box = np.array([[detection['box'][0], detection['box'][1]], [detection['box'][2], detection['box'][1]], [detection['box'][2], detection['box'][3]], [detection['box'][0], detection['box'][3]]])\n",
        "      # update the new coordinates format from local tile coordinates to orthomosaic coordinates\n",
        "      bounding_box = bounding_box + [img_data[\"image_locations\"][[key][0].split(\"/\")[-1]]]\n",
        "      # convert our bounding box from coordinates format back to x1/y1/x2/y2 format\n",
        "      bounding_box = [bounding_box[0][0], bounding_box[0][1], bounding_box[1][0], bounding_box[2][1]] \n",
        "      # update the dictionary\n",
        "      detection['box'] = bounding_box\n",
        "      #build our detection list. Note we no longer need filenames because the coordinates are no longer local\n",
        "      detection_list.append(detection)\n",
        "print(detection_list[0:3])"
      ],
      "execution_count": null,
      "outputs": [
        {
          "output_type": "stream",
          "text": [
            "[{'box': [8419, 10931, 8473, 11012], 'label': 0, 'score': 0.8839489817619324}, {'box': [8488, 10814, 8531, 10852], 'label': 1, 'score': 0.8155218958854675}, {'box': [8864, 10193, 8905, 10227], 'label': 1, 'score': 0.6655842065811157}]\n"
          ],
          "name": "stdout"
        }
      ]
    },
    {
      "cell_type": "markdown",
      "metadata": {
        "id": "FDAVvdbW0Hy0"
      },
      "source": [
        "### Implement non-max suppression on duplicate CNN detections"
      ]
    },
    {
      "cell_type": "code",
      "metadata": {
        "id": "c4lajvLFICGO"
      },
      "source": [
        "# pull labels from classes.csv\n",
        "import csv\n",
        "with open(classes_file, \"r\") as f:\n",
        "    reader = csv.reader(f, delimiter=\",\")\n",
        "    labels_to_names = {int(i[1]):i[0] for i in reader}\n",
        "\n",
        "boxes = []\n",
        "scores = []\n",
        "for detection in detection_list:\n",
        "  boxes.append(detection['box'])\n",
        "  scores.append(detection['score'])"
      ],
      "execution_count": null,
      "outputs": []
    },
    {
      "cell_type": "code",
      "metadata": {
        "id": "CXqKqRuViP0D"
      },
      "source": [
        "# Malisiewicz et al.\n",
        "# https://www.pyimagesearch.com/2015/02/16/faster-non-maximum-suppression-python/\n",
        "# import the necessary packages\n",
        "import numpy as np\n",
        "\n",
        "def non_max_suppression(boxes, probs, overlapThresh):\n",
        "    # if there are no boxes, return an empty list\n",
        "    if len(boxes) == 0:\n",
        "        return []\n",
        "\n",
        "    # if the bounding boxes are integers, convert them to floats -- this\n",
        "    # is important since we'll be doing a bunch of divisions\n",
        "    if boxes.dtype.kind == \"i\":\n",
        "        boxes = boxes.astype(\"float\")\n",
        "\n",
        "    # initialize the list of picked indexes\n",
        "    pick = []\n",
        "\n",
        "    # grab the coordinates of the bounding boxes\n",
        "    x1, y1, x2, y2 = boxes[:, 0], boxes[:, 1], boxes[:, 2], boxes[:, 3]\n",
        "\n",
        "    # compute the area of the bounding boxes and grab the indexes to sort\n",
        "    # (in the case that no probabilities are provided, simply sort on the\n",
        "    # bottom-left y-coordinate)\n",
        "    area = (x2 - x1 + 1) * (y2 - y1 + 1)\n",
        "    idxs = y2\n",
        "\n",
        "    # if probabilities are provided, sort on them instead\n",
        "    if probs is not None:\n",
        "        idxs = probs\n",
        "\n",
        "    # sort the indexes\n",
        "    idxs = np.argsort(idxs)\n",
        "\n",
        "    # keep looping while some indexes still remain in the indexes list\n",
        "    while len(idxs) > 0:\n",
        "        # grab the last index in the indexes list and add the index value\n",
        "        # to the list of picked indexes\n",
        "        last = len(idxs) - 1\n",
        "        i = idxs[last]\n",
        "        pick.append(i)\n",
        "\n",
        "        # find the largest (x, y) coordinates for the start of the bounding\n",
        "        # box and the smallest (x, y) coordinates for the end of the bounding\n",
        "        # box\n",
        "        xx1, yy1, xx2, yy2 = np.maximum(x1[i], x1[idxs[:last]]), np.maximum(y1[i], y1[idxs[:last]]), np.minimum(x2[i], x2[idxs[:last]]), np.minimum(y2[i], y2[idxs[:last]])\n",
        "\n",
        "        # compute the width and height of the bounding box\n",
        "        w, h = np.maximum(0, xx2 - xx1 + 1), np.maximum(0, yy2 - yy1 + 1)\n",
        "\n",
        "        # compute the ratio of overlap\n",
        "        overlap = (w * h) / area[idxs[:last]]\n",
        "\n",
        "        # delete all indexes from the index list that have overlap greater\n",
        "        # than the provided overlap threshold\n",
        "        idxs = np.delete(idxs, np.concatenate(([last],\n",
        "            np.where(overlap > overlapThresh)[0])))\n",
        "\n",
        "    # return the index of the bounding boxes that were picked\n",
        "    return pick"
      ],
      "execution_count": null,
      "outputs": []
    },
    {
      "cell_type": "code",
      "metadata": {
        "colab": {
          "base_uri": "https://localhost:8080/"
        },
        "id": "cmY7ZCEvicfS",
        "outputId": "0773e8ab-1930-4787-faf5-506e38c9b104"
      },
      "source": [
        "bboxes = np.array(boxes)\n",
        "pick = non_max_suppression(bboxes, scores, 0.6)\n",
        "nms_detection_list = []\n",
        "for i in pick:\n",
        "  nms_detection_list.append(detection_list[i])\n",
        "\n",
        "# backup the nms_detection_list before running next section, so if something\n",
        "# goes wrong we don't need to re-run the whole code\n",
        "nms_detection_list_backup = copy.deepcopy(nms_detection_list)\n",
        "\n",
        "print(\"Before NMS: \" + str(len(detection_list)) + \" detections\")\n",
        "print(\"After NMS: \" + str(len(nms_detection_list)) + \" detections\")"
      ],
      "execution_count": null,
      "outputs": [
        {
          "output_type": "stream",
          "text": [
            "Before NMS: 168 detections\n",
            "After NMS: 158 detections\n"
          ],
          "name": "stdout"
        }
      ]
    },
    {
      "cell_type": "markdown",
      "metadata": {
        "id": "GuyAwIh11qes"
      },
      "source": [
        "### Export CNN detections shapefile"
      ]
    },
    {
      "cell_type": "code",
      "metadata": {
        "colab": {
          "base_uri": "https://localhost:8080/"
        },
        "id": "FCCJtJtcN69u",
        "outputId": "70520c1d-2cdf-43c7-e106-48c0ac55b690"
      },
      "source": [
        "# open the source image\n",
        "dataset = rasterio.open(orthomosaic_file)\n",
        "\n",
        "# the following section permanently alters nms_detection_list, necessitating the deepcopy backup earlier\n",
        "nms_detection_list = copy.deepcopy(nms_detection_list_backup)\n",
        "\n",
        "# converts orthomosaic pixel coordinates to global coordinates\n",
        "geolocated_bb = []\n",
        "for detection in nms_detection_list:\n",
        "  bounding_box = np.array([[detection['box'][0], detection['box'][1]], [detection['box'][2], detection['box'][1]], [detection['box'][2], detection['box'][3]], [detection['box'][0], detection['box'][3]]]).astype(float)\n",
        "  count = 0\n",
        "  for point in bounding_box:\n",
        "    point = dataset.transform * point\n",
        "    bounding_box[count] = point\n",
        "    count += 1\n",
        "  detection['box'] = bounding_box\n",
        "print(nms_detection_list[:3])"
      ],
      "execution_count": null,
      "outputs": [
        {
          "output_type": "stream",
          "text": [
            "[{'box': array([[ 292120.37252, 5099996.81849],\n",
            "       [ 292122.88762, 5099996.81849],\n",
            "       [ 292122.88762, 5099994.33932],\n",
            "       [ 292120.37252, 5099994.33932]]), 'label': 0, 'score': 0.9517046213150024}, {'box': array([[ 292167.47675, 5100079.709  ],\n",
            "       [ 292170.31522, 5100079.709  ],\n",
            "       [ 292170.31522, 5100077.94843],\n",
            "       [ 292167.47675, 5100077.94843]]), 'label': 0, 'score': 0.9449800848960876}, {'box': array([[ 291971.29895, 5099918.16772],\n",
            "       [ 291972.70022, 5099918.16772],\n",
            "       [ 291972.70022, 5099916.9461 ],\n",
            "       [ 291971.29895, 5099916.9461 ]]), 'label': 1, 'score': 0.9419155120849609}]\n"
          ],
          "name": "stdout"
        }
      ]
    },
    {
      "cell_type": "code",
      "metadata": {
        "id": "0fKKpsQ5pVV7"
      },
      "source": [
        "# write out the detections as a shapefile\n",
        "\n",
        "from collections import OrderedDict\n",
        "import fiona\n",
        "from fiona.crs import from_epsg\n",
        "\n",
        "# Set output directory\n",
        "output_dir = 'shapefile_output'\n",
        "\n",
        "# create the dir if it doesn't already exist\n",
        "if not os.path.exists(output_dir):\n",
        "    os.makedirs(output_dir)\n",
        "\n",
        "# Define your schema as a polygon geom with a couple of fields\n",
        "schema = {\n",
        "    'geometry': 'Polygon',\n",
        "    'properties': OrderedDict([\n",
        "        ('ImageName', 'str'),\n",
        "        ('Detection', 'str'),\n",
        "        ('Score', 'float')\n",
        "  ])\n",
        "}\n",
        "\n",
        "with fiona.open(output_dir + '/seal_detections.shp',\n",
        "    'w',\n",
        "    driver='ESRI Shapefile',\n",
        "    crs=dataset.crs,\n",
        "    schema=schema) as c:\n",
        "    \n",
        "    for num, polygon in enumerate(nms_detection_list):\n",
        "      record = {\n",
        "            'geometry': {'coordinates': [polygon['box']], 'type': 'Polygon'},\n",
        "            'id': num,\n",
        "            'properties': OrderedDict([('ImageName', orthomosaic_file),\n",
        "                                       ('Detection', labels_to_names[polygon['label']]),\n",
        "                                       ('Score', polygon['score'])\n",
        "                                       ]),\n",
        "            'type': 'Feature'}\n",
        "      c.write(record)"
      ],
      "execution_count": null,
      "outputs": []
    },
    {
      "cell_type": "markdown",
      "metadata": {
        "id": "mKfVjeklm1rt"
      },
      "source": [
        "### Zip output folder for download"
      ]
    },
    {
      "cell_type": "code",
      "metadata": {
        "colab": {
          "base_uri": "https://localhost:8080/",
          "height": 17
        },
        "id": "aAmS92vcm1rt",
        "outputId": "429c1f92-ebc4-4fa7-d21f-17ae2c38a4b8"
      },
      "source": [
        "# zip up the output directory into an archive for download\n",
        "import subprocess\n",
        "subprocess.call(['zip', '-r', '/content/' + output_dir + '.zip', '/content/' + output_dir])\n",
        "\n",
        "from google.colab import files\n",
        "files.download(\"/content/\" + output_dir + \".zip\")"
      ],
      "execution_count": null,
      "outputs": [
        {
          "output_type": "display_data",
          "data": {
            "application/javascript": [
              "\n",
              "    async function download(id, filename, size) {\n",
              "      if (!google.colab.kernel.accessAllowed) {\n",
              "        return;\n",
              "      }\n",
              "      const div = document.createElement('div');\n",
              "      const label = document.createElement('label');\n",
              "      label.textContent = `Downloading \"${filename}\": `;\n",
              "      div.appendChild(label);\n",
              "      const progress = document.createElement('progress');\n",
              "      progress.max = size;\n",
              "      div.appendChild(progress);\n",
              "      document.body.appendChild(div);\n",
              "\n",
              "      const buffers = [];\n",
              "      let downloaded = 0;\n",
              "\n",
              "      const channel = await google.colab.kernel.comms.open(id);\n",
              "      // Send a message to notify the kernel that we're ready.\n",
              "      channel.send({})\n",
              "\n",
              "      for await (const message of channel.messages) {\n",
              "        // Send a message to notify the kernel that we're ready.\n",
              "        channel.send({})\n",
              "        if (message.buffers) {\n",
              "          for (const buffer of message.buffers) {\n",
              "            buffers.push(buffer);\n",
              "            downloaded += buffer.byteLength;\n",
              "            progress.value = downloaded;\n",
              "          }\n",
              "        }\n",
              "      }\n",
              "      const blob = new Blob(buffers, {type: 'application/binary'});\n",
              "      const a = document.createElement('a');\n",
              "      a.href = window.URL.createObjectURL(blob);\n",
              "      a.download = filename;\n",
              "      div.appendChild(a);\n",
              "      a.click();\n",
              "      div.remove();\n",
              "    }\n",
              "  "
            ],
            "text/plain": [
              "<IPython.core.display.Javascript object>"
            ]
          },
          "metadata": {
            "tags": []
          }
        },
        {
          "output_type": "display_data",
          "data": {
            "application/javascript": [
              "download(\"download_2450bb9c-0bbe-4212-b23a-a91b0dd286e8\", \"shapefile_output.zip\", 10297)"
            ],
            "text/plain": [
              "<IPython.core.display.Javascript object>"
            ]
          },
          "metadata": {
            "tags": []
          }
        }
      ]
    },
    {
      "cell_type": "markdown",
      "metadata": {
        "id": "ZX8_fY9CWX3R"
      },
      "source": [
        "#Exporting original annotations"
      ]
    },
    {
      "cell_type": "markdown",
      "metadata": {
        "id": "D98r_mFO4ooy"
      },
      "source": [
        "### Convert original VIA annotations and run non-max suppresion to remove duplicate annotations"
      ]
    },
    {
      "cell_type": "code",
      "metadata": {
        "id": "s3d8-GkH4nqb",
        "colab": {
          "base_uri": "https://localhost:8080/"
        },
        "outputId": "f8782fb2-10ac-4ec3-d6f1-6721f7b3e946"
      },
      "source": [
        "\n",
        "    \n",
        "via_annotations_list = []\n",
        "\n",
        "# read each line, parse it, convert it, put it all back together\n",
        "# then drop it in the appropriate subset\n",
        "with open(via_annotations_file, \"r\") as f:\n",
        "    reader = csv.reader(f, delimiter=\",\")\n",
        "    for line in reader: \n",
        "        # output we want:\n",
        "        # format: path/to/image.jpg,x1,y1,x2,y2,class_name\n",
        "        # example: /data/imgs/img_001.jpg,837,346,981,456,cow\n",
        "        if 'filename' in line[0]:\n",
        "            # bypassing comments in csv\n",
        "            continue\n",
        "        if '{}' in line[5]:\n",
        "            #bypassing empty images\n",
        "            continue\n",
        "            \n",
        "        filename = line[0]\n",
        "        \n",
        "        # pulling from column named \"region_shape_attributes\"\n",
        "        box_entry = json.loads(line[5])\n",
        "        top_left_x, top_left_y, width, height = box_entry[\"x\"], box_entry[\"y\"], box_entry[\"width\"], box_entry[\"height\"]\n",
        "        if width == 0 or height == 0:\n",
        "            continue\n",
        "            # skip tiny/empty boxes\n",
        "        \n",
        "        # define area for NMS ranking later\n",
        "        area = width * height\n",
        "\n",
        "        # convert from \"top left and width/height\" to \"x and y values at each corner of the box\"\n",
        "        if top_left_x < 0:\n",
        "            top_left_x = 1\n",
        "        if top_left_y < 0:\n",
        "            top_left_y = 1\n",
        "        x1 = top_left_x\n",
        "        x2 = top_left_x + width\n",
        "        y1 = top_left_y\n",
        "        y2 = top_left_y + height \n",
        "        \n",
        "        # pulling from column named \"region_attributes\" to get class names\n",
        "        name = json.loads(line[6])[\"Age Class\"]\n",
        "\n",
        "        # skip unknown class, in this case. Might be useful in other applications though, e.g. total count\n",
        "        if name == \"Unknown\":\n",
        "            continue\n",
        "        \n",
        "        # pull subset from dictionary\n",
        "        subset_type = subset_dict[filename]\n",
        "\n",
        "        # create the annotation row\n",
        "        new_row = []\n",
        "        new_row.append(filename)\n",
        "        new_row.append([x1,y1])\n",
        "        new_row.append([x2,y1])\n",
        "        new_row.append([x2,y2])\n",
        "        new_row.append([x1,y2])\n",
        "        new_row.append(name)\n",
        "        new_row.append(area)\n",
        "        new_row.append(subset_type)\n",
        "\n",
        "        # append the row to the our list\n",
        "        via_annotations_list.append(new_row)\n",
        "print(via_annotations_list[0:5])"
      ],
      "execution_count": null,
      "outputs": [
        {
          "output_type": "stream",
          "text": [
            "[['2015_02_02_hay_island_flight03_s110rgb_jpeg_mosaic_group1---27.png', [615, 927], [681, 927], [681, 959], [615, 959], 'Adult', 2112, 'training'], ['2015_02_02_hay_island_flight03_s110rgb_jpeg_mosaic_group1---27.png', [959, 917], [998, 917], [998, 943], [959, 943], 'Pup', 1014, 'training'], ['2015_02_02_hay_island_flight03_s110rgb_jpeg_mosaic_group1---27.png', [632, 899], [668, 899], [668, 932], [632, 932], 'Pup', 1188, 'training'], ['2015_02_02_hay_island_flight03_s110rgb_jpeg_mosaic_group1---27.png', [514, 937], [581, 937], [581, 968], [514, 968], 'Adult', 2077, 'training'], ['2015_02_02_hay_island_flight03_s110rgb_jpeg_mosaic_group1---28.png', [152, 671], [192, 671], [192, 697], [152, 697], 'Pup', 1040, 'training']]\n"
          ],
          "name": "stdout"
        }
      ]
    },
    {
      "cell_type": "code",
      "metadata": {
        "colab": {
          "base_uri": "https://localhost:8080/"
        },
        "id": "mkmJg5ivJEk2",
        "outputId": "742c521a-e0ad-4efb-928a-817d47497bb4"
      },
      "source": [
        "# give each detection a score for NMS, based on its area and prioritized by\n",
        "# testing > training datasets so during NMS if we encounter duplicates we prioritize\n",
        "# testing data for accuracy evaluation, and within that prioritization, we prioritize\n",
        "# larger boxes over smaller boxes (in case any \"edge\" animals were duplicated)\n",
        "area_max = max(list(i[6] for i in via_annotations_list))\n",
        "scores = []\n",
        "boxes = []\n",
        "\n",
        "detection_list = []\n",
        "for i in via_annotations_list:\n",
        "  score = i[6]/area_max\n",
        "  if i[7] != 'testing':\n",
        "    score = 0.01 * score\n",
        "  scores.append(score)\n",
        "\n",
        "  bounding_box = np.array([i[1],i[2],i[3],i[4]])\n",
        "  # update the new coordinates format from local tile coordinates to orthomosaic coordinates\n",
        "  bounding_box = bounding_box + [img_data[\"image_locations\"][i[0]]]\n",
        "  # convert our bounding box from coordinates format back to x1/y1/x2/y2 format\n",
        "  bounding_box = [bounding_box[0][0], bounding_box[0][1], bounding_box[1][0], bounding_box[2][1]] \n",
        "  boxes.append(bounding_box)\n",
        "\n",
        "  # update the dictionary\n",
        "  detection = {\"box\":bounding_box, \"score\":score, \"label\":i[5], \"subset\":i[7]}\n",
        "  detection_list.append(detection)\n",
        "print(detection_list[0:3])"
      ],
      "execution_count": null,
      "outputs": [
        {
          "output_type": "stream",
          "text": [
            "[{'box': [9815, 1847, 9881, 1879], 'score': 0.003300515705578997, 'label': 'Adult', 'subset': 'training'}, {'box': [10159, 1837, 10198, 1863], 'score': 0.001584622597280825, 'label': 'Pup', 'subset': 'training'}, {'box': [9832, 1819, 9868, 1852], 'score': 0.0018565400843881857, 'label': 'Pup', 'subset': 'training'}]\n"
          ],
          "name": "stdout"
        }
      ]
    },
    {
      "cell_type": "code",
      "metadata": {
        "colab": {
          "base_uri": "https://localhost:8080/"
        },
        "id": "Tz8Cb8RM3izp",
        "outputId": "37d66e44-bb54-404d-cad0-0326793e4788"
      },
      "source": [
        "bboxes = np.array(boxes)\n",
        "pick = non_max_suppression(bboxes, scores, 0.6)\n",
        "nms_detection_list = []\n",
        "for i in pick:\n",
        "  nms_detection_list.append(detection_list[i])\n",
        "\n",
        "# backup the nms_detection_list before running next section, so if something\n",
        "# goes wrong we don't need to re-run the whole code\n",
        "nms_detection_list_backup = copy.deepcopy(nms_detection_list)\n",
        "\n",
        "print(\"Before NMS: \" + str(len(detection_list)) + \" detections\")\n",
        "print(\"After NMS: \" + str(len(nms_detection_list)) + \" detections\")"
      ],
      "execution_count": null,
      "outputs": [
        {
          "output_type": "stream",
          "text": [
            "Before NMS: 2719 detections\n",
            "After NMS: 2368 detections\n"
          ],
          "name": "stdout"
        }
      ]
    },
    {
      "cell_type": "markdown",
      "metadata": {
        "id": "3CVjR0cp4keA"
      },
      "source": [
        "### Export VIA annotations shapefile"
      ]
    },
    {
      "cell_type": "code",
      "metadata": {
        "id": "4W9evVO4kQRQ"
      },
      "source": [
        "def global_transform(box_list, orthomosaic_file)"
      ],
      "execution_count": null,
      "outputs": []
    },
    {
      "cell_type": "code",
      "metadata": {
        "colab": {
          "base_uri": "https://localhost:8080/"
        },
        "id": "pkhP6Dh34keW",
        "outputId": "f8e2369f-3b61-4cf7-b6d6-dcab0c087c19"
      },
      "source": [
        "# open the source image\n",
        "dataset = rasterio.open(orthomosaic_file)\n",
        "\n",
        "# this section permanently alters nms_detection_list, necessitating the deepcopy backup earlier\n",
        "nms_detection_list = copy.deepcopy(nms_detection_list_backup)\n",
        "geolocated_bb = []\n",
        "for detection in nms_detection_list:\n",
        "  bounding_box = np.array([[detection['box'][0], detection['box'][1]], [detection['box'][2], detection['box'][1]], [detection['box'][2], detection['box'][3]], [detection['box'][0], detection['box'][3]]]).astype(float)\n",
        "  count = 0\n",
        "  for point in bounding_box:\n",
        "    point = dataset.transform * point\n",
        "    bounding_box[count] = point\n",
        "    count += 1\n",
        "  detection['box'] = bounding_box\n",
        "print(nms_detection_list[0:3])"
      ],
      "execution_count": null,
      "outputs": [
        {
          "output_type": "stream",
          "text": [
            "[{'box': array([[ 292015.24134, 5100059.30076],\n",
            "       [ 292018.22353, 5100059.30076],\n",
            "       [ 292018.22353, 5100056.85752],\n",
            "       [ 292015.24134, 5100056.85752]]), 'score': 0.882012814502266, 'label': 'Adult', 'subset': 'testing'}, {'box': array([[ 291978.3053 , 5099904.22688],\n",
            "       [ 291981.32342, 5099904.22688],\n",
            "       [ 291981.32342, 5099901.96329],\n",
            "       [ 291978.3053 , 5099901.96329]]), 'score': 0.8270042194092827, 'label': 'Adult', 'subset': 'testing'}, {'box': array([[ 292130.36106, 5100003.35775],\n",
            "       [ 292132.51686, 5100003.35775],\n",
            "       [ 292132.51686, 5100000.44742],\n",
            "       [ 292130.36106, 5100000.44742]]), 'score': 0.759493670886076, 'label': 'Adult', 'subset': 'testing'}]\n"
          ],
          "name": "stdout"
        }
      ]
    },
    {
      "cell_type": "code",
      "metadata": {
        "id": "BYlR1CrB4kea"
      },
      "source": [
        "# write out the detections as a shapefile\n",
        "\n",
        "from collections import OrderedDict\n",
        "import fiona\n",
        "from fiona.crs import from_epsg\n",
        "\n",
        "# Set output directory\n",
        "output_dir = 'shapefile_output'\n",
        "\n",
        "# create the dir if it doesn't already exist\n",
        "if not os.path.exists(output_dir):\n",
        "    os.makedirs(output_dir)\n",
        "\n",
        "# Define your schema as a polygon geom with a couple of fields\n",
        "schema = {\n",
        "    'geometry': 'Polygon',\n",
        "    'properties': OrderedDict([\n",
        "        ('ImageName', 'str'),\n",
        "        ('Detection', 'str'),\n",
        "        ('Subset', 'str'),\n",
        "  ])\n",
        "}\n",
        "\n",
        "with fiona.open(output_dir + '/seal_detections.shp',\n",
        "    'w',\n",
        "    driver='ESRI Shapefile',\n",
        "    crs=dataset.crs,\n",
        "    schema=schema) as c:\n",
        "    \n",
        "    for num, polygon in enumerate(nms_detection_list):\n",
        "      record = {\n",
        "            'geometry': {'coordinates': [polygon['box']], 'type': 'Polygon'},\n",
        "            'id': num,\n",
        "            'properties': OrderedDict([('ImageName', orthomosaic_file),\n",
        "                                       ('Detection', polygon['label']),\n",
        "                                       ('Subset', polygon['subset'])\n",
        "                                       ]),\n",
        "            'type': 'Feature'}\n",
        "      c.write(record)"
      ],
      "execution_count": null,
      "outputs": []
    },
    {
      "cell_type": "markdown",
      "metadata": {
        "id": "E_ULh0LY4keb"
      },
      "source": [
        "### Zip output folder for download"
      ]
    },
    {
      "cell_type": "code",
      "metadata": {
        "colab": {
          "base_uri": "https://localhost:8080/",
          "height": 17
        },
        "id": "9mLJIsK_4kec",
        "outputId": "68511141-5248-43b1-d6fe-d5f55a8c5e45"
      },
      "source": [
        "# zip up the output directory into an archive for download\n",
        "import subprocess\n",
        "subprocess.call(['zip', '-r', '/content/' + output_dir + '.zip', '/content/' + output_dir])\n",
        "\n",
        "from google.colab import files\n",
        "files.download(\"/content/\" + output_dir + \".zip\")"
      ],
      "execution_count": null,
      "outputs": [
        {
          "output_type": "display_data",
          "data": {
            "application/javascript": [
              "\n",
              "    async function download(id, filename, size) {\n",
              "      if (!google.colab.kernel.accessAllowed) {\n",
              "        return;\n",
              "      }\n",
              "      const div = document.createElement('div');\n",
              "      const label = document.createElement('label');\n",
              "      label.textContent = `Downloading \"${filename}\": `;\n",
              "      div.appendChild(label);\n",
              "      const progress = document.createElement('progress');\n",
              "      progress.max = size;\n",
              "      div.appendChild(progress);\n",
              "      document.body.appendChild(div);\n",
              "\n",
              "      const buffers = [];\n",
              "      let downloaded = 0;\n",
              "\n",
              "      const channel = await google.colab.kernel.comms.open(id);\n",
              "      // Send a message to notify the kernel that we're ready.\n",
              "      channel.send({})\n",
              "\n",
              "      for await (const message of channel.messages) {\n",
              "        // Send a message to notify the kernel that we're ready.\n",
              "        channel.send({})\n",
              "        if (message.buffers) {\n",
              "          for (const buffer of message.buffers) {\n",
              "            buffers.push(buffer);\n",
              "            downloaded += buffer.byteLength;\n",
              "            progress.value = downloaded;\n",
              "          }\n",
              "        }\n",
              "      }\n",
              "      const blob = new Blob(buffers, {type: 'application/binary'});\n",
              "      const a = document.createElement('a');\n",
              "      a.href = window.URL.createObjectURL(blob);\n",
              "      a.download = filename;\n",
              "      div.appendChild(a);\n",
              "      a.click();\n",
              "      div.remove();\n",
              "    }\n",
              "  "
            ],
            "text/plain": [
              "<IPython.core.display.Javascript object>"
            ]
          },
          "metadata": {
            "tags": []
          }
        },
        {
          "output_type": "display_data",
          "data": {
            "application/javascript": [
              "download(\"download_9fb3eab6-f354-40bb-b6c0-dff687a38599\", \"shapefile_output.zip\", 106948)"
            ],
            "text/plain": [
              "<IPython.core.display.Javascript object>"
            ]
          },
          "metadata": {
            "tags": []
          }
        }
      ]
    },
    {
      "cell_type": "markdown",
      "metadata": {
        "id": "oouXv6KiWheo"
      },
      "source": [
        "# Exporting subset regions"
      ]
    },
    {
      "cell_type": "code",
      "metadata": {
        "colab": {
          "base_uri": "https://localhost:8080/",
          "height": 268
        },
        "id": "9DONJjEmWnTJ",
        "outputId": "e8252d6f-9cc1-40c5-9b0d-63bf2219d536"
      },
      "source": [
        "print(img_data)\r\n",
        "for i in img_data[\"image_locations\"]:\r\n",
        "#  print(subset_dict[i])\r\n",
        "  print(img_data[\"image_locations\"][i])\r\n",
        "\r\n",
        "\r\n",
        "# get it to x1/y1/x2/y2 format"
      ],
      "execution_count": null,
      "outputs": [
        {
          "output_type": "stream",
          "text": [
            "{'image_name': 'mosaic/2015_02_02_hay_island_flight03_s110rgb_jpeg_mosaic_group1.tif', 'image_locations': {'2015_02_02_hay_island_flight03_s110rgb_jpeg_mosaic_group1---0.png': [0, 0], '2015_02_02_hay_island_flight03_s110rgb_jpeg_mosaic_group1---1.png': [920, 0], '2015_02_02_hay_island_flight03_s110rgb_jpeg_mosaic_group1---2.png': [1840, 0], '2015_02_02_hay_island_flight03_s110rgb_jpeg_mosaic_group1---3.png': [2760, 0], '2015_02_02_hay_island_flight03_s110rgb_jpeg_mosaic_group1---4.png': [3680, 0], '2015_02_02_hay_island_flight03_s110rgb_jpeg_mosaic_group1---5.png': [4600, 0], '2015_02_02_hay_island_flight03_s110rgb_jpeg_mosaic_group1---6.png': [5520, 0], '2015_02_02_hay_island_flight03_s110rgb_jpeg_mosaic_group1---7.png': [6440, 0], '2015_02_02_hay_island_flight03_s110rgb_jpeg_mosaic_group1---8.png': [7360, 0], '2015_02_02_hay_island_flight03_s110rgb_jpeg_mosaic_group1---9.png': [8280, 0], '2015_02_02_hay_island_flight03_s110rgb_jpeg_mosaic_group1---10.png': [9200, 0], '2015_02_02_hay_island_flight03_s110rgb_jpeg_mosaic_group1---11.png': [10120, 0], '2015_02_02_hay_island_flight03_s110rgb_jpeg_mosaic_group1---12.png': [11040, 0], '2015_02_02_hay_island_flight03_s110rgb_jpeg_mosaic_group1---13.png': [11960, 0], '2015_02_02_hay_island_flight03_s110rgb_jpeg_mosaic_group1---14.png': [12880, 0], '2015_02_02_hay_island_flight03_s110rgb_jpeg_mosaic_group1---15.png': [13800, 0], '2015_02_02_hay_island_flight03_s110rgb_jpeg_mosaic_group1---16.png': [14720, 0], '2015_02_02_hay_island_flight03_s110rgb_jpeg_mosaic_group1---17.png': [0, 920], '2015_02_02_hay_island_flight03_s110rgb_jpeg_mosaic_group1---18.png': [920, 920], '2015_02_02_hay_island_flight03_s110rgb_jpeg_mosaic_group1---19.png': [1840, 920], '2015_02_02_hay_island_flight03_s110rgb_jpeg_mosaic_group1---20.png': [2760, 920], '2015_02_02_hay_island_flight03_s110rgb_jpeg_mosaic_group1---21.png': [3680, 920], '2015_02_02_hay_island_flight03_s110rgb_jpeg_mosaic_group1---22.png': [4600, 920], '2015_02_02_hay_island_flight03_s110rgb_jpeg_mosaic_group1---23.png': [5520, 920], '2015_02_02_hay_island_flight03_s110rgb_jpeg_mosaic_group1---24.png': [6440, 920], '2015_02_02_hay_island_flight03_s110rgb_jpeg_mosaic_group1---25.png': [7360, 920], '2015_02_02_hay_island_flight03_s110rgb_jpeg_mosaic_group1---26.png': [8280, 920], '2015_02_02_hay_island_flight03_s110rgb_jpeg_mosaic_group1---27.png': [9200, 920], '2015_02_02_hay_island_flight03_s110rgb_jpeg_mosaic_group1---28.png': [10120, 920], '2015_02_02_hay_island_flight03_s110rgb_jpeg_mosaic_group1---29.png': [11040, 920], '2015_02_02_hay_island_flight03_s110rgb_jpeg_mosaic_group1---30.png': [11960, 920], '2015_02_02_hay_island_flight03_s110rgb_jpeg_mosaic_group1---31.png': [12880, 920], '2015_02_02_hay_island_flight03_s110rgb_jpeg_mosaic_group1---32.png': [13800, 920], '2015_02_02_hay_island_flight03_s110rgb_jpeg_mosaic_group1---33.png': [14720, 920], '2015_02_02_hay_island_flight03_s110rgb_jpeg_mosaic_group1---34.png': [0, 1840], '2015_02_02_hay_island_flight03_s110rgb_jpeg_mosaic_group1---35.png': [920, 1840], '2015_02_02_hay_island_flight03_s110rgb_jpeg_mosaic_group1---36.png': [1840, 1840], '2015_02_02_hay_island_flight03_s110rgb_jpeg_mosaic_group1---37.png': [2760, 1840], '2015_02_02_hay_island_flight03_s110rgb_jpeg_mosaic_group1---38.png': [3680, 1840], '2015_02_02_hay_island_flight03_s110rgb_jpeg_mosaic_group1---39.png': [4600, 1840], '2015_02_02_hay_island_flight03_s110rgb_jpeg_mosaic_group1---40.png': [5520, 1840], '2015_02_02_hay_island_flight03_s110rgb_jpeg_mosaic_group1---41.png': [6440, 1840], '2015_02_02_hay_island_flight03_s110rgb_jpeg_mosaic_group1---42.png': [7360, 1840], '2015_02_02_hay_island_flight03_s110rgb_jpeg_mosaic_group1---43.png': [8280, 1840], '2015_02_02_hay_island_flight03_s110rgb_jpeg_mosaic_group1---44.png': [9200, 1840], '2015_02_02_hay_island_flight03_s110rgb_jpeg_mosaic_group1---45.png': [10120, 1840], '2015_02_02_hay_island_flight03_s110rgb_jpeg_mosaic_group1---46.png': [11040, 1840], '2015_02_02_hay_island_flight03_s110rgb_jpeg_mosaic_group1---47.png': [11960, 1840], '2015_02_02_hay_island_flight03_s110rgb_jpeg_mosaic_group1---48.png': [12880, 1840], '2015_02_02_hay_island_flight03_s110rgb_jpeg_mosaic_group1---49.png': [13800, 1840], '2015_02_02_hay_island_flight03_s110rgb_jpeg_mosaic_group1---50.png': [14720, 1840], '2015_02_02_hay_island_flight03_s110rgb_jpeg_mosaic_group1---51.png': [0, 2760], '2015_02_02_hay_island_flight03_s110rgb_jpeg_mosaic_group1---52.png': [920, 2760], '2015_02_02_hay_island_flight03_s110rgb_jpeg_mosaic_group1---53.png': [1840, 2760], '2015_02_02_hay_island_flight03_s110rgb_jpeg_mosaic_group1---54.png': [2760, 2760], '2015_02_02_hay_island_flight03_s110rgb_jpeg_mosaic_group1---55.png': [3680, 2760], '2015_02_02_hay_island_flight03_s110rgb_jpeg_mosaic_group1---56.png': [4600, 2760], '2015_02_02_hay_island_flight03_s110rgb_jpeg_mosaic_group1---57.png': [5520, 2760], '2015_02_02_hay_island_flight03_s110rgb_jpeg_mosaic_group1---58.png': [6440, 2760], '2015_02_02_hay_island_flight03_s110rgb_jpeg_mosaic_group1---59.png': [7360, 2760], '2015_02_02_hay_island_flight03_s110rgb_jpeg_mosaic_group1---60.png': [8280, 2760], '2015_02_02_hay_island_flight03_s110rgb_jpeg_mosaic_group1---61.png': [9200, 2760], '2015_02_02_hay_island_flight03_s110rgb_jpeg_mosaic_group1---62.png': [10120, 2760], '2015_02_02_hay_island_flight03_s110rgb_jpeg_mosaic_group1---63.png': [11040, 2760], '2015_02_02_hay_island_flight03_s110rgb_jpeg_mosaic_group1---64.png': [11960, 2760], '2015_02_02_hay_island_flight03_s110rgb_jpeg_mosaic_group1---65.png': [12880, 2760], '2015_02_02_hay_island_flight03_s110rgb_jpeg_mosaic_group1---66.png': [13800, 2760], '2015_02_02_hay_island_flight03_s110rgb_jpeg_mosaic_group1---67.png': [14720, 2760], '2015_02_02_hay_island_flight03_s110rgb_jpeg_mosaic_group1---68.png': [0, 3680], '2015_02_02_hay_island_flight03_s110rgb_jpeg_mosaic_group1---69.png': [920, 3680], '2015_02_02_hay_island_flight03_s110rgb_jpeg_mosaic_group1---70.png': [1840, 3680], '2015_02_02_hay_island_flight03_s110rgb_jpeg_mosaic_group1---71.png': [2760, 3680], '2015_02_02_hay_island_flight03_s110rgb_jpeg_mosaic_group1---72.png': [3680, 3680], '2015_02_02_hay_island_flight03_s110rgb_jpeg_mosaic_group1---73.png': [4600, 3680], '2015_02_02_hay_island_flight03_s110rgb_jpeg_mosaic_group1---74.png': [5520, 3680], '2015_02_02_hay_island_flight03_s110rgb_jpeg_mosaic_group1---75.png': [6440, 3680], '2015_02_02_hay_island_flight03_s110rgb_jpeg_mosaic_group1---76.png': [7360, 3680], '2015_02_02_hay_island_flight03_s110rgb_jpeg_mosaic_group1---77.png': [8280, 3680], '2015_02_02_hay_island_flight03_s110rgb_jpeg_mosaic_group1---78.png': [9200, 3680], '2015_02_02_hay_island_flight03_s110rgb_jpeg_mosaic_group1---79.png': [10120, 3680], '2015_02_02_hay_island_flight03_s110rgb_jpeg_mosaic_group1---80.png': [11040, 3680], '2015_02_02_hay_island_flight03_s110rgb_jpeg_mosaic_group1---81.png': [11960, 3680], '2015_02_02_hay_island_flight03_s110rgb_jpeg_mosaic_group1---82.png': [12880, 3680], '2015_02_02_hay_island_flight03_s110rgb_jpeg_mosaic_group1---83.png': [13800, 3680], '2015_02_02_hay_island_flight03_s110rgb_jpeg_mosaic_group1---84.png': [14720, 3680], '2015_02_02_hay_island_flight03_s110rgb_jpeg_mosaic_group1---85.png': [0, 4600], '2015_02_02_hay_island_flight03_s110rgb_jpeg_mosaic_group1---86.png': [920, 4600], '2015_02_02_hay_island_flight03_s110rgb_jpeg_mosaic_group1---87.png': [1840, 4600], '2015_02_02_hay_island_flight03_s110rgb_jpeg_mosaic_group1---88.png': [2760, 4600], '2015_02_02_hay_island_flight03_s110rgb_jpeg_mosaic_group1---89.png': [3680, 4600], '2015_02_02_hay_island_flight03_s110rgb_jpeg_mosaic_group1---90.png': [4600, 4600], '2015_02_02_hay_island_flight03_s110rgb_jpeg_mosaic_group1---91.png': [5520, 4600], '2015_02_02_hay_island_flight03_s110rgb_jpeg_mosaic_group1---92.png': [6440, 4600], '2015_02_02_hay_island_flight03_s110rgb_jpeg_mosaic_group1---93.png': [7360, 4600], '2015_02_02_hay_island_flight03_s110rgb_jpeg_mosaic_group1---94.png': [8280, 4600], '2015_02_02_hay_island_flight03_s110rgb_jpeg_mosaic_group1---95.png': [9200, 4600], '2015_02_02_hay_island_flight03_s110rgb_jpeg_mosaic_group1---96.png': [10120, 4600], '2015_02_02_hay_island_flight03_s110rgb_jpeg_mosaic_group1---97.png': [11040, 4600], '2015_02_02_hay_island_flight03_s110rgb_jpeg_mosaic_group1---98.png': [11960, 4600], '2015_02_02_hay_island_flight03_s110rgb_jpeg_mosaic_group1---99.png': [12880, 4600], '2015_02_02_hay_island_flight03_s110rgb_jpeg_mosaic_group1---100.png': [13800, 4600], '2015_02_02_hay_island_flight03_s110rgb_jpeg_mosaic_group1---101.png': [14720, 4600], '2015_02_02_hay_island_flight03_s110rgb_jpeg_mosaic_group1---102.png': [0, 5520], '2015_02_02_hay_island_flight03_s110rgb_jpeg_mosaic_group1---103.png': [920, 5520], '2015_02_02_hay_island_flight03_s110rgb_jpeg_mosaic_group1---104.png': [1840, 5520], '2015_02_02_hay_island_flight03_s110rgb_jpeg_mosaic_group1---105.png': [2760, 5520], '2015_02_02_hay_island_flight03_s110rgb_jpeg_mosaic_group1---106.png': [3680, 5520], '2015_02_02_hay_island_flight03_s110rgb_jpeg_mosaic_group1---107.png': [4600, 5520], '2015_02_02_hay_island_flight03_s110rgb_jpeg_mosaic_group1---108.png': [5520, 5520], '2015_02_02_hay_island_flight03_s110rgb_jpeg_mosaic_group1---109.png': [6440, 5520], '2015_02_02_hay_island_flight03_s110rgb_jpeg_mosaic_group1---110.png': [7360, 5520], '2015_02_02_hay_island_flight03_s110rgb_jpeg_mosaic_group1---111.png': [8280, 5520], '2015_02_02_hay_island_flight03_s110rgb_jpeg_mosaic_group1---112.png': [9200, 5520], '2015_02_02_hay_island_flight03_s110rgb_jpeg_mosaic_group1---113.png': [10120, 5520], '2015_02_02_hay_island_flight03_s110rgb_jpeg_mosaic_group1---114.png': [11040, 5520], '2015_02_02_hay_island_flight03_s110rgb_jpeg_mosaic_group1---115.png': [11960, 5520], '2015_02_02_hay_island_flight03_s110rgb_jpeg_mosaic_group1---116.png': [12880, 5520], '2015_02_02_hay_island_flight03_s110rgb_jpeg_mosaic_group1---117.png': [13800, 5520], '2015_02_02_hay_island_flight03_s110rgb_jpeg_mosaic_group1---118.png': [14720, 5520], '2015_02_02_hay_island_flight03_s110rgb_jpeg_mosaic_group1---119.png': [0, 6440], '2015_02_02_hay_island_flight03_s110rgb_jpeg_mosaic_group1---120.png': [920, 6440], '2015_02_02_hay_island_flight03_s110rgb_jpeg_mosaic_group1---121.png': [1840, 6440], '2015_02_02_hay_island_flight03_s110rgb_jpeg_mosaic_group1---122.png': [2760, 6440], '2015_02_02_hay_island_flight03_s110rgb_jpeg_mosaic_group1---123.png': [3680, 6440], '2015_02_02_hay_island_flight03_s110rgb_jpeg_mosaic_group1---124.png': [4600, 6440], '2015_02_02_hay_island_flight03_s110rgb_jpeg_mosaic_group1---125.png': [5520, 6440], '2015_02_02_hay_island_flight03_s110rgb_jpeg_mosaic_group1---126.png': [6440, 6440], '2015_02_02_hay_island_flight03_s110rgb_jpeg_mosaic_group1---127.png': [7360, 6440], '2015_02_02_hay_island_flight03_s110rgb_jpeg_mosaic_group1---128.png': [8280, 6440], '2015_02_02_hay_island_flight03_s110rgb_jpeg_mosaic_group1---129.png': [9200, 6440], '2015_02_02_hay_island_flight03_s110rgb_jpeg_mosaic_group1---130.png': [10120, 6440], '2015_02_02_hay_island_flight03_s110rgb_jpeg_mosaic_group1---131.png': [11040, 6440], '2015_02_02_hay_island_flight03_s110rgb_jpeg_mosaic_group1---132.png': [11960, 6440], '2015_02_02_hay_island_flight03_s110rgb_jpeg_mosaic_group1---133.png': [12880, 6440], '2015_02_02_hay_island_flight03_s110rgb_jpeg_mosaic_group1---134.png': [13800, 6440], '2015_02_02_hay_island_flight03_s110rgb_jpeg_mosaic_group1---135.png': [14720, 6440], '2015_02_02_hay_island_flight03_s110rgb_jpeg_mosaic_group1---136.png': [0, 7360], '2015_02_02_hay_island_flight03_s110rgb_jpeg_mosaic_group1---137.png': [920, 7360], '2015_02_02_hay_island_flight03_s110rgb_jpeg_mosaic_group1---138.png': [1840, 7360], '2015_02_02_hay_island_flight03_s110rgb_jpeg_mosaic_group1---139.png': [2760, 7360], '2015_02_02_hay_island_flight03_s110rgb_jpeg_mosaic_group1---140.png': [3680, 7360], '2015_02_02_hay_island_flight03_s110rgb_jpeg_mosaic_group1---141.png': [4600, 7360], '2015_02_02_hay_island_flight03_s110rgb_jpeg_mosaic_group1---142.png': [5520, 7360], '2015_02_02_hay_island_flight03_s110rgb_jpeg_mosaic_group1---143.png': [6440, 7360], '2015_02_02_hay_island_flight03_s110rgb_jpeg_mosaic_group1---144.png': [7360, 7360], '2015_02_02_hay_island_flight03_s110rgb_jpeg_mosaic_group1---145.png': [8280, 7360], '2015_02_02_hay_island_flight03_s110rgb_jpeg_mosaic_group1---146.png': [9200, 7360], '2015_02_02_hay_island_flight03_s110rgb_jpeg_mosaic_group1---147.png': [10120, 7360], '2015_02_02_hay_island_flight03_s110rgb_jpeg_mosaic_group1---148.png': [11040, 7360], '2015_02_02_hay_island_flight03_s110rgb_jpeg_mosaic_group1---149.png': [11960, 7360], '2015_02_02_hay_island_flight03_s110rgb_jpeg_mosaic_group1---150.png': [12880, 7360], '2015_02_02_hay_island_flight03_s110rgb_jpeg_mosaic_group1---151.png': [13800, 7360], '2015_02_02_hay_island_flight03_s110rgb_jpeg_mosaic_group1---152.png': [14720, 7360], '2015_02_02_hay_island_flight03_s110rgb_jpeg_mosaic_group1---153.png': [0, 8280], '2015_02_02_hay_island_flight03_s110rgb_jpeg_mosaic_group1---154.png': [920, 8280], '2015_02_02_hay_island_flight03_s110rgb_jpeg_mosaic_group1---155.png': [1840, 8280], '2015_02_02_hay_island_flight03_s110rgb_jpeg_mosaic_group1---156.png': [2760, 8280], '2015_02_02_hay_island_flight03_s110rgb_jpeg_mosaic_group1---157.png': [3680, 8280], '2015_02_02_hay_island_flight03_s110rgb_jpeg_mosaic_group1---158.png': [4600, 8280], '2015_02_02_hay_island_flight03_s110rgb_jpeg_mosaic_group1---159.png': [5520, 8280], '2015_02_02_hay_island_flight03_s110rgb_jpeg_mosaic_group1---160.png': [6440, 8280], '2015_02_02_hay_island_flight03_s110rgb_jpeg_mosaic_group1---161.png': [7360, 8280], '2015_02_02_hay_island_flight03_s110rgb_jpeg_mosaic_group1---162.png': [8280, 8280], '2015_02_02_hay_island_flight03_s110rgb_jpeg_mosaic_group1---163.png': [9200, 8280], '2015_02_02_hay_island_flight03_s110rgb_jpeg_mosaic_group1---164.png': [10120, 8280], '2015_02_02_hay_island_flight03_s110rgb_jpeg_mosaic_group1---165.png': [11040, 8280], '2015_02_02_hay_island_flight03_s110rgb_jpeg_mosaic_group1---166.png': [11960, 8280], '2015_02_02_hay_island_flight03_s110rgb_jpeg_mosaic_group1---167.png': [12880, 8280], '2015_02_02_hay_island_flight03_s110rgb_jpeg_mosaic_group1---168.png': [13800, 8280], '2015_02_02_hay_island_flight03_s110rgb_jpeg_mosaic_group1---169.png': [14720, 8280], '2015_02_02_hay_island_flight03_s110rgb_jpeg_mosaic_group1---170.png': [0, 9200], '2015_02_02_hay_island_flight03_s110rgb_jpeg_mosaic_group1---171.png': [920, 9200], '2015_02_02_hay_island_flight03_s110rgb_jpeg_mosaic_group1---172.png': [1840, 9200], '2015_02_02_hay_island_flight03_s110rgb_jpeg_mosaic_group1---173.png': [2760, 9200], '2015_02_02_hay_island_flight03_s110rgb_jpeg_mosaic_group1---174.png': [3680, 9200], '2015_02_02_hay_island_flight03_s110rgb_jpeg_mosaic_group1---175.png': [4600, 9200], '2015_02_02_hay_island_flight03_s110rgb_jpeg_mosaic_group1---176.png': [5520, 9200], '2015_02_02_hay_island_flight03_s110rgb_jpeg_mosaic_group1---177.png': [6440, 9200], '2015_02_02_hay_island_flight03_s110rgb_jpeg_mosaic_group1---178.png': [7360, 9200], '2015_02_02_hay_island_flight03_s110rgb_jpeg_mosaic_group1---179.png': [8280, 9200], '2015_02_02_hay_island_flight03_s110rgb_jpeg_mosaic_group1---180.png': [9200, 9200], '2015_02_02_hay_island_flight03_s110rgb_jpeg_mosaic_group1---181.png': [10120, 9200], '2015_02_02_hay_island_flight03_s110rgb_jpeg_mosaic_group1---182.png': [11040, 9200], '2015_02_02_hay_island_flight03_s110rgb_jpeg_mosaic_group1---183.png': [11960, 9200], '2015_02_02_hay_island_flight03_s110rgb_jpeg_mosaic_group1---184.png': [12880, 9200], '2015_02_02_hay_island_flight03_s110rgb_jpeg_mosaic_group1---185.png': [13800, 9200], '2015_02_02_hay_island_flight03_s110rgb_jpeg_mosaic_group1---186.png': [14720, 9200], '2015_02_02_hay_island_flight03_s110rgb_jpeg_mosaic_group1---187.png': [0, 10120], '2015_02_02_hay_island_flight03_s110rgb_jpeg_mosaic_group1---188.png': [920, 10120], '2015_02_02_hay_island_flight03_s110rgb_jpeg_mosaic_group1---189.png': [1840, 10120], '2015_02_02_hay_island_flight03_s110rgb_jpeg_mosaic_group1---190.png': [2760, 10120], '2015_02_02_hay_island_flight03_s110rgb_jpeg_mosaic_group1---191.png': [3680, 10120], '2015_02_02_hay_island_flight03_s110rgb_jpeg_mosaic_group1---192.png': [4600, 10120], '2015_02_02_hay_island_flight03_s110rgb_jpeg_mosaic_group1---193.png': [5520, 10120], '2015_02_02_hay_island_flight03_s110rgb_jpeg_mosaic_group1---194.png': [6440, 10120], '2015_02_02_hay_island_flight03_s110rgb_jpeg_mosaic_group1---195.png': [7360, 10120], '2015_02_02_hay_island_flight03_s110rgb_jpeg_mosaic_group1---196.png': [8280, 10120], '2015_02_02_hay_island_flight03_s110rgb_jpeg_mosaic_group1---197.png': [9200, 10120], '2015_02_02_hay_island_flight03_s110rgb_jpeg_mosaic_group1---198.png': [10120, 10120], '2015_02_02_hay_island_flight03_s110rgb_jpeg_mosaic_group1---199.png': [11040, 10120], '2015_02_02_hay_island_flight03_s110rgb_jpeg_mosaic_group1---200.png': [11960, 10120], '2015_02_02_hay_island_flight03_s110rgb_jpeg_mosaic_group1---201.png': [12880, 10120], '2015_02_02_hay_island_flight03_s110rgb_jpeg_mosaic_group1---202.png': [13800, 10120], '2015_02_02_hay_island_flight03_s110rgb_jpeg_mosaic_group1---203.png': [14720, 10120], '2015_02_02_hay_island_flight03_s110rgb_jpeg_mosaic_group1---204.png': [0, 11040], '2015_02_02_hay_island_flight03_s110rgb_jpeg_mosaic_group1---205.png': [920, 11040], '2015_02_02_hay_island_flight03_s110rgb_jpeg_mosaic_group1---206.png': [1840, 11040], '2015_02_02_hay_island_flight03_s110rgb_jpeg_mosaic_group1---207.png': [2760, 11040], '2015_02_02_hay_island_flight03_s110rgb_jpeg_mosaic_group1---208.png': [3680, 11040], '2015_02_02_hay_island_flight03_s110rgb_jpeg_mosaic_group1---209.png': [4600, 11040], '2015_02_02_hay_island_flight03_s110rgb_jpeg_mosaic_group1---210.png': [5520, 11040], '2015_02_02_hay_island_flight03_s110rgb_jpeg_mosaic_group1---211.png': [6440, 11040], '2015_02_02_hay_island_flight03_s110rgb_jpeg_mosaic_group1---212.png': [7360, 11040], '2015_02_02_hay_island_flight03_s110rgb_jpeg_mosaic_group1---213.png': [8280, 11040], '2015_02_02_hay_island_flight03_s110rgb_jpeg_mosaic_group1---214.png': [9200, 11040], '2015_02_02_hay_island_flight03_s110rgb_jpeg_mosaic_group1---215.png': [10120, 11040], '2015_02_02_hay_island_flight03_s110rgb_jpeg_mosaic_group1---216.png': [11040, 11040], '2015_02_02_hay_island_flight03_s110rgb_jpeg_mosaic_group1---217.png': [11960, 11040], '2015_02_02_hay_island_flight03_s110rgb_jpeg_mosaic_group1---218.png': [12880, 11040], '2015_02_02_hay_island_flight03_s110rgb_jpeg_mosaic_group1---219.png': [13800, 11040], '2015_02_02_hay_island_flight03_s110rgb_jpeg_mosaic_group1---220.png': [14720, 11040], '2015_02_02_hay_island_flight03_s110rgb_jpeg_mosaic_group1---221.png': [0, 11960], '2015_02_02_hay_island_flight03_s110rgb_jpeg_mosaic_group1---222.png': [920, 11960], '2015_02_02_hay_island_flight03_s110rgb_jpeg_mosaic_group1---223.png': [1840, 11960], '2015_02_02_hay_island_flight03_s110rgb_jpeg_mosaic_group1---224.png': [2760, 11960], '2015_02_02_hay_island_flight03_s110rgb_jpeg_mosaic_group1---225.png': [3680, 11960], '2015_02_02_hay_island_flight03_s110rgb_jpeg_mosaic_group1---226.png': [4600, 11960], '2015_02_02_hay_island_flight03_s110rgb_jpeg_mosaic_group1---227.png': [5520, 11960], '2015_02_02_hay_island_flight03_s110rgb_jpeg_mosaic_group1---228.png': [6440, 11960], '2015_02_02_hay_island_flight03_s110rgb_jpeg_mosaic_group1---229.png': [7360, 11960], '2015_02_02_hay_island_flight03_s110rgb_jpeg_mosaic_group1---230.png': [8280, 11960], '2015_02_02_hay_island_flight03_s110rgb_jpeg_mosaic_group1---231.png': [9200, 11960], '2015_02_02_hay_island_flight03_s110rgb_jpeg_mosaic_group1---232.png': [10120, 11960], '2015_02_02_hay_island_flight03_s110rgb_jpeg_mosaic_group1---233.png': [11040, 11960], '2015_02_02_hay_island_flight03_s110rgb_jpeg_mosaic_group1---234.png': [11960, 11960], '2015_02_02_hay_island_flight03_s110rgb_jpeg_mosaic_group1---235.png': [12880, 11960], '2015_02_02_hay_island_flight03_s110rgb_jpeg_mosaic_group1---236.png': [13800, 11960], '2015_02_02_hay_island_flight03_s110rgb_jpeg_mosaic_group1---237.png': [14720, 11960], '2015_02_02_hay_island_flight03_s110rgb_jpeg_mosaic_group1---238.png': [0, 12880], '2015_02_02_hay_island_flight03_s110rgb_jpeg_mosaic_group1---239.png': [920, 12880], '2015_02_02_hay_island_flight03_s110rgb_jpeg_mosaic_group1---240.png': [1840, 12880], '2015_02_02_hay_island_flight03_s110rgb_jpeg_mosaic_group1---241.png': [2760, 12880], '2015_02_02_hay_island_flight03_s110rgb_jpeg_mosaic_group1---242.png': [3680, 12880], '2015_02_02_hay_island_flight03_s110rgb_jpeg_mosaic_group1---243.png': [4600, 12880], '2015_02_02_hay_island_flight03_s110rgb_jpeg_mosaic_group1---244.png': [5520, 12880], '2015_02_02_hay_island_flight03_s110rgb_jpeg_mosaic_group1---245.png': [6440, 12880], '2015_02_02_hay_island_flight03_s110rgb_jpeg_mosaic_group1---246.png': [7360, 12880], '2015_02_02_hay_island_flight03_s110rgb_jpeg_mosaic_group1---247.png': [8280, 12880], '2015_02_02_hay_island_flight03_s110rgb_jpeg_mosaic_group1---248.png': [9200, 12880], '2015_02_02_hay_island_flight03_s110rgb_jpeg_mosaic_group1---249.png': [10120, 12880], '2015_02_02_hay_island_flight03_s110rgb_jpeg_mosaic_group1---250.png': [11040, 12880], '2015_02_02_hay_island_flight03_s110rgb_jpeg_mosaic_group1---251.png': [11960, 12880], '2015_02_02_hay_island_flight03_s110rgb_jpeg_mosaic_group1---252.png': [12880, 12880], '2015_02_02_hay_island_flight03_s110rgb_jpeg_mosaic_group1---253.png': [13800, 12880], '2015_02_02_hay_island_flight03_s110rgb_jpeg_mosaic_group1---254.png': [14720, 12880], '2015_02_02_hay_island_flight03_s110rgb_jpeg_mosaic_group1---255.png': [0, 13800], '2015_02_02_hay_island_flight03_s110rgb_jpeg_mosaic_group1---256.png': [920, 13800], '2015_02_02_hay_island_flight03_s110rgb_jpeg_mosaic_group1---257.png': [1840, 13800], '2015_02_02_hay_island_flight03_s110rgb_jpeg_mosaic_group1---258.png': [2760, 13800], '2015_02_02_hay_island_flight03_s110rgb_jpeg_mosaic_group1---259.png': [3680, 13800], '2015_02_02_hay_island_flight03_s110rgb_jpeg_mosaic_group1---260.png': [4600, 13800], '2015_02_02_hay_island_flight03_s110rgb_jpeg_mosaic_group1---261.png': [5520, 13800], '2015_02_02_hay_island_flight03_s110rgb_jpeg_mosaic_group1---262.png': [6440, 13800], '2015_02_02_hay_island_flight03_s110rgb_jpeg_mosaic_group1---263.png': [7360, 13800], '2015_02_02_hay_island_flight03_s110rgb_jpeg_mosaic_group1---264.png': [8280, 13800], '2015_02_02_hay_island_flight03_s110rgb_jpeg_mosaic_group1---265.png': [9200, 13800], '2015_02_02_hay_island_flight03_s110rgb_jpeg_mosaic_group1---266.png': [10120, 13800], '2015_02_02_hay_island_flight03_s110rgb_jpeg_mosaic_group1---267.png': [11040, 13800], '2015_02_02_hay_island_flight03_s110rgb_jpeg_mosaic_group1---268.png': [11960, 13800], '2015_02_02_hay_island_flight03_s110rgb_jpeg_mosaic_group1---269.png': [12880, 13800], '2015_02_02_hay_island_flight03_s110rgb_jpeg_mosaic_group1---270.png': [13800, 13800], '2015_02_02_hay_island_flight03_s110rgb_jpeg_mosaic_group1---271.png': [14720, 13800]}, 'crs': 'EPSG:32621'}\n"
          ],
          "name": "stdout"
        },
        {
          "output_type": "error",
          "ename": "KeyError",
          "evalue": "ignored",
          "traceback": [
            "\u001b[0;31m---------------------------------------------------------------------------\u001b[0m",
            "\u001b[0;31mKeyError\u001b[0m                                  Traceback (most recent call last)",
            "\u001b[0;32m<ipython-input-65-f0d554a0b19a>\u001b[0m in \u001b[0;36m<module>\u001b[0;34m()\u001b[0m\n\u001b[1;32m      1\u001b[0m \u001b[0mprint\u001b[0m\u001b[0;34m(\u001b[0m\u001b[0mimg_data\u001b[0m\u001b[0;34m)\u001b[0m\u001b[0;34m\u001b[0m\u001b[0;34m\u001b[0m\u001b[0m\n\u001b[1;32m      2\u001b[0m \u001b[0;32mfor\u001b[0m \u001b[0mi\u001b[0m \u001b[0;32min\u001b[0m \u001b[0mimg_data\u001b[0m\u001b[0;34m[\u001b[0m\u001b[0;34m\"image_locations\"\u001b[0m\u001b[0;34m]\u001b[0m\u001b[0;34m:\u001b[0m\u001b[0;34m\u001b[0m\u001b[0;34m\u001b[0m\u001b[0m\n\u001b[0;32m----> 3\u001b[0;31m   \u001b[0mprint\u001b[0m\u001b[0;34m(\u001b[0m\u001b[0msubset_dict\u001b[0m\u001b[0;34m[\u001b[0m\u001b[0mi\u001b[0m\u001b[0;34m]\u001b[0m\u001b[0;34m)\u001b[0m\u001b[0;34m\u001b[0m\u001b[0;34m\u001b[0m\u001b[0m\n\u001b[0m\u001b[1;32m      4\u001b[0m   \u001b[0mprint\u001b[0m\u001b[0;34m(\u001b[0m\u001b[0mimg_data\u001b[0m\u001b[0;34m[\u001b[0m\u001b[0;34m\"image_locations\"\u001b[0m\u001b[0;34m]\u001b[0m\u001b[0;34m[\u001b[0m\u001b[0mi\u001b[0m\u001b[0;34m]\u001b[0m\u001b[0;34m)\u001b[0m\u001b[0;34m\u001b[0m\u001b[0;34m\u001b[0m\u001b[0m\n\u001b[1;32m      5\u001b[0m \u001b[0;34m\u001b[0m\u001b[0m\n",
            "\u001b[0;31mKeyError\u001b[0m: '2015_02_02_hay_island_flight03_s110rgb_jpeg_mosaic_group1---0.png'"
          ]
        }
      ]
    },
    {
      "cell_type": "code",
      "metadata": {
        "colab": {
          "base_uri": "https://localhost:8080/"
        },
        "id": "S6g-x1Z-lJXu",
        "outputId": "ea601d99-8dc4-4ada-c175-547fd5140aa4"
      },
      "source": [
        "for i in subset_dict:\r\n",
        "  print(i)"
      ],
      "execution_count": null,
      "outputs": [
        {
          "output_type": "stream",
          "text": [
            "2015_02_02_hay_island_flight03_s110rgb_jpeg_mosaic_group1---196.png\n",
            "2015_02_02_hay_island_flight03_s110rgb_jpeg_mosaic_group1---155.png\n",
            "2015_02_02_hay_island_flight03_s110rgb_jpeg_mosaic_group1---30.png\n",
            "2015_02_02_hay_island_flight03_s110rgb_jpeg_mosaic_group1---259.png\n",
            "2015_02_02_hay_island_flight03_s110rgb_jpeg_mosaic_group1---191.png\n",
            "2015_02_02_hay_island_flight03_s110rgb_jpeg_mosaic_group1---47.png\n",
            "2015_02_02_hay_island_flight03_s110rgb_jpeg_mosaic_group1---225.png\n",
            "2015_02_02_hay_island_flight03_s110rgb_jpeg_mosaic_group1---15.png\n",
            "2015_02_02_hay_island_flight03_s110rgb_jpeg_mosaic_group1---135.png\n",
            "2015_02_02_hay_island_flight03_s110rgb_jpeg_mosaic_group1---49.png\n",
            "2015_02_02_hay_island_flight03_s110rgb_jpeg_mosaic_group1---269.png\n",
            "2015_02_02_hay_island_flight03_s110rgb_jpeg_mosaic_group1---92.png\n",
            "2015_02_02_hay_island_flight03_s110rgb_jpeg_mosaic_group1---170.png\n",
            "2015_02_02_hay_island_flight03_s110rgb_jpeg_mosaic_group1---145.png\n",
            "2015_02_02_hay_island_flight03_s110rgb_jpeg_mosaic_group1---141.png\n",
            "2015_02_02_hay_island_flight03_s110rgb_jpeg_mosaic_group1---93.png\n",
            "2015_02_02_hay_island_flight03_s110rgb_jpeg_mosaic_group1---178.png\n",
            "2015_02_02_hay_island_flight03_s110rgb_jpeg_mosaic_group1---212.png\n",
            "2015_02_02_hay_island_flight03_s110rgb_jpeg_mosaic_group1---167.png\n",
            "2015_02_02_hay_island_flight03_s110rgb_jpeg_mosaic_group1---46.png\n",
            "2015_02_02_hay_island_flight03_s110rgb_jpeg_mosaic_group1---140.png\n",
            "2015_02_02_hay_island_flight03_s110rgb_jpeg_mosaic_group1---131.png\n",
            "2015_02_02_hay_island_flight03_s110rgb_jpeg_mosaic_group1---44.png\n",
            "2015_02_02_hay_island_flight03_s110rgb_jpeg_mosaic_group1---260.png\n",
            "2015_02_02_hay_island_flight03_s110rgb_jpeg_mosaic_group1---232.png\n",
            "2015_02_02_hay_island_flight03_s110rgb_jpeg_mosaic_group1---208.png\n",
            "2015_02_02_hay_island_flight03_s110rgb_jpeg_mosaic_group1---184.png\n",
            "2015_02_02_hay_island_flight03_s110rgb_jpeg_mosaic_group1---112.png\n",
            "2015_02_02_hay_island_flight03_s110rgb_jpeg_mosaic_group1---16.png\n",
            "2015_02_02_hay_island_flight03_s110rgb_jpeg_mosaic_group1---88.png\n",
            "2015_02_02_hay_island_flight03_s110rgb_jpeg_mosaic_group1---187.png\n",
            "2015_02_02_hay_island_flight03_s110rgb_jpeg_mosaic_group1---144.png\n",
            "2015_02_02_hay_island_flight03_s110rgb_jpeg_mosaic_group1---74.png\n",
            "2015_02_02_hay_island_flight03_s110rgb_jpeg_mosaic_group1---62.png\n",
            "2015_02_02_hay_island_flight03_s110rgb_jpeg_mosaic_group1---221.png\n",
            "2015_02_02_hay_island_flight03_s110rgb_jpeg_mosaic_group1---190.png\n",
            "2015_02_02_hay_island_flight03_s110rgb_jpeg_mosaic_group1---45.png\n",
            "2015_02_02_hay_island_flight03_s110rgb_jpeg_mosaic_group1---78.png\n",
            "2015_02_02_hay_island_flight03_s110rgb_jpeg_mosaic_group1---228.png\n",
            "2015_02_02_hay_island_flight03_s110rgb_jpeg_mosaic_group1---201.png\n",
            "2015_02_02_hay_island_flight03_s110rgb_jpeg_mosaic_group1---247.png\n",
            "2015_02_02_hay_island_flight03_s110rgb_jpeg_mosaic_group1---222.png\n",
            "2015_02_02_hay_island_flight03_s110rgb_jpeg_mosaic_group1---42.png\n",
            "2015_02_02_hay_island_flight03_s110rgb_jpeg_mosaic_group1---224.png\n",
            "2015_02_02_hay_island_flight03_s110rgb_jpeg_mosaic_group1---172.png\n",
            "2015_02_02_hay_island_flight03_s110rgb_jpeg_mosaic_group1---96.png\n",
            "2015_02_02_hay_island_flight03_s110rgb_jpeg_mosaic_group1---124.png\n",
            "2015_02_02_hay_island_flight03_s110rgb_jpeg_mosaic_group1---265.png\n",
            "2015_02_02_hay_island_flight03_s110rgb_jpeg_mosaic_group1---181.png\n",
            "2015_02_02_hay_island_flight03_s110rgb_jpeg_mosaic_group1---243.png\n",
            "2015_02_02_hay_island_flight03_s110rgb_jpeg_mosaic_group1---143.png\n",
            "2015_02_02_hay_island_flight03_s110rgb_jpeg_mosaic_group1---213.png\n",
            "2015_02_02_hay_island_flight03_s110rgb_jpeg_mosaic_group1---205.png\n",
            "2015_02_02_hay_island_flight03_s110rgb_jpeg_mosaic_group1---241.png\n",
            "2015_02_02_hay_island_flight03_s110rgb_jpeg_mosaic_group1---97.png\n",
            "2015_02_02_hay_island_flight03_s110rgb_jpeg_mosaic_group1---91.png\n",
            "2015_02_02_hay_island_flight03_s110rgb_jpeg_mosaic_group1---41.png\n",
            "2015_02_02_hay_island_flight03_s110rgb_jpeg_mosaic_group1---169.png\n",
            "2015_02_02_hay_island_flight03_s110rgb_jpeg_mosaic_group1---164.png\n",
            "2015_02_02_hay_island_flight03_s110rgb_jpeg_mosaic_group1---29.png\n",
            "2015_02_02_hay_island_flight03_s110rgb_jpeg_mosaic_group1---151.png\n",
            "2015_02_02_hay_island_flight03_s110rgb_jpeg_mosaic_group1---120.png\n",
            "2015_02_02_hay_island_flight03_s110rgb_jpeg_mosaic_group1---14.png\n",
            "2015_02_02_hay_island_flight03_s110rgb_jpeg_mosaic_group1---95.png\n",
            "2015_02_02_hay_island_flight03_s110rgb_jpeg_mosaic_group1---9.png\n",
            "2015_02_02_hay_island_flight03_s110rgb_jpeg_mosaic_group1---27.png\n",
            "2015_02_02_hay_island_flight03_s110rgb_jpeg_mosaic_group1---152.png\n",
            "2015_02_02_hay_island_flight03_s110rgb_jpeg_mosaic_group1---75.png\n",
            "2015_02_02_hay_island_flight03_s110rgb_jpeg_mosaic_group1---127.png\n",
            "2015_02_02_hay_island_flight03_s110rgb_jpeg_mosaic_group1---10.png\n",
            "2015_02_02_hay_island_flight03_s110rgb_jpeg_mosaic_group1---99.png\n",
            "2015_02_02_hay_island_flight03_s110rgb_jpeg_mosaic_group1---248.png\n",
            "2015_02_02_hay_island_flight03_s110rgb_jpeg_mosaic_group1---60.png\n",
            "2015_02_02_hay_island_flight03_s110rgb_jpeg_mosaic_group1---250.png\n",
            "2015_02_02_hay_island_flight03_s110rgb_jpeg_mosaic_group1---146.png\n",
            "2015_02_02_hay_island_flight03_s110rgb_jpeg_mosaic_group1---226.png\n",
            "2015_02_02_hay_island_flight03_s110rgb_jpeg_mosaic_group1---239.png\n",
            "2015_02_02_hay_island_flight03_s110rgb_jpeg_mosaic_group1---110.png\n",
            "2015_02_02_hay_island_flight03_s110rgb_jpeg_mosaic_group1---176.png\n",
            "2015_02_02_hay_island_flight03_s110rgb_jpeg_mosaic_group1---106.png\n",
            "2015_02_02_hay_island_flight03_s110rgb_jpeg_mosaic_group1---67.png\n",
            "2015_02_02_hay_island_flight03_s110rgb_jpeg_mosaic_group1---217.png\n",
            "2015_02_02_hay_island_flight03_s110rgb_jpeg_mosaic_group1---183.png\n",
            "2015_02_02_hay_island_flight03_s110rgb_jpeg_mosaic_group1---133.png\n",
            "2015_02_02_hay_island_flight03_s110rgb_jpeg_mosaic_group1---198.png\n",
            "2015_02_02_hay_island_flight03_s110rgb_jpeg_mosaic_group1---79.png\n",
            "2015_02_02_hay_island_flight03_s110rgb_jpeg_mosaic_group1---65.png\n",
            "2015_02_02_hay_island_flight03_s110rgb_jpeg_mosaic_group1---165.png\n",
            "2015_02_02_hay_island_flight03_s110rgb_jpeg_mosaic_group1---48.png\n",
            "2015_02_02_hay_island_flight03_s110rgb_jpeg_mosaic_group1---109.png\n",
            "2015_02_02_hay_island_flight03_s110rgb_jpeg_mosaic_group1---214.png\n",
            "2015_02_02_hay_island_flight03_s110rgb_jpeg_mosaic_group1---252.png\n",
            "2015_02_02_hay_island_flight03_s110rgb_jpeg_mosaic_group1---100.png\n",
            "2015_02_02_hay_island_flight03_s110rgb_jpeg_mosaic_group1---194.png\n",
            "2015_02_02_hay_island_flight03_s110rgb_jpeg_mosaic_group1---188.png\n",
            "2015_02_02_hay_island_flight03_s110rgb_jpeg_mosaic_group1---43.png\n",
            "2015_02_02_hay_island_flight03_s110rgb_jpeg_mosaic_group1---139.png\n",
            "2015_02_02_hay_island_flight03_s110rgb_jpeg_mosaic_group1---130.png\n",
            "2015_02_02_hay_island_flight03_s110rgb_jpeg_mosaic_group1---166.png\n",
            "2015_02_02_hay_island_flight03_s110rgb_jpeg_mosaic_group1---251.png\n",
            "2015_02_02_hay_island_flight03_s110rgb_jpeg_mosaic_group1---238.png\n",
            "2015_02_02_hay_island_flight03_s110rgb_jpeg_mosaic_group1---101.png\n",
            "2015_02_02_hay_island_flight03_s110rgb_jpeg_mosaic_group1---138.png\n",
            "2015_02_02_hay_island_flight03_s110rgb_jpeg_mosaic_group1---266.png\n",
            "2015_02_02_hay_island_flight03_s110rgb_jpeg_mosaic_group1---223.png\n",
            "2015_02_02_hay_island_flight03_s110rgb_jpeg_mosaic_group1---150.png\n",
            "2015_02_02_hay_island_flight03_s110rgb_jpeg_mosaic_group1---105.png\n",
            "2015_02_02_hay_island_flight03_s110rgb_jpeg_mosaic_group1---72.png\n",
            "2015_02_02_hay_island_flight03_s110rgb_jpeg_mosaic_group1---12.png\n",
            "2015_02_02_hay_island_flight03_s110rgb_jpeg_mosaic_group1---231.png\n",
            "2015_02_02_hay_island_flight03_s110rgb_jpeg_mosaic_group1---123.png\n",
            "2015_02_02_hay_island_flight03_s110rgb_jpeg_mosaic_group1---268.png\n",
            "2015_02_02_hay_island_flight03_s110rgb_jpeg_mosaic_group1---177.png\n",
            "2015_02_02_hay_island_flight03_s110rgb_jpeg_mosaic_group1---230.png\n",
            "2015_02_02_hay_island_flight03_s110rgb_jpeg_mosaic_group1---83.png\n",
            "2015_02_02_hay_island_flight03_s110rgb_jpeg_mosaic_group1---26.png\n",
            "2015_02_02_hay_island_flight03_s110rgb_jpeg_mosaic_group1---257.png\n",
            "2015_02_02_hay_island_flight03_s110rgb_jpeg_mosaic_group1---200.png\n",
            "2015_02_02_hay_island_flight03_s110rgb_jpeg_mosaic_group1---28.png\n",
            "2015_02_02_hay_island_flight03_s110rgb_jpeg_mosaic_group1---240.png\n",
            "2015_02_02_hay_island_flight03_s110rgb_jpeg_mosaic_group1---61.png\n",
            "2015_02_02_hay_island_flight03_s110rgb_jpeg_mosaic_group1---142.png\n",
            "2015_02_02_hay_island_flight03_s110rgb_jpeg_mosaic_group1---161.png\n",
            "2015_02_02_hay_island_flight03_s110rgb_jpeg_mosaic_group1---209.png\n",
            "2015_02_02_hay_island_flight03_s110rgb_jpeg_mosaic_group1---173.png\n",
            "2015_02_02_hay_island_flight03_s110rgb_jpeg_mosaic_group1---236.png\n",
            "2015_02_02_hay_island_flight03_s110rgb_jpeg_mosaic_group1---59.png\n",
            "2015_02_02_hay_island_flight03_s110rgb_jpeg_mosaic_group1---89.png\n",
            "2015_02_02_hay_island_flight03_s110rgb_jpeg_mosaic_group1---126.png\n",
            "2015_02_02_hay_island_flight03_s110rgb_jpeg_mosaic_group1---148.png\n",
            "2015_02_02_hay_island_flight03_s110rgb_jpeg_mosaic_group1---197.png\n",
            "2015_02_02_hay_island_flight03_s110rgb_jpeg_mosaic_group1---210.png\n",
            "2015_02_02_hay_island_flight03_s110rgb_jpeg_mosaic_group1---157.png\n",
            "2015_02_02_hay_island_flight03_s110rgb_jpeg_mosaic_group1---168.png\n",
            "2015_02_02_hay_island_flight03_s110rgb_jpeg_mosaic_group1---57.png\n",
            "2015_02_02_hay_island_flight03_s110rgb_jpeg_mosaic_group1---76.png\n",
            "2015_02_02_hay_island_flight03_s110rgb_jpeg_mosaic_group1---171.png\n",
            "2015_02_02_hay_island_flight03_s110rgb_jpeg_mosaic_group1---132.png\n",
            "2015_02_02_hay_island_flight03_s110rgb_jpeg_mosaic_group1---258.png\n",
            "2015_02_02_hay_island_flight03_s110rgb_jpeg_mosaic_group1---229.png\n",
            "2015_02_02_hay_island_flight03_s110rgb_jpeg_mosaic_group1---199.png\n",
            "2015_02_02_hay_island_flight03_s110rgb_jpeg_mosaic_group1---206.png\n",
            "2015_02_02_hay_island_flight03_s110rgb_jpeg_mosaic_group1---63.png\n",
            "2015_02_02_hay_island_flight03_s110rgb_jpeg_mosaic_group1---118.png\n",
            "2015_02_02_hay_island_flight03_s110rgb_jpeg_mosaic_group1---207.png\n",
            "2015_02_02_hay_island_flight03_s110rgb_jpeg_mosaic_group1---31.png\n",
            "2015_02_02_hay_island_flight03_s110rgb_jpeg_mosaic_group1---162.png\n",
            "2015_02_02_hay_island_flight03_s110rgb_jpeg_mosaic_group1---80.png\n",
            "2015_02_02_hay_island_flight03_s110rgb_jpeg_mosaic_group1---204.png\n",
            "2015_02_02_hay_island_flight03_s110rgb_jpeg_mosaic_group1---128.png\n",
            "2015_02_02_hay_island_flight03_s110rgb_jpeg_mosaic_group1---182.png\n",
            "2015_02_02_hay_island_flight03_s110rgb_jpeg_mosaic_group1---189.png\n",
            "2015_02_02_hay_island_flight03_s110rgb_jpeg_mosaic_group1---244.png\n",
            "2015_02_02_hay_island_flight03_s110rgb_jpeg_mosaic_group1---215.png\n",
            "2015_02_02_hay_island_flight03_s110rgb_jpeg_mosaic_group1---262.png\n",
            "2015_02_02_hay_island_flight03_s110rgb_jpeg_mosaic_group1---160.png\n",
            "2015_02_02_hay_island_flight03_s110rgb_jpeg_mosaic_group1---125.png\n",
            "2015_02_02_hay_island_flight03_s110rgb_jpeg_mosaic_group1---158.png\n",
            "2015_02_02_hay_island_flight03_s110rgb_jpeg_mosaic_group1---227.png\n",
            "2015_02_02_hay_island_flight03_s110rgb_jpeg_mosaic_group1---104.png\n",
            "2015_02_02_hay_island_flight03_s110rgb_jpeg_mosaic_group1---25.png\n",
            "2015_02_02_hay_island_flight03_s110rgb_jpeg_mosaic_group1---192.png\n",
            "2015_02_02_hay_island_flight03_s110rgb_jpeg_mosaic_group1---77.png\n",
            "2015_02_02_hay_island_flight03_s110rgb_jpeg_mosaic_group1---32.png\n",
            "2015_02_02_hay_island_flight03_s110rgb_jpeg_mosaic_group1---129.png\n",
            "2015_02_02_hay_island_flight03_s110rgb_jpeg_mosaic_group1---156.png\n",
            "2015_02_02_hay_island_flight03_s110rgb_jpeg_mosaic_group1---246.png\n",
            "2015_02_02_hay_island_flight03_s110rgb_jpeg_mosaic_group1---116.png\n",
            "2015_02_02_hay_island_flight03_s110rgb_jpeg_mosaic_group1---216.png\n",
            "2015_02_02_hay_island_flight03_s110rgb_jpeg_mosaic_group1---233.png\n",
            "2015_02_02_hay_island_flight03_s110rgb_jpeg_mosaic_group1---134.png\n",
            "2015_02_02_hay_island_flight03_s110rgb_jpeg_mosaic_group1---114.png\n",
            "2015_02_02_hay_island_flight03_s110rgb_jpeg_mosaic_group1---202.png\n",
            "2015_02_02_hay_island_flight03_s110rgb_jpeg_mosaic_group1---267.png\n",
            "2015_02_02_hay_island_flight03_s110rgb_jpeg_mosaic_group1---174.png\n",
            "2015_02_02_hay_island_flight03_s110rgb_jpeg_mosaic_group1---149.png\n",
            "2015_02_02_hay_island_flight03_s110rgb_jpeg_mosaic_group1---245.png\n",
            "2015_02_02_hay_island_flight03_s110rgb_jpeg_mosaic_group1---64.png\n",
            "2015_02_02_hay_island_flight03_s110rgb_jpeg_mosaic_group1---193.png\n",
            "2015_02_02_hay_island_flight03_s110rgb_jpeg_mosaic_group1---115.png\n",
            "2015_02_02_hay_island_flight03_s110rgb_jpeg_mosaic_group1---211.png\n",
            "2015_02_02_hay_island_flight03_s110rgb_jpeg_mosaic_group1---58.png\n",
            "2015_02_02_hay_island_flight03_s110rgb_jpeg_mosaic_group1---13.png\n",
            "2015_02_02_hay_island_flight03_s110rgb_jpeg_mosaic_group1---122.png\n",
            "2015_02_02_hay_island_flight03_s110rgb_jpeg_mosaic_group1---84.png\n",
            "2015_02_02_hay_island_flight03_s110rgb_jpeg_mosaic_group1---159.png\n",
            "2015_02_02_hay_island_flight03_s110rgb_jpeg_mosaic_group1---113.png\n",
            "2015_02_02_hay_island_flight03_s110rgb_jpeg_mosaic_group1---98.png\n",
            "2015_02_02_hay_island_flight03_s110rgb_jpeg_mosaic_group1---81.png\n",
            "2015_02_02_hay_island_flight03_s110rgb_jpeg_mosaic_group1---121.png\n",
            "2015_02_02_hay_island_flight03_s110rgb_jpeg_mosaic_group1---249.png\n",
            "2015_02_02_hay_island_flight03_s110rgb_jpeg_mosaic_group1---256.png\n",
            "2015_02_02_hay_island_flight03_s110rgb_jpeg_mosaic_group1---163.png\n",
            "2015_02_02_hay_island_flight03_s110rgb_jpeg_mosaic_group1---50.png\n",
            "2015_02_02_hay_island_flight03_s110rgb_jpeg_mosaic_group1---137.png\n",
            "2015_02_02_hay_island_flight03_s110rgb_jpeg_mosaic_group1---264.png\n",
            "2015_02_02_hay_island_flight03_s110rgb_jpeg_mosaic_group1---242.png\n",
            "2015_02_02_hay_island_flight03_s110rgb_jpeg_mosaic_group1---153.png\n",
            "2015_02_02_hay_island_flight03_s110rgb_jpeg_mosaic_group1---94.png\n",
            "2015_02_02_hay_island_flight03_s110rgb_jpeg_mosaic_group1---111.png\n",
            "2015_02_02_hay_island_flight03_s110rgb_jpeg_mosaic_group1---107.png\n",
            "2015_02_02_hay_island_flight03_s110rgb_jpeg_mosaic_group1---195.png\n",
            "2015_02_02_hay_island_flight03_s110rgb_jpeg_mosaic_group1---218.png\n",
            "2015_02_02_hay_island_flight03_s110rgb_jpeg_mosaic_group1---234.png\n",
            "2015_02_02_hay_island_flight03_s110rgb_jpeg_mosaic_group1---90.png\n",
            "2015_02_02_hay_island_flight03_s110rgb_jpeg_mosaic_group1---180.png\n",
            "2015_02_02_hay_island_flight03_s110rgb_jpeg_mosaic_group1---33.png\n",
            "2015_02_02_hay_island_flight03_s110rgb_jpeg_mosaic_group1---261.png\n",
            "2015_02_02_hay_island_flight03_s110rgb_jpeg_mosaic_group1---136.png\n",
            "2015_02_02_hay_island_flight03_s110rgb_jpeg_mosaic_group1---235.png\n",
            "2015_02_02_hay_island_flight03_s110rgb_jpeg_mosaic_group1---147.png\n",
            "2015_02_02_hay_island_flight03_s110rgb_jpeg_mosaic_group1---185.png\n",
            "2015_02_02_hay_island_flight03_s110rgb_jpeg_mosaic_group1---219.png\n",
            "2015_02_02_hay_island_flight03_s110rgb_jpeg_mosaic_group1---11.png\n",
            "2015_02_02_hay_island_flight03_s110rgb_jpeg_mosaic_group1---179.png\n",
            "2015_02_02_hay_island_flight03_s110rgb_jpeg_mosaic_group1---66.png\n",
            "2015_02_02_hay_island_flight03_s110rgb_jpeg_mosaic_group1---263.png\n",
            "2015_02_02_hay_island_flight03_s110rgb_jpeg_mosaic_group1---82.png\n",
            "2015_02_02_hay_island_flight03_s110rgb_jpeg_mosaic_group1---154.png\n",
            "2015_02_02_hay_island_flight03_s110rgb_jpeg_mosaic_group1---117.png\n",
            "2015_02_02_hay_island_flight03_s110rgb_jpeg_mosaic_group1---108.png\n",
            "2015_02_02_hay_island_flight03_s110rgb_jpeg_mosaic_group1---175.png\n",
            "2015_02_02_hay_island_flight03_s110rgb_jpeg_mosaic_group1---73.png\n"
          ],
          "name": "stdout"
        }
      ]
    }
  ]
}
