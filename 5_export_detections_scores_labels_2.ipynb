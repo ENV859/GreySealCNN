{
  "nbformat": 4,
  "nbformat_minor": 0,
  "metadata": {
    "colab": {
      "name": "export_detections.ipynb",
      "provenance": [],
      "toc_visible": true
    },
    "kernelspec": {
      "display_name": "Python 3",
      "language": "python",
      "name": "python3"
    },
    "language_info": {
      "codemirror_mode": {
        "name": "ipython",
        "version": 3
      },
      "file_extension": ".py",
      "mimetype": "text/x-python",
      "name": "python",
      "nbconvert_exporter": "python",
      "pygments_lexer": "ipython3",
      "version": "3.8.3"
    }
  },
  "cells": [
    {
      "cell_type": "markdown",
      "metadata": {
        "id": "Y8WTbTOrpVVf"
      },
      "source": [
        "## Auditing and Exporting Detections"
      ]
    },
    {
      "cell_type": "markdown",
      "metadata": {
        "id": "o97tafnarHqG"
      },
      "source": [
        "#### Before running this script, make sure that your Google Drive folder contains the orthomosaic GeoTiff (`step 0`) and no other GeoTIFF files, the `data.json` file (`step 1`), the `classes.csv` file (`step3`) and the `new_detections.json` file (`step 4`). If you want to add your new CNN detections to the manually annotated detections you created in VIA, also add the JSON file you exported using VIA (`step 2`). You will need to input that file name directly, since it is not standardized in our workflow."
      ]
    },
    {
      "cell_type": "markdown",
      "metadata": {
        "id": "QI6JfXBBm1rs"
      },
      "source": [
        "<a href=\"https://colab.research.google.com/github/gl7176/GreySealCNN/blob/master/5_export_detections.ipynb\" target=\"_parent\"><img src=\"https://colab.research.google.com/assets/colab-badge.svg\" alt=\"Open In Colab\"/></a>\n",
        "#####  <center> Be sure to update this hyperlink above if you clone and want to point to a different GitHub </center>"
      ]
    },
    {
      "cell_type": "markdown",
      "metadata": {
        "id": "_0SGgVrGEWZN"
      },
      "source": [
        "### Connect to our Google Drive folder and pull annotation CSV"
      ]
    },
    {
      "cell_type": "code",
      "metadata": {
        "colab": {
          "base_uri": "https://localhost:8080/"
        },
        "id": "SYEIuuoGpkZm",
        "outputId": "f46f164f-b207-4a93-bcdf-e1ec2bedc51b"
      },
      "source": [
        "!pip install -U -q PyDrive\n",
        "import os\n",
        "from pydrive.auth import GoogleAuth\n",
        "from pydrive.drive import GoogleDrive\n",
        "from google.colab import auth\n",
        "from oauth2client.client import GoogleCredentials\n",
        "\n",
        "# 1. Authenticate and create the PyDrive client.\n",
        "auth.authenticate_user()\n",
        "gauth = GoogleAuth()\n",
        "gauth.credentials = GoogleCredentials.get_application_default()\n",
        "drive = GoogleDrive(gauth)\n",
        "\n",
        "# choose a local (colab) directory to store the data.\n",
        "local_download_path = os.path.expanduser('data')\n",
        "try:\n",
        "  os.makedirs(local_download_path)\n",
        "except: pass\n",
        "\n",
        "# 2. Auto-iterate using the query syntax\n",
        "#    https://developers.google.com/drive/v2/web/search-parameters\n",
        "\n",
        "# set variable to the destination google drive folder you want to pull from\n",
        "drive_folder = 'https://drive.google.com/drive/folders/1INuRNVKvKMy8L_Nb6lmoVbyvScWK0-0D'\n",
        "\n",
        "# this bit points the code to that google drive folder\n",
        "pointer = str(\"'\" + drive_folder.split(\"/\")[-1] + \"'\" + \" in parents\")\n",
        "\n",
        "file_list = drive.ListFile(\n",
        "    {'q': pointer}).GetList()\n",
        "\n",
        "#    this bit pulls key files from the directory specified above\n",
        "orthomosaic_file = {}\n",
        "for f in file_list:\n",
        "  # 3. Create & download by id.\n",
        "  fname = os.path.join(local_download_path, f['title'])\n",
        "  if fname.endswith(\".tif\") or fname.endswith(\".json\") or fname.endswith(\"classes.csv\"):\n",
        "    f_ = drive.CreateFile({'id': f['id']})\n",
        "    f_.GetContentFile(fname)\n",
        "    os.stat(fname)\n",
        "    # if the file is a *.tif and larger than 100 mb we label it the orthomosaic\n",
        "    if fname.endswith(\".tif\") and os.stat(fname).st_size > 10^8 :\n",
        "      # if there are multiple orthomosaic files detected we spit an error\n",
        "      if len(orthomosaic_file) != 0:\n",
        "        raise Exception(\"more than one orthomosaic file identified based on size and type\")\n",
        "      orthomosaic_file = fname\n",
        "      print(\"orthomosaic identified as \" + orthomosaic_file)\n",
        "print(\"all files pulled\")"
      ],
      "execution_count": 2,
      "outputs": [
        {
          "output_type": "stream",
          "text": [
            "orthomosaic identified as data/Hay Island 2015.tif\n",
            "all files pulled\n"
          ],
          "name": "stdout"
        }
      ]
    },
    {
      "cell_type": "markdown",
      "metadata": {
        "id": "FHksaZEPEWZO"
      },
      "source": [
        "### Set up the python environment and key variables"
      ]
    },
    {
      "cell_type": "code",
      "metadata": {
        "colab": {
          "base_uri": "https://localhost:8080/"
        },
        "id": "biwSnxfdpVVj",
        "outputId": "2283689a-747a-4e15-d919-ab95b0ca21e4"
      },
      "source": [
        "import os\n",
        "import argparse\n",
        "import numpy as np\n",
        "import json\n",
        "import csv\n",
        "!pip install rasterio\n",
        "import rasterio\n",
        "\n",
        "!shapely.geometry import mapping, Polygon\n",
        "!pip install fiona\n",
        "import fiona # only required for exporting to shapefiles"
      ],
      "execution_count": 3,
      "outputs": [
        {
          "output_type": "stream",
          "text": [
            "Collecting rasterio\n",
            "\u001b[?25l  Downloading https://files.pythonhosted.org/packages/33/1a/51baddc8581ead98fcef591624b4b2521b581943a9178912a2ac576e0235/rasterio-1.1.8-1-cp36-cp36m-manylinux1_x86_64.whl (18.3MB)\n",
            "\u001b[K     |████████████████████████████████| 18.3MB 246kB/s \n",
            "\u001b[?25hCollecting affine\n",
            "  Downloading https://files.pythonhosted.org/packages/ac/a6/1a39a1ede71210e3ddaf623982b06ecfc5c5c03741ae659073159184cd3e/affine-2.3.0-py2.py3-none-any.whl\n",
            "Requirement already satisfied: click<8,>=4.0 in /usr/local/lib/python3.6/dist-packages (from rasterio) (7.1.2)\n",
            "Requirement already satisfied: attrs in /usr/local/lib/python3.6/dist-packages (from rasterio) (20.2.0)\n",
            "Collecting snuggs>=1.4.1\n",
            "  Downloading https://files.pythonhosted.org/packages/cc/0e/d27d6e806d6c0d1a2cfdc5d1f088e42339a0a54a09c3343f7f81ec8947ea/snuggs-1.4.7-py3-none-any.whl\n",
            "Collecting cligj>=0.5\n",
            "  Downloading https://files.pythonhosted.org/packages/ba/06/e3440b1f2dc802d35f329f299ba96153e9fcbfdef75e17f4b61f79430c6a/cligj-0.7.0-py3-none-any.whl\n",
            "Requirement already satisfied: numpy in /usr/local/lib/python3.6/dist-packages (from rasterio) (1.18.5)\n",
            "Collecting click-plugins\n",
            "  Downloading https://files.pythonhosted.org/packages/e9/da/824b92d9942f4e472702488857914bdd50f73021efea15b4cad9aca8ecef/click_plugins-1.1.1-py2.py3-none-any.whl\n",
            "Requirement already satisfied: pyparsing>=2.1.6 in /usr/local/lib/python3.6/dist-packages (from snuggs>=1.4.1->rasterio) (2.4.7)\n",
            "Installing collected packages: affine, snuggs, cligj, click-plugins, rasterio\n",
            "Successfully installed affine-2.3.0 click-plugins-1.1.1 cligj-0.7.0 rasterio-1.1.8 snuggs-1.4.7\n",
            "/bin/bash: shapely.geometry: command not found\n",
            "Collecting fiona\n",
            "\u001b[?25l  Downloading https://files.pythonhosted.org/packages/37/94/4910fd55246c1d963727b03885ead6ef1cd3748a465f7b0239ab25dfc9a3/Fiona-1.8.18-cp36-cp36m-manylinux1_x86_64.whl (14.8MB)\n",
            "\u001b[K     |████████████████████████████████| 14.8MB 3.9MB/s \n",
            "\u001b[?25hRequirement already satisfied: cligj>=0.5 in /usr/local/lib/python3.6/dist-packages (from fiona) (0.7.0)\n",
            "Requirement already satisfied: six>=1.7 in /usr/local/lib/python3.6/dist-packages (from fiona) (1.15.0)\n",
            "Requirement already satisfied: attrs>=17 in /usr/local/lib/python3.6/dist-packages (from fiona) (20.2.0)\n",
            "Requirement already satisfied: click<8,>=4.0 in /usr/local/lib/python3.6/dist-packages (from fiona) (7.1.2)\n",
            "Requirement already satisfied: click-plugins>=1.0 in /usr/local/lib/python3.6/dist-packages (from fiona) (1.1.1)\n",
            "Requirement already satisfied: certifi in /usr/local/lib/python3.6/dist-packages (from fiona) (2020.6.20)\n",
            "Collecting munch\n",
            "  Downloading https://files.pythonhosted.org/packages/cc/ab/85d8da5c9a45e072301beb37ad7f833cd344e04c817d97e0cc75681d248f/munch-2.5.0-py2.py3-none-any.whl\n",
            "Installing collected packages: munch, fiona\n",
            "Successfully installed fiona-1.8.18 munch-2.5.0\n"
          ],
          "name": "stdout"
        }
      ]
    },
    {
      "cell_type": "markdown",
      "metadata": {
        "id": "Xrjsw-07pVVz"
      },
      "source": [
        "### Exporting to Shapefile"
      ]
    },
    {
      "cell_type": "code",
      "metadata": {
        "id": "8L2oMtotpVV0",
        "outputId": "d1dfca4f-5007-47dc-9f25-995a66a187a3",
        "colab": {
          "base_uri": "https://localhost:8080/"
        }
      },
      "source": [
        "# open the output from our CNN\n",
        "with open(local_download_path + '/new_detections.json') as f:\n",
        "    detected_labels = json.load(f)\n",
        "\n",
        "image_annotations = []\n",
        "for key, value in detected_labels.items():\n",
        "    annotation = [[key][0].split(\"/\")[-1]]\n",
        "    detections = []\n",
        "    for item in value:\n",
        "        box_w_label = []\n",
        "        box = item['box']\n",
        "        box_w_label.append(box)\n",
        "        score = item['score']\n",
        "        box_w_label.append(score)\n",
        "        label = item['label']\n",
        "        box_w_label.append(label)\n",
        "        detections.append(box_w_label)\n",
        "    annotation.append(detections)\n",
        "    image_annotations.append(annotation)\n",
        "for i in image_annotations:\n",
        "   print(i)"
      ],
      "execution_count": 59,
      "outputs": [
        {
          "output_type": "stream",
          "text": [
            "['2015_02_02_hay_island_flight03_s110rgb_jpeg_mosaic_group1---93.png', [[[706, 23, 752, 55], 0.8100398778915405, 1], [[682, 41, 719, 77], 0.796779215335846, 1], [[677, 480, 726, 556], 0.7938922047615051, 0], [[918, 250, 959, 286], 0.7647950053215027, 1], [[753, 147, 794, 185], 0.7569835782051086, 1], [[532, 179, 582, 217], 0.7454524040222168, 1], [[480, 248, 526, 286], 0.7198755145072937, 1], [[593, 866, 680, 908], 0.7141700983047485, 0], [[839, 746, 894, 814], 0.7027513384819031, 0], [[425, 222, 465, 262], 0.6947418451309204, 1], [[328, 529, 407, 575], 0.6922022700309753, 0], [[928, 619, 971, 656], 0.6312804222106934, 1], [[645, 16, 682, 52], 0.6308165788650513, 1], [[465, 736, 520, 798], 0.6239029169082642, 0], [[901, 206, 941, 239], 0.5846998691558838, 1], [[768, 191, 812, 225], 0.5823211669921875, 1], [[764, 571, 807, 648], 0.5560154914855957, 0], [[816, 120, 853, 160], 0.5341529846191406, 1], [[864, 249, 894, 293], 0.5253627896308899, 1], [[618, 32, 657, 72], 0.5241472125053406, 1], [[700, 25, 737, 65], 0.5115970969200134, 1]]]\n",
            "['2015_02_02_hay_island_flight03_s110rgb_jpeg_mosaic_group1---141.png', [[[38, 95, 100, 154], 0.8005296587944031, 0], [[242, 832, 302, 890], 0.7612110376358032, 0], [[341, 815, 413, 874], 0.7563406825065613, 0], [[153, 724, 222, 783], 0.7477250695228577, 0], [[99, 100, 147, 168], 0.5050873160362244, 0]]]\n",
            "['2015_02_02_hay_island_flight03_s110rgb_jpeg_mosaic_group1---47.png', [[[880, 525, 956, 575], 0.8289740681648254, 0], [[36, 860, 81, 896], 0.8149935603141785, 1], [[554, 315, 626, 362], 0.7683605551719666, 0], [[763, 244, 814, 315], 0.7623092532157898, 0], [[859, 473, 924, 525], 0.73640376329422, 0], [[405, 574, 443, 615], 0.7331129312515259, 1], [[372, 548, 417, 585], 0.7101958990097046, 1], [[532, 651, 576, 686], 0.6957816481590271, 1], [[109, 686, 149, 719], 0.6701443195343018, 1], [[27, 763, 66, 803], 0.6631865501403809, 1], [[453, 557, 493, 595], 0.6491010785102844, 1], [[701, 290, 771, 343], 0.6328545212745667, 0], [[44, 460, 90, 494], 0.6055355072021484, 1], [[773, 318, 826, 389], 0.5783419609069824, 0], [[87, 635, 125, 675], 0.5738425850868225, 1], [[160, 416, 203, 446], 0.5500553250312805, 1], [[100, 456, 141, 512], 0.5399839282035828, 1], [[652, 204, 695, 269], 0.5215948820114136, 0], [[953, 635, 995, 675], 0.5126307606697083, 1], [[653, 204, 694, 267], 0.5097969174385071, 1]]]\n",
            "['2015_02_02_hay_island_flight03_s110rgb_jpeg_mosaic_group1---46.png', [[[236, 219, 278, 254], 0.8537882566452026, 1], [[835, 367, 895, 416], 0.751011848449707, 0], [[288, 126, 331, 162], 0.75077885389328, 1], [[820, 139, 857, 173], 0.748471736907959, 1], [[954, 858, 998, 896], 0.7325831055641174, 1], [[945, 763, 985, 804], 0.6841405034065247, 1], [[229, 970, 274, 998], 0.6769172549247742, 1], [[356, 55, 398, 93], 0.6691503524780273, 1], [[490, 728, 533, 767], 0.6660303473472595, 1], [[461, 196, 499, 235], 0.6062019467353821, 1], [[304, 244, 351, 279], 0.5363649725914001, 1], [[707, 1, 775, 45], 0.5197767019271851, 0], [[19, 118, 59, 149], 0.5174189209938049, 1]]]\n",
            "['2015_02_02_hay_island_flight03_s110rgb_jpeg_mosaic_group1---191.png', [[[689, 625, 740, 693], 0.8000049591064453, 0], [[182, 177, 249, 229], 0.7499989867210388, 0], [[124, 688, 168, 724], 0.6645010113716125, 1], [[29, 779, 100, 825], 0.6410391926765442, 0], [[117, 333, 160, 375], 0.6067330241203308, 1], [[835, 677, 871, 724], 0.5996617674827576, 1]]]\n",
            "['2015_02_02_hay_island_flight03_s110rgb_jpeg_mosaic_group1---225.png', [[[34, 141, 74, 176], 0.8631736636161804, 1], [[232, 532, 312, 583], 0.7382947206497192, 0], [[197, 77, 240, 110], 0.7028705477714539, 1], [[41, 76, 81, 111], 0.6656913161277771, 1], [[135, 112, 173, 144], 0.6602678894996643, 1], [[191, 152, 228, 190], 0.6508147716522217, 1], [[209, 165, 246, 200], 0.6391923427581787, 1], [[249, 840, 319, 887], 0.6091223359107971, 0], [[300, 65, 351, 98], 0.5870876908302307, 1], [[1, 193, 38, 231], 0.5740509629249573, 1], [[392, 136, 438, 171], 0.5572558641433716, 1], [[156, 31, 200, 64], 0.5495995283126831, 1], [[311, 13, 351, 49], 0.5083692669868469, 1]]]\n",
            "['2015_02_02_hay_island_flight03_s110rgb_jpeg_mosaic_group1---140.png', [[[463, 376, 521, 453], 0.7103742361068726, 0], [[704, 604, 748, 643], 0.5582370758056641, 1]]]\n",
            "['2015_02_02_hay_island_flight03_s110rgb_jpeg_mosaic_group1---131.png', [[[848, 595, 900, 674], 0.5151150822639465, 0]]]\n",
            "['2015_02_02_hay_island_flight03_s110rgb_jpeg_mosaic_group1---212.png', [[[776, 221, 819, 254], 0.9102174639701843, 1], [[29, 220, 113, 276], 0.7982905507087708, 0], [[813, 79, 856, 114], 0.7797330021858215, 1], [[715, 81, 760, 115], 0.7431954741477966, 1], [[781, 168, 822, 202], 0.7049323916435242, 1], [[876, 153, 918, 186], 0.6958243250846863, 1], [[721, 280, 763, 312], 0.6834650039672852, 1], [[850, 179, 886, 216], 0.6774829030036926, 1], [[929, 131, 966, 171], 0.6758779883384705, 1], [[865, 76, 908, 109], 0.673917829990387, 1], [[864, 126, 898, 163], 0.6340917348861694, 1], [[910, 43, 955, 86], 0.6331232190132141, 1], [[740, 168, 777, 206], 0.5764768719673157, 1], [[498, 70, 539, 104], 0.5729532241821289, 1], [[928, 44, 963, 88], 0.5534679293632507, 1], [[759, 662, 799, 696], 0.5499571561813354, 1], [[76, 198, 149, 244], 0.5492626428604126, 0], [[778, 633, 812, 670], 0.5172434449195862, 1], [[922, 915, 960, 953], 0.500505805015564, 1]]]\n",
            "['2015_02_02_hay_island_flight03_s110rgb_jpeg_mosaic_group1---196.png', [[[139, 812, 193, 892], 0.887717604637146, 0], [[207, 695, 251, 733], 0.7157853841781616, 1], [[598, 124, 639, 156], 0.6414093375205994, 1], [[1, 659, 36, 702], 0.6139029264450073, 1], [[17, 635, 60, 677], 0.5907735824584961, 1], [[583, 73, 624, 108], 0.5580952167510986, 1]]]\n",
            "['2015_02_02_hay_island_flight03_s110rgb_jpeg_mosaic_group1---170.png', [[[679, 225, 736, 304], 0.5432886481285095, 0]]]\n",
            "['2015_02_02_hay_island_flight03_s110rgb_jpeg_mosaic_group1---92.png', [[[433, 517, 475, 551], 0.8218233585357666, 1], [[459, 542, 497, 575], 0.7190497517585754, 1], [[400, 331, 456, 386], 0.5980753898620605, 0], [[501, 491, 535, 532], 0.5757043957710266, 1], [[506, 541, 543, 570], 0.5658525824546814, 1], [[404, 310, 460, 373], 0.5533922910690308, 0], [[519, 564, 561, 592], 0.5445419549942017, 1]]]\n",
            "['2015_02_02_hay_island_flight03_s110rgb_jpeg_mosaic_group1---178.png', [[[32, 167, 103, 231], 0.8841370940208435, 0], [[503, 712, 572, 779], 0.8687878251075745, 0], [[470, 344, 516, 380], 0.7667324542999268, 1], [[555, 589, 614, 656], 0.744699239730835, 0], [[118, 77, 172, 142], 0.7388072609901428, 0], [[338, 96, 379, 130], 0.738582968711853, 1], [[287, 38, 328, 73], 0.7371256351470947, 1], [[387, 866, 442, 933], 0.7310243248939514, 0], [[780, 527, 827, 612], 0.7110059857368469, 0], [[556, 186, 593, 224], 0.6738904118537903, 1], [[361, 57, 402, 90], 0.658830463886261, 1], [[344, 367, 387, 401], 0.6056954264640808, 1], [[380, 66, 417, 99], 0.5940357446670532, 1], [[773, 155, 811, 212], 0.5058772563934326, 1], [[433, 380, 468, 418], 0.5005860924720764, 1]]]\n",
            "['2015_02_02_hay_island_flight03_s110rgb_jpeg_mosaic_group1---155.png', [[[907, 801, 979, 852], 0.5982405543327332, 0]]]\n",
            "['2015_02_02_hay_island_flight03_s110rgb_jpeg_mosaic_group1---145.png', [[[895, 244, 973, 293], 0.8620665073394775, 0], [[651, 11, 729, 55], 0.7767825126647949, 0]]]\n"
          ],
          "name": "stdout"
        }
      ]
    },
    {
      "cell_type": "code",
      "metadata": {
        "id": "xHKszcOLG8dq",
        "outputId": "4994290c-9fbc-4fb2-dc82-0b8b508216dd",
        "colab": {
          "base_uri": "https://localhost:8080/"
        }
      },
      "source": [
        "# open the output from our CNN\n",
        "with open(local_download_path + '/new_detections.json') as f:\n",
        "    detected_labels = json.load(f)\n",
        "\n",
        "image_annotations = []\n",
        "for key, value in detected_labels.items():\n",
        "    #print(str(key) + str(value))\n",
        "    annotation = [key][0].split(\"/\")[-1]\n",
        "    detections = []\n",
        "    for item in value:\n",
        "        img_w_detect = [annotation, item]\n",
        "        detections.append(img_w_detect)\n",
        "    image_annotations.append(detections)\n",
        "for i in image_annotations:\n",
        "   print(i)"
      ],
      "execution_count": 56,
      "outputs": [
        {
          "output_type": "stream",
          "text": [
            "[['2015_02_02_hay_island_flight03_s110rgb_jpeg_mosaic_group1---93.png', {'box': [706, 23, 752, 55], 'label': 1, 'score': 0.8100398778915405}], ['2015_02_02_hay_island_flight03_s110rgb_jpeg_mosaic_group1---93.png', {'box': [682, 41, 719, 77], 'label': 1, 'score': 0.796779215335846}], ['2015_02_02_hay_island_flight03_s110rgb_jpeg_mosaic_group1---93.png', {'box': [677, 480, 726, 556], 'label': 0, 'score': 0.7938922047615051}], ['2015_02_02_hay_island_flight03_s110rgb_jpeg_mosaic_group1---93.png', {'box': [918, 250, 959, 286], 'label': 1, 'score': 0.7647950053215027}], ['2015_02_02_hay_island_flight03_s110rgb_jpeg_mosaic_group1---93.png', {'box': [753, 147, 794, 185], 'label': 1, 'score': 0.7569835782051086}], ['2015_02_02_hay_island_flight03_s110rgb_jpeg_mosaic_group1---93.png', {'box': [532, 179, 582, 217], 'label': 1, 'score': 0.7454524040222168}], ['2015_02_02_hay_island_flight03_s110rgb_jpeg_mosaic_group1---93.png', {'box': [480, 248, 526, 286], 'label': 1, 'score': 0.7198755145072937}], ['2015_02_02_hay_island_flight03_s110rgb_jpeg_mosaic_group1---93.png', {'box': [593, 866, 680, 908], 'label': 0, 'score': 0.7141700983047485}], ['2015_02_02_hay_island_flight03_s110rgb_jpeg_mosaic_group1---93.png', {'box': [839, 746, 894, 814], 'label': 0, 'score': 0.7027513384819031}], ['2015_02_02_hay_island_flight03_s110rgb_jpeg_mosaic_group1---93.png', {'box': [425, 222, 465, 262], 'label': 1, 'score': 0.6947418451309204}], ['2015_02_02_hay_island_flight03_s110rgb_jpeg_mosaic_group1---93.png', {'box': [328, 529, 407, 575], 'label': 0, 'score': 0.6922022700309753}], ['2015_02_02_hay_island_flight03_s110rgb_jpeg_mosaic_group1---93.png', {'box': [928, 619, 971, 656], 'label': 1, 'score': 0.6312804222106934}], ['2015_02_02_hay_island_flight03_s110rgb_jpeg_mosaic_group1---93.png', {'box': [645, 16, 682, 52], 'label': 1, 'score': 0.6308165788650513}], ['2015_02_02_hay_island_flight03_s110rgb_jpeg_mosaic_group1---93.png', {'box': [465, 736, 520, 798], 'label': 0, 'score': 0.6239029169082642}], ['2015_02_02_hay_island_flight03_s110rgb_jpeg_mosaic_group1---93.png', {'box': [901, 206, 941, 239], 'label': 1, 'score': 0.5846998691558838}], ['2015_02_02_hay_island_flight03_s110rgb_jpeg_mosaic_group1---93.png', {'box': [768, 191, 812, 225], 'label': 1, 'score': 0.5823211669921875}], ['2015_02_02_hay_island_flight03_s110rgb_jpeg_mosaic_group1---93.png', {'box': [764, 571, 807, 648], 'label': 0, 'score': 0.5560154914855957}], ['2015_02_02_hay_island_flight03_s110rgb_jpeg_mosaic_group1---93.png', {'box': [816, 120, 853, 160], 'label': 1, 'score': 0.5341529846191406}], ['2015_02_02_hay_island_flight03_s110rgb_jpeg_mosaic_group1---93.png', {'box': [864, 249, 894, 293], 'label': 1, 'score': 0.5253627896308899}], ['2015_02_02_hay_island_flight03_s110rgb_jpeg_mosaic_group1---93.png', {'box': [618, 32, 657, 72], 'label': 1, 'score': 0.5241472125053406}], ['2015_02_02_hay_island_flight03_s110rgb_jpeg_mosaic_group1---93.png', {'box': [700, 25, 737, 65], 'label': 1, 'score': 0.5115970969200134}]]\n",
            "[['2015_02_02_hay_island_flight03_s110rgb_jpeg_mosaic_group1---141.png', {'box': [38, 95, 100, 154], 'label': 0, 'score': 0.8005296587944031}], ['2015_02_02_hay_island_flight03_s110rgb_jpeg_mosaic_group1---141.png', {'box': [242, 832, 302, 890], 'label': 0, 'score': 0.7612110376358032}], ['2015_02_02_hay_island_flight03_s110rgb_jpeg_mosaic_group1---141.png', {'box': [341, 815, 413, 874], 'label': 0, 'score': 0.7563406825065613}], ['2015_02_02_hay_island_flight03_s110rgb_jpeg_mosaic_group1---141.png', {'box': [153, 724, 222, 783], 'label': 0, 'score': 0.7477250695228577}], ['2015_02_02_hay_island_flight03_s110rgb_jpeg_mosaic_group1---141.png', {'box': [99, 100, 147, 168], 'label': 0, 'score': 0.5050873160362244}]]\n",
            "[['2015_02_02_hay_island_flight03_s110rgb_jpeg_mosaic_group1---47.png', {'box': [880, 525, 956, 575], 'label': 0, 'score': 0.8289740681648254}], ['2015_02_02_hay_island_flight03_s110rgb_jpeg_mosaic_group1---47.png', {'box': [36, 860, 81, 896], 'label': 1, 'score': 0.8149935603141785}], ['2015_02_02_hay_island_flight03_s110rgb_jpeg_mosaic_group1---47.png', {'box': [554, 315, 626, 362], 'label': 0, 'score': 0.7683605551719666}], ['2015_02_02_hay_island_flight03_s110rgb_jpeg_mosaic_group1---47.png', {'box': [763, 244, 814, 315], 'label': 0, 'score': 0.7623092532157898}], ['2015_02_02_hay_island_flight03_s110rgb_jpeg_mosaic_group1---47.png', {'box': [859, 473, 924, 525], 'label': 0, 'score': 0.73640376329422}], ['2015_02_02_hay_island_flight03_s110rgb_jpeg_mosaic_group1---47.png', {'box': [405, 574, 443, 615], 'label': 1, 'score': 0.7331129312515259}], ['2015_02_02_hay_island_flight03_s110rgb_jpeg_mosaic_group1---47.png', {'box': [372, 548, 417, 585], 'label': 1, 'score': 0.7101958990097046}], ['2015_02_02_hay_island_flight03_s110rgb_jpeg_mosaic_group1---47.png', {'box': [532, 651, 576, 686], 'label': 1, 'score': 0.6957816481590271}], ['2015_02_02_hay_island_flight03_s110rgb_jpeg_mosaic_group1---47.png', {'box': [109, 686, 149, 719], 'label': 1, 'score': 0.6701443195343018}], ['2015_02_02_hay_island_flight03_s110rgb_jpeg_mosaic_group1---47.png', {'box': [27, 763, 66, 803], 'label': 1, 'score': 0.6631865501403809}], ['2015_02_02_hay_island_flight03_s110rgb_jpeg_mosaic_group1---47.png', {'box': [453, 557, 493, 595], 'label': 1, 'score': 0.6491010785102844}], ['2015_02_02_hay_island_flight03_s110rgb_jpeg_mosaic_group1---47.png', {'box': [701, 290, 771, 343], 'label': 0, 'score': 0.6328545212745667}], ['2015_02_02_hay_island_flight03_s110rgb_jpeg_mosaic_group1---47.png', {'box': [44, 460, 90, 494], 'label': 1, 'score': 0.6055355072021484}], ['2015_02_02_hay_island_flight03_s110rgb_jpeg_mosaic_group1---47.png', {'box': [773, 318, 826, 389], 'label': 0, 'score': 0.5783419609069824}], ['2015_02_02_hay_island_flight03_s110rgb_jpeg_mosaic_group1---47.png', {'box': [87, 635, 125, 675], 'label': 1, 'score': 0.5738425850868225}], ['2015_02_02_hay_island_flight03_s110rgb_jpeg_mosaic_group1---47.png', {'box': [160, 416, 203, 446], 'label': 1, 'score': 0.5500553250312805}], ['2015_02_02_hay_island_flight03_s110rgb_jpeg_mosaic_group1---47.png', {'box': [100, 456, 141, 512], 'label': 1, 'score': 0.5399839282035828}], ['2015_02_02_hay_island_flight03_s110rgb_jpeg_mosaic_group1---47.png', {'box': [652, 204, 695, 269], 'label': 0, 'score': 0.5215948820114136}], ['2015_02_02_hay_island_flight03_s110rgb_jpeg_mosaic_group1---47.png', {'box': [953, 635, 995, 675], 'label': 1, 'score': 0.5126307606697083}], ['2015_02_02_hay_island_flight03_s110rgb_jpeg_mosaic_group1---47.png', {'box': [653, 204, 694, 267], 'label': 1, 'score': 0.5097969174385071}]]\n",
            "[['2015_02_02_hay_island_flight03_s110rgb_jpeg_mosaic_group1---46.png', {'box': [236, 219, 278, 254], 'label': 1, 'score': 0.8537882566452026}], ['2015_02_02_hay_island_flight03_s110rgb_jpeg_mosaic_group1---46.png', {'box': [835, 367, 895, 416], 'label': 0, 'score': 0.751011848449707}], ['2015_02_02_hay_island_flight03_s110rgb_jpeg_mosaic_group1---46.png', {'box': [288, 126, 331, 162], 'label': 1, 'score': 0.75077885389328}], ['2015_02_02_hay_island_flight03_s110rgb_jpeg_mosaic_group1---46.png', {'box': [820, 139, 857, 173], 'label': 1, 'score': 0.748471736907959}], ['2015_02_02_hay_island_flight03_s110rgb_jpeg_mosaic_group1---46.png', {'box': [954, 858, 998, 896], 'label': 1, 'score': 0.7325831055641174}], ['2015_02_02_hay_island_flight03_s110rgb_jpeg_mosaic_group1---46.png', {'box': [945, 763, 985, 804], 'label': 1, 'score': 0.6841405034065247}], ['2015_02_02_hay_island_flight03_s110rgb_jpeg_mosaic_group1---46.png', {'box': [229, 970, 274, 998], 'label': 1, 'score': 0.6769172549247742}], ['2015_02_02_hay_island_flight03_s110rgb_jpeg_mosaic_group1---46.png', {'box': [356, 55, 398, 93], 'label': 1, 'score': 0.6691503524780273}], ['2015_02_02_hay_island_flight03_s110rgb_jpeg_mosaic_group1---46.png', {'box': [490, 728, 533, 767], 'label': 1, 'score': 0.6660303473472595}], ['2015_02_02_hay_island_flight03_s110rgb_jpeg_mosaic_group1---46.png', {'box': [461, 196, 499, 235], 'label': 1, 'score': 0.6062019467353821}], ['2015_02_02_hay_island_flight03_s110rgb_jpeg_mosaic_group1---46.png', {'box': [304, 244, 351, 279], 'label': 1, 'score': 0.5363649725914001}], ['2015_02_02_hay_island_flight03_s110rgb_jpeg_mosaic_group1---46.png', {'box': [707, 1, 775, 45], 'label': 0, 'score': 0.5197767019271851}], ['2015_02_02_hay_island_flight03_s110rgb_jpeg_mosaic_group1---46.png', {'box': [19, 118, 59, 149], 'label': 1, 'score': 0.5174189209938049}]]\n",
            "[['2015_02_02_hay_island_flight03_s110rgb_jpeg_mosaic_group1---191.png', {'box': [689, 625, 740, 693], 'label': 0, 'score': 0.8000049591064453}], ['2015_02_02_hay_island_flight03_s110rgb_jpeg_mosaic_group1---191.png', {'box': [182, 177, 249, 229], 'label': 0, 'score': 0.7499989867210388}], ['2015_02_02_hay_island_flight03_s110rgb_jpeg_mosaic_group1---191.png', {'box': [124, 688, 168, 724], 'label': 1, 'score': 0.6645010113716125}], ['2015_02_02_hay_island_flight03_s110rgb_jpeg_mosaic_group1---191.png', {'box': [29, 779, 100, 825], 'label': 0, 'score': 0.6410391926765442}], ['2015_02_02_hay_island_flight03_s110rgb_jpeg_mosaic_group1---191.png', {'box': [117, 333, 160, 375], 'label': 1, 'score': 0.6067330241203308}], ['2015_02_02_hay_island_flight03_s110rgb_jpeg_mosaic_group1---191.png', {'box': [835, 677, 871, 724], 'label': 1, 'score': 0.5996617674827576}]]\n",
            "[['2015_02_02_hay_island_flight03_s110rgb_jpeg_mosaic_group1---225.png', {'box': [34, 141, 74, 176], 'label': 1, 'score': 0.8631736636161804}], ['2015_02_02_hay_island_flight03_s110rgb_jpeg_mosaic_group1---225.png', {'box': [232, 532, 312, 583], 'label': 0, 'score': 0.7382947206497192}], ['2015_02_02_hay_island_flight03_s110rgb_jpeg_mosaic_group1---225.png', {'box': [197, 77, 240, 110], 'label': 1, 'score': 0.7028705477714539}], ['2015_02_02_hay_island_flight03_s110rgb_jpeg_mosaic_group1---225.png', {'box': [41, 76, 81, 111], 'label': 1, 'score': 0.6656913161277771}], ['2015_02_02_hay_island_flight03_s110rgb_jpeg_mosaic_group1---225.png', {'box': [135, 112, 173, 144], 'label': 1, 'score': 0.6602678894996643}], ['2015_02_02_hay_island_flight03_s110rgb_jpeg_mosaic_group1---225.png', {'box': [191, 152, 228, 190], 'label': 1, 'score': 0.6508147716522217}], ['2015_02_02_hay_island_flight03_s110rgb_jpeg_mosaic_group1---225.png', {'box': [209, 165, 246, 200], 'label': 1, 'score': 0.6391923427581787}], ['2015_02_02_hay_island_flight03_s110rgb_jpeg_mosaic_group1---225.png', {'box': [249, 840, 319, 887], 'label': 0, 'score': 0.6091223359107971}], ['2015_02_02_hay_island_flight03_s110rgb_jpeg_mosaic_group1---225.png', {'box': [300, 65, 351, 98], 'label': 1, 'score': 0.5870876908302307}], ['2015_02_02_hay_island_flight03_s110rgb_jpeg_mosaic_group1---225.png', {'box': [1, 193, 38, 231], 'label': 1, 'score': 0.5740509629249573}], ['2015_02_02_hay_island_flight03_s110rgb_jpeg_mosaic_group1---225.png', {'box': [392, 136, 438, 171], 'label': 1, 'score': 0.5572558641433716}], ['2015_02_02_hay_island_flight03_s110rgb_jpeg_mosaic_group1---225.png', {'box': [156, 31, 200, 64], 'label': 1, 'score': 0.5495995283126831}], ['2015_02_02_hay_island_flight03_s110rgb_jpeg_mosaic_group1---225.png', {'box': [311, 13, 351, 49], 'label': 1, 'score': 0.5083692669868469}]]\n",
            "[['2015_02_02_hay_island_flight03_s110rgb_jpeg_mosaic_group1---140.png', {'box': [463, 376, 521, 453], 'label': 0, 'score': 0.7103742361068726}], ['2015_02_02_hay_island_flight03_s110rgb_jpeg_mosaic_group1---140.png', {'box': [704, 604, 748, 643], 'label': 1, 'score': 0.5582370758056641}]]\n",
            "[['2015_02_02_hay_island_flight03_s110rgb_jpeg_mosaic_group1---131.png', {'box': [848, 595, 900, 674], 'label': 0, 'score': 0.5151150822639465}]]\n",
            "[['2015_02_02_hay_island_flight03_s110rgb_jpeg_mosaic_group1---212.png', {'box': [776, 221, 819, 254], 'label': 1, 'score': 0.9102174639701843}], ['2015_02_02_hay_island_flight03_s110rgb_jpeg_mosaic_group1---212.png', {'box': [29, 220, 113, 276], 'label': 0, 'score': 0.7982905507087708}], ['2015_02_02_hay_island_flight03_s110rgb_jpeg_mosaic_group1---212.png', {'box': [813, 79, 856, 114], 'label': 1, 'score': 0.7797330021858215}], ['2015_02_02_hay_island_flight03_s110rgb_jpeg_mosaic_group1---212.png', {'box': [715, 81, 760, 115], 'label': 1, 'score': 0.7431954741477966}], ['2015_02_02_hay_island_flight03_s110rgb_jpeg_mosaic_group1---212.png', {'box': [781, 168, 822, 202], 'label': 1, 'score': 0.7049323916435242}], ['2015_02_02_hay_island_flight03_s110rgb_jpeg_mosaic_group1---212.png', {'box': [876, 153, 918, 186], 'label': 1, 'score': 0.6958243250846863}], ['2015_02_02_hay_island_flight03_s110rgb_jpeg_mosaic_group1---212.png', {'box': [721, 280, 763, 312], 'label': 1, 'score': 0.6834650039672852}], ['2015_02_02_hay_island_flight03_s110rgb_jpeg_mosaic_group1---212.png', {'box': [850, 179, 886, 216], 'label': 1, 'score': 0.6774829030036926}], ['2015_02_02_hay_island_flight03_s110rgb_jpeg_mosaic_group1---212.png', {'box': [929, 131, 966, 171], 'label': 1, 'score': 0.6758779883384705}], ['2015_02_02_hay_island_flight03_s110rgb_jpeg_mosaic_group1---212.png', {'box': [865, 76, 908, 109], 'label': 1, 'score': 0.673917829990387}], ['2015_02_02_hay_island_flight03_s110rgb_jpeg_mosaic_group1---212.png', {'box': [864, 126, 898, 163], 'label': 1, 'score': 0.6340917348861694}], ['2015_02_02_hay_island_flight03_s110rgb_jpeg_mosaic_group1---212.png', {'box': [910, 43, 955, 86], 'label': 1, 'score': 0.6331232190132141}], ['2015_02_02_hay_island_flight03_s110rgb_jpeg_mosaic_group1---212.png', {'box': [740, 168, 777, 206], 'label': 1, 'score': 0.5764768719673157}], ['2015_02_02_hay_island_flight03_s110rgb_jpeg_mosaic_group1---212.png', {'box': [498, 70, 539, 104], 'label': 1, 'score': 0.5729532241821289}], ['2015_02_02_hay_island_flight03_s110rgb_jpeg_mosaic_group1---212.png', {'box': [928, 44, 963, 88], 'label': 1, 'score': 0.5534679293632507}], ['2015_02_02_hay_island_flight03_s110rgb_jpeg_mosaic_group1---212.png', {'box': [759, 662, 799, 696], 'label': 1, 'score': 0.5499571561813354}], ['2015_02_02_hay_island_flight03_s110rgb_jpeg_mosaic_group1---212.png', {'box': [76, 198, 149, 244], 'label': 0, 'score': 0.5492626428604126}], ['2015_02_02_hay_island_flight03_s110rgb_jpeg_mosaic_group1---212.png', {'box': [778, 633, 812, 670], 'label': 1, 'score': 0.5172434449195862}], ['2015_02_02_hay_island_flight03_s110rgb_jpeg_mosaic_group1---212.png', {'box': [922, 915, 960, 953], 'label': 1, 'score': 0.500505805015564}]]\n",
            "[['2015_02_02_hay_island_flight03_s110rgb_jpeg_mosaic_group1---196.png', {'box': [139, 812, 193, 892], 'label': 0, 'score': 0.887717604637146}], ['2015_02_02_hay_island_flight03_s110rgb_jpeg_mosaic_group1---196.png', {'box': [207, 695, 251, 733], 'label': 1, 'score': 0.7157853841781616}], ['2015_02_02_hay_island_flight03_s110rgb_jpeg_mosaic_group1---196.png', {'box': [598, 124, 639, 156], 'label': 1, 'score': 0.6414093375205994}], ['2015_02_02_hay_island_flight03_s110rgb_jpeg_mosaic_group1---196.png', {'box': [1, 659, 36, 702], 'label': 1, 'score': 0.6139029264450073}], ['2015_02_02_hay_island_flight03_s110rgb_jpeg_mosaic_group1---196.png', {'box': [17, 635, 60, 677], 'label': 1, 'score': 0.5907735824584961}], ['2015_02_02_hay_island_flight03_s110rgb_jpeg_mosaic_group1---196.png', {'box': [583, 73, 624, 108], 'label': 1, 'score': 0.5580952167510986}]]\n",
            "[['2015_02_02_hay_island_flight03_s110rgb_jpeg_mosaic_group1---170.png', {'box': [679, 225, 736, 304], 'label': 0, 'score': 0.5432886481285095}]]\n",
            "[['2015_02_02_hay_island_flight03_s110rgb_jpeg_mosaic_group1---92.png', {'box': [433, 517, 475, 551], 'label': 1, 'score': 0.8218233585357666}], ['2015_02_02_hay_island_flight03_s110rgb_jpeg_mosaic_group1---92.png', {'box': [459, 542, 497, 575], 'label': 1, 'score': 0.7190497517585754}], ['2015_02_02_hay_island_flight03_s110rgb_jpeg_mosaic_group1---92.png', {'box': [400, 331, 456, 386], 'label': 0, 'score': 0.5980753898620605}], ['2015_02_02_hay_island_flight03_s110rgb_jpeg_mosaic_group1---92.png', {'box': [501, 491, 535, 532], 'label': 1, 'score': 0.5757043957710266}], ['2015_02_02_hay_island_flight03_s110rgb_jpeg_mosaic_group1---92.png', {'box': [506, 541, 543, 570], 'label': 1, 'score': 0.5658525824546814}], ['2015_02_02_hay_island_flight03_s110rgb_jpeg_mosaic_group1---92.png', {'box': [404, 310, 460, 373], 'label': 0, 'score': 0.5533922910690308}], ['2015_02_02_hay_island_flight03_s110rgb_jpeg_mosaic_group1---92.png', {'box': [519, 564, 561, 592], 'label': 1, 'score': 0.5445419549942017}]]\n",
            "[['2015_02_02_hay_island_flight03_s110rgb_jpeg_mosaic_group1---178.png', {'box': [32, 167, 103, 231], 'label': 0, 'score': 0.8841370940208435}], ['2015_02_02_hay_island_flight03_s110rgb_jpeg_mosaic_group1---178.png', {'box': [503, 712, 572, 779], 'label': 0, 'score': 0.8687878251075745}], ['2015_02_02_hay_island_flight03_s110rgb_jpeg_mosaic_group1---178.png', {'box': [470, 344, 516, 380], 'label': 1, 'score': 0.7667324542999268}], ['2015_02_02_hay_island_flight03_s110rgb_jpeg_mosaic_group1---178.png', {'box': [555, 589, 614, 656], 'label': 0, 'score': 0.744699239730835}], ['2015_02_02_hay_island_flight03_s110rgb_jpeg_mosaic_group1---178.png', {'box': [118, 77, 172, 142], 'label': 0, 'score': 0.7388072609901428}], ['2015_02_02_hay_island_flight03_s110rgb_jpeg_mosaic_group1---178.png', {'box': [338, 96, 379, 130], 'label': 1, 'score': 0.738582968711853}], ['2015_02_02_hay_island_flight03_s110rgb_jpeg_mosaic_group1---178.png', {'box': [287, 38, 328, 73], 'label': 1, 'score': 0.7371256351470947}], ['2015_02_02_hay_island_flight03_s110rgb_jpeg_mosaic_group1---178.png', {'box': [387, 866, 442, 933], 'label': 0, 'score': 0.7310243248939514}], ['2015_02_02_hay_island_flight03_s110rgb_jpeg_mosaic_group1---178.png', {'box': [780, 527, 827, 612], 'label': 0, 'score': 0.7110059857368469}], ['2015_02_02_hay_island_flight03_s110rgb_jpeg_mosaic_group1---178.png', {'box': [556, 186, 593, 224], 'label': 1, 'score': 0.6738904118537903}], ['2015_02_02_hay_island_flight03_s110rgb_jpeg_mosaic_group1---178.png', {'box': [361, 57, 402, 90], 'label': 1, 'score': 0.658830463886261}], ['2015_02_02_hay_island_flight03_s110rgb_jpeg_mosaic_group1---178.png', {'box': [344, 367, 387, 401], 'label': 1, 'score': 0.6056954264640808}], ['2015_02_02_hay_island_flight03_s110rgb_jpeg_mosaic_group1---178.png', {'box': [380, 66, 417, 99], 'label': 1, 'score': 0.5940357446670532}], ['2015_02_02_hay_island_flight03_s110rgb_jpeg_mosaic_group1---178.png', {'box': [773, 155, 811, 212], 'label': 1, 'score': 0.5058772563934326}], ['2015_02_02_hay_island_flight03_s110rgb_jpeg_mosaic_group1---178.png', {'box': [433, 380, 468, 418], 'label': 1, 'score': 0.5005860924720764}]]\n",
            "[['2015_02_02_hay_island_flight03_s110rgb_jpeg_mosaic_group1---155.png', {'box': [907, 801, 979, 852], 'label': 0, 'score': 0.5982405543327332}]]\n",
            "[['2015_02_02_hay_island_flight03_s110rgb_jpeg_mosaic_group1---145.png', {'box': [895, 244, 973, 293], 'label': 0, 'score': 0.8620665073394775}], ['2015_02_02_hay_island_flight03_s110rgb_jpeg_mosaic_group1---145.png', {'box': [651, 11, 729, 55], 'label': 0, 'score': 0.7767825126647949}]]\n"
          ],
          "name": "stdout"
        }
      ]
    },
    {
      "cell_type": "code",
      "metadata": {
        "id": "Z2z1m62-E56A",
        "outputId": "0248e54e-bc5b-478f-d415-a6a2252de2cd",
        "colab": {
          "base_uri": "https://localhost:8080/"
        }
      },
      "source": [
        "print(detections[1][0][0])\n",
        "print(len(detections[1][0][0]))\n",
        "print(detections[1][0])\n",
        "print(len(detections[1][0]))\n",
        "print(detections[1])\n",
        "print(len(detections[1]))"
      ],
      "execution_count": 45,
      "outputs": [
        {
          "output_type": "stream",
          "text": [
            "2015_02_02_hay_island_flight03_s110rgb_jpeg_mosaic_group1---145.png\n",
            "67\n",
            "['2015_02_02_hay_island_flight03_s110rgb_jpeg_mosaic_group1---145.png', [([...], {'box': [895, 244, 973, 293], 'label': 0, 'score': 0.8620665073394775}), ([...], {'box': [651, 11, 729, 55], 'label': 0, 'score': 0.7767825126647949})]]\n",
            "2\n",
            "(['2015_02_02_hay_island_flight03_s110rgb_jpeg_mosaic_group1---145.png', [([...], {'box': [895, 244, 973, 293], 'label': 0, 'score': 0.8620665073394775}), (...)]], {'box': [651, 11, 729, 55], 'label': 0, 'score': 0.7767825126647949})\n",
            "2\n"
          ],
          "name": "stdout"
        }
      ]
    },
    {
      "cell_type": "code",
      "metadata": {
        "id": "RPXdDvG8hyfz"
      },
      "source": [
        "scores = []\n",
        "for key, value in detected_labels.items():\n",
        "    for item in value:\n",
        "        score = item['score']\n",
        "        scores.append(score)"
      ],
      "execution_count": null,
      "outputs": []
    },
    {
      "cell_type": "code",
      "metadata": {
        "id": "POR7Sjn3iCi5"
      },
      "source": [
        "with open(local_download_path + '/data.json') as f:\n",
        "  img_data = json.load(f)\n",
        "\n",
        "image_bbox = []\n",
        "for annotation in image_annotations:\n",
        "    for detection in annotation[1]:\n",
        "        try:\n",
        "            image_box_list = []\n",
        "            local_bounding_box = np.array([[detection[0][0], detection[0][1]], [detection[0][2], detection[0][1]], [detection[0][2], detection[0][3]], [detection[0][0], detection[0][3]]]).astype(int)\n",
        "            image_located_bb = local_bounding_box + [img_data[\"image_locations\"][annotation[0]]]\n",
        "            image_box_list.append(image_located_bb)\n",
        "            image_box_list.append(detection[1])\n",
        "            image_box_list.append(detection[2])\n",
        "            image_bbox.append(image_box_list)\n",
        "            \n",
        "        except ValueError: # if the image doesn't have a detection\n",
        "            pass"
      ],
      "execution_count": null,
      "outputs": []
    },
    {
      "cell_type": "code",
      "metadata": {
        "id": "ob6bmHFEiFZ6"
      },
      "source": [
        "bbox = []\n",
        "for annotation in image_bbox:\n",
        "    total_box = []\n",
        "    x1 = annotation[0][0][0]\n",
        "    y1 = annotation[0][0][1]\n",
        "    x2 = annotation[0][1][0]\n",
        "    y2 = annotation[0][2][1]\n",
        "    bounding_box = list([x1,y1,x2,y2])\n",
        "    total_box.append(bounding_box)\n",
        "    total_box.append(annotation[1])\n",
        "    total_box.append(annotation[2])\n",
        "    bbox.append(total_box)"
      ],
      "execution_count": null,
      "outputs": []
    },
    {
      "cell_type": "code",
      "metadata": {
        "colab": {
          "base_uri": "https://localhost:8080/"
        },
        "id": "xORuwyGqrWQ4",
        "outputId": "94b581cc-3252-4154-d88a-7a1a2d3ef216"
      },
      "source": [
        "print(bbox[0])"
      ],
      "execution_count": null,
      "outputs": [
        {
          "output_type": "stream",
          "text": [
            "[[8066, 4623, 8112, 4655], 0.8100398778915405, 1]\n"
          ],
          "name": "stdout"
        }
      ]
    },
    {
      "cell_type": "code",
      "metadata": {
        "id": "CXqKqRuViP0D"
      },
      "source": [
        "# Malisiewicz et al.\n",
        "# import the necessary packages\n",
        "import numpy as np\n",
        "\n",
        "def non_max_suppression(boxes, overlapThresh):\n",
        "    # if there are no boxes, return an empty list\n",
        "    if len(boxes) == 0:\n",
        "        return []\n",
        "\n",
        "    # if the bounding boxes are integers, convert them to floats -- this\n",
        "    # is important since we'll be doing a bunch of divisions\n",
        "    if boxes[0].dtype.kind == \"i\":\n",
        "        boxes[0] = boxes[0].astype(\"float\")\n",
        "\n",
        "    # initialize the list of picked indexes\n",
        "    pick = []\n",
        "\n",
        "    # grab the coordinates of the bounding boxes\n",
        "    x1 = []\n",
        "    y1 = []\n",
        "    x2 = []\n",
        "    y2 = []\n",
        "\n",
        "    for box_count in boxes[:,0]:\n",
        "      x1.append(box_count[0])\n",
        "      y1.append(box_count[1])\n",
        "      x2.append(box_count[2])\n",
        "      y2.append(box_count[3])\n",
        "    \n",
        "    x1 = np.array(x1)\n",
        "    y1 = np.array(y1)\n",
        "    x2 = np.array(x2)\n",
        "    y2 = np.array(y2)\n",
        "\n",
        "    # compute the area of the bounding boxes and grab the indexes to sort\n",
        "    # (in the case that no probabilities are provided, simply sort on the\n",
        "    # bottom-left y-coordinate)\n",
        "    area = (x2 - x1 + 1) * (y2 - y1 + 1)\n",
        "    idxs = np.argsort(boxes[:,1])\n",
        "\n",
        "    # sort the indexes\n",
        "    #idxs = np.argsort(idxs)\n",
        "\n",
        "    # keep looping while some indexes still remain in the indexes list\n",
        "    while len(idxs) > 0:\n",
        "        # grab the last index in the indexes list and add the index value\n",
        "        # to the list of picked indexes\n",
        "        last = len(idxs) - 1\n",
        "        i = idxs[last]\n",
        "        pick.append(i)\n",
        "\n",
        "        # find the largest (x, y) coordinates for the start of the bounding\n",
        "        # box and the smallest (x, y) coordinates for the end of the bounding\n",
        "        # box\n",
        "        xx1 = np.maximum(x1[i], x1[idxs[:last]])\n",
        "        yy1 = np.maximum(y1[i], y1[idxs[:last]])\n",
        "        xx2 = np.minimum(x2[i], x2[idxs[:last]])\n",
        "        yy2 = np.minimum(y2[i], y2[idxs[:last]])\n",
        "\n",
        "        # compute the width and height of the bounding box\n",
        "        w = np.maximum(0, xx2 - xx1 + 1)\n",
        "        h = np.maximum(0, yy2 - yy1 + 1)\n",
        "\n",
        "        # compute the ratio of overlap\n",
        "        overlap = (w * h) / area[idxs[:last]]\n",
        "\n",
        "        # delete all indexes from the index list that have overlap greater\n",
        "        # than the provided overlap threshold\n",
        "        idxs = np.delete(idxs, np.concatenate(([last],\n",
        "            np.where(overlap > overlapThresh)[0])))\n",
        "\n",
        "    # return only the bounding boxes that were picked\n",
        "    return boxes[pick]#.astype(\"int\")"
      ],
      "execution_count": null,
      "outputs": []
    },
    {
      "cell_type": "code",
      "metadata": {
        "id": "cmY7ZCEvicfS"
      },
      "source": [
        "bboxes = np.array(bbox)\n",
        "pick = non_max_suppression(bboxes, 0.6)\n",
        "pick_list = pick.tolist()"
      ],
      "execution_count": null,
      "outputs": []
    },
    {
      "cell_type": "code",
      "metadata": {
        "colab": {
          "base_uri": "https://localhost:8080/"
        },
        "id": "B6bRgtpF3PaT",
        "outputId": "889c4716-867f-4188-b143-abae4b82037d"
      },
      "source": [
        "print(pick_list)"
      ],
      "execution_count": null,
      "outputs": [
        {
          "output_type": "stream",
          "text": [
            "[[[8136, 11261, 8179, 11294], 0.9102174639701843, 1], [[8419, 10932, 8473, 11012], 0.887717604637146, 0], [[7392, 9367, 7463, 9431], 0.8841370940208435, 0], [[7863, 9912, 7932, 9979], 0.8687878251075745, 0], [[3714, 12101, 3754, 12136], 0.8631736636161804, 1], [[9175, 7604, 9253, 7653], 0.8620665073394775, 0], [[11276, 2059, 11318, 2094], 0.8537882566452026, 1], [[12840, 2365, 12916, 2415], 0.8289740681648254, 0], [[6873, 5117, 6915, 5151], 0.8218233585357666, 1], [[11996, 2700, 12041, 2736], 0.8149935603141785, 1], [[8066, 4623, 8112, 4655], 0.8100398778915405, 1], [[4638, 7455, 4700, 7514], 0.8005296587944031, 0], [[4369, 10745, 4420, 10813], 0.8000049591064453, 0], [[7389, 11260, 7473, 11316], 0.7982905507087708, 0], [[8042, 4641, 8079, 4677], 0.796779215335846, 1], [[8037, 5080, 8086, 5156], 0.7938922047615051, 0], [[8173, 11119, 8216, 11154], 0.7797330021858215, 1], [[8931, 7371, 9009, 7415], 0.7767825126647949, 0], [[12514, 2155, 12586, 2202], 0.7683605551719666, 0], [[7830, 9544, 7876, 9580], 0.7667324542999268, 1], [[8278, 4850, 8319, 4886], 0.7647950053215027, 1], [[12723, 2084, 12774, 2155], 0.7623092532157898, 0], [[4842, 8192, 4902, 8250], 0.7612110376358032, 0], [[8113, 4747, 8154, 4785], 0.7569835782051086, 1], [[4941, 8175, 5013, 8234], 0.7563406825065613, 0], [[11875, 2207, 11935, 2256], 0.751011848449707, 0], [[11328, 1966, 11371, 2002], 0.75077885389328, 1], [[3862, 10297, 3929, 10349], 0.7499989867210388, 0], [[11860, 1979, 11897, 2013], 0.748471736907959, 1], [[4753, 8084, 4822, 8143], 0.7477250695228577, 0], [[7892, 4779, 7942, 4817], 0.7454524040222168, 1], [[7915, 9789, 7974, 9856], 0.744699239730835, 0], [[8075, 11121, 8120, 11155], 0.7431954741477966, 1], [[7478, 9277, 7532, 9342], 0.7388072609901428, 0], [[7698, 9296, 7739, 9330], 0.738582968711853, 1], [[3912, 12492, 3992, 12543], 0.7382947206497192, 0], [[7647, 9238, 7688, 9273], 0.7371256351470947, 1], [[12819, 2313, 12884, 2365], 0.73640376329422, 0], [[12365, 2414, 12403, 2455], 0.7331129312515259, 1], [[7747, 10066, 7802, 10133], 0.7310243248939514, 0], [[7840, 4848, 7886, 4886], 0.7198755145072937, 1], [[6899, 5142, 6937, 5175], 0.7190497517585754, 1], [[8487, 10815, 8531, 10853], 0.7157853841781616, 1], [[7953, 5466, 8040, 5508], 0.7141700983047485, 0], [[8140, 9727, 8187, 9812], 0.7110059857368469, 0], [[4143, 7736, 4201, 7813], 0.7103742361068726, 0], [[12332, 2388, 12377, 2425], 0.7101958990097046, 1], [[8141, 11208, 8182, 11242], 0.7049323916435242, 1], [[3877, 12037, 3920, 12070], 0.7028705477714539, 1], [[8199, 5346, 8254, 5414], 0.7027513384819031, 0], [[8236, 11193, 8278, 11226], 0.6958243250846863, 1], [[12492, 2491, 12536, 2526], 0.6957816481590271, 1], [[7785, 4822, 7825, 4862], 0.6947418451309204, 1], [[7688, 5129, 7767, 5175], 0.6922022700309753, 0], [[11985, 2603, 12025, 2644], 0.6841405034065247, 1], [[8081, 11320, 8123, 11352], 0.6834650039672852, 1], [[8210, 11219, 8246, 11256], 0.6774829030036926, 1], [[11269, 2810, 11314, 2838], 0.6769172549247742, 1], [[8289, 11171, 8326, 11211], 0.6758779883384705, 1], [[8225, 11116, 8268, 11149], 0.673917829990387, 1], [[7916, 9386, 7953, 9424], 0.6738904118537903, 1], [[12069, 2526, 12109, 2559], 0.6701443195343018, 1], [[11396, 1895, 11438, 1933], 0.6691503524780273, 1], [[11530, 2568, 11573, 2607], 0.6660303473472595, 1], [[3721, 12036, 3761, 12071], 0.6656913161277771, 1], [[3804, 10808, 3848, 10844], 0.6645010113716125, 1], [[3815, 12072, 3853, 12104], 0.6602678894996643, 1], [[7721, 9257, 7762, 9290], 0.658830463886261, 1], [[3871, 12112, 3908, 12150], 0.6508147716522217, 1], [[12413, 2397, 12453, 2435], 0.6491010785102844, 1], [[8878, 10244, 8919, 10276], 0.6414093375205994, 1], [[3709, 10899, 3780, 10945], 0.6410391926765442, 0], [[3889, 12125, 3926, 12160], 0.6391923427581787, 1], [[8224, 11166, 8258, 11203], 0.6340917348861694, 1], [[8270, 11083, 8315, 11126], 0.6331232190132141, 1], [[12661, 2130, 12731, 2183], 0.6328545212745667, 0], [[8288, 5219, 8331, 5256], 0.6312804222106934, 1], [[8005, 4616, 8042, 4652], 0.6308165788650513, 1], [[7825, 5336, 7880, 5398], 0.6239029169082642, 0], [[8281, 10779, 8316, 10822], 0.6139029264450073, 1], [[3929, 12800, 3999, 12847], 0.6091223359107971, 0], [[3797, 10453, 3840, 10495], 0.6067330241203308, 1], [[11501, 2036, 11539, 2075], 0.6062019467353821, 1], [[7704, 9567, 7747, 9601], 0.6056954264640808, 1], [[12004, 2300, 12050, 2334], 0.6055355072021484, 1], [[4515, 10797, 4551, 10844], 0.5996617674827576, 1], [[2747, 9081, 2819, 9132], 0.5982405543327332, 0], [[6840, 4931, 6896, 4986], 0.5980753898620605, 0], [[7740, 9266, 7777, 9299], 0.5940357446670532, 1], [[8297, 10755, 8340, 10797], 0.5907735824584961, 1], [[3980, 12025, 4031, 12058], 0.5870876908302307, 1], [[8261, 4806, 8301, 4839], 0.5846998691558838, 1], [[8128, 4791, 8172, 4825], 0.5823211669921875, 1], [[12733, 2158, 12786, 2229], 0.5783419609069824, 0], [[8100, 11208, 8137, 11246], 0.5764768719673157, 1], [[6941, 5091, 6975, 5132], 0.5757043957710266, 1], [[3681, 12153, 3718, 12191], 0.5740509629249573, 1], [[12047, 2475, 12085, 2515], 0.5738425850868225, 1], [[7858, 11110, 7899, 11144], 0.5729532241821289, 1], [[6946, 5141, 6983, 5170], 0.5658525824546814, 1], [[4384, 7964, 4428, 8003], 0.5582370758056641, 1], [[8863, 10193, 8904, 10228], 0.5580952167510986, 1], [[4072, 12096, 4118, 12131], 0.5572558641433716, 1], [[8124, 5171, 8167, 5248], 0.5560154914855957, 0], [[12120, 2256, 12163, 2286], 0.5500553250312805, 1], [[8119, 11702, 8159, 11736], 0.5499571561813354, 1], [[3836, 11991, 3880, 12024], 0.5495995283126831, 1], [[7436, 11238, 7509, 11284], 0.5492626428604126, 0], [[6959, 5164, 7001, 5192], 0.5445419549942017, 1], [[679, 9425, 736, 9504], 0.5432886481285095, 0], [[12060, 2296, 12101, 2352], 0.5399839282035828, 1], [[11344, 2084, 11391, 2119], 0.5363649725914001, 1], [[8176, 4720, 8213, 4760], 0.5341529846191406, 1], [[8224, 4849, 8254, 4893], 0.5253627896308899, 1], [[7978, 4632, 8017, 4672], 0.5241472125053406, 1], [[12612, 2044, 12655, 2109], 0.5215948820114136, 0], [[11747, 1841, 11815, 1885], 0.5197767019271851, 0], [[11059, 1958, 11099, 1989], 0.5174189209938049, 1], [[8138, 11673, 8172, 11710], 0.5172434449195862, 1], [[11888, 7035, 11940, 7114], 0.5151150822639465, 0], [[12913, 2475, 12955, 2515], 0.5126307606697083, 1], [[3991, 11973, 4031, 12009], 0.5083692669868469, 1], [[8133, 9355, 8171, 9412], 0.5058772563934326, 1], [[4699, 7460, 4747, 7528], 0.5050873160362244, 0], [[7793, 9580, 7828, 9618], 0.5005860924720764, 1], [[8282, 11955, 8320, 11993], 0.500505805015564, 1]]\n"
          ],
          "name": "stdout"
        }
      ]
    },
    {
      "cell_type": "code",
      "metadata": {
        "id": "DEuh5VhbpVV3"
      },
      "source": [
        "# ingest back in the coordinates of detections within an image referenced by their filename\n",
        "with open(local_download_path + '/data.json') as f:\n",
        "    img_data = json.load(f)\n",
        "\n",
        "# open the orthomosaic\n",
        "dataset = rasterio.open(orthomosaic_file)\n",
        "\n",
        "# pull labels from classes.csv\n",
        "import csv\n",
        "with open(local_download_path + '/classes.csv', \"r\") as f:\n",
        "    reader = csv.reader(f, delimiter=\",\")\n",
        "    labels_to_names = {int(i[1]):i[0] for i in reader}\n",
        "\n",
        "geolocated_annotations_before_nms = []\n",
        "\n",
        "for annotation in image_annotations:\n",
        "    for detection in annotation[1]:\n",
        "        try:            \n",
        "            local_bounding_box = np.array([[detection[0][0], detection[0][1]], [detection[0][2], detection[0][1]], [detection[0][2], detection[0][3]], [detection[0][0], detection[0][3]]]).astype(int)\n",
        "            image_located_bb = local_bounding_box + [img_data[\"image_locations\"][annotation[0]]]\n",
        "            \n",
        "            geolocated_bb = []\n",
        "            for point in image_located_bb:\n",
        "                geolocated_bb.append(dataset.transform * point)\n",
        "            geolocated_annotations_before_nms.append(geolocated_bb)\n",
        "        except ValueError: # if the image doesn't have a detection\n",
        "            pass\n",
        "\n",
        "geolocated_annotations_after_nms = []\n",
        "        \n",
        "for box in pick_list:\n",
        "    box_labeled = []\n",
        "    image_located_bb = np.array([[box[0][0], box[0][1]], [box[0][2], box[0][1]], [box[0][2], box[0][3]], [box[0][0], box[0][3]]]).astype(int)\n",
        "    geolocated_bb = []\n",
        "    for point in image_located_bb:\n",
        "        geolocated_bb.append(dataset.transform * point)\n",
        "    box_labeled.append(geolocated_bb)\n",
        "    box_labeled.append(labels_to_names[box[2]])\n",
        "    geolocated_annotations_after_nms.append(box_labeled)"
      ],
      "execution_count": null,
      "outputs": []
    },
    {
      "cell_type": "code",
      "metadata": {
        "colab": {
          "base_uri": "https://localhost:8080/"
        },
        "id": "erA5ZWagNmDG",
        "outputId": "c2bbbb75-36c7-4aa8-e8db-9a3a2e5cbfed"
      },
      "source": [
        "print(geolocated_annotations_after_nms[0:5])"
      ],
      "execution_count": null,
      "outputs": [
        {
          "output_type": "stream",
          "text": [
            "[[[(292130.18141, 5099948.34892), (292131.72640000004, 5099948.34892), (292131.72640000004, 5099947.16323), (292130.18141, 5099947.16323)], 1], [[(292140.3496, 5099960.1698900005), (292142.28982, 5099960.1698900005), (292142.28982, 5099957.29549), (292140.3496, 5099957.29549)], 0], [[(292103.44949, 5100016.40034), (292106.00052, 5100016.40034), (292106.00052, 5100014.10082), (292103.44949, 5100014.10082)], 0], [[(292120.37252000003, 5099996.81849), (292122.85169000004, 5099996.81849), (292122.85169000004, 5099994.41118), (292120.37252000003, 5099994.41118)], 0], [[(291971.29895, 5099918.16772), (291972.73615, 5099918.16772), (291972.73615, 5099916.91017), (291971.29895, 5099916.91017)], 1]]\n"
          ],
          "name": "stdout"
        }
      ]
    },
    {
      "cell_type": "code",
      "metadata": {
        "colab": {
          "base_uri": "https://localhost:8080/"
        },
        "id": "dFwZ_O0ijuz6",
        "outputId": "a1223fd1-39e3-4998-8956-e88ba9922153"
      },
      "source": [
        "print(\"before NMS: \" + str(len(geolocated_annotations_before_nms)))\n",
        "print(\"after NMS: \" + str(len(geolocated_annotations_after_nms)))"
      ],
      "execution_count": null,
      "outputs": [
        {
          "output_type": "stream",
          "text": [
            "before NMS: 132\n",
            "after NMS: 126\n"
          ],
          "name": "stdout"
        }
      ]
    },
    {
      "cell_type": "code",
      "metadata": {
        "id": "0fKKpsQ5pVV7"
      },
      "source": [
        "# write out the detections as a shapefile\n",
        "\n",
        "from collections import OrderedDict\n",
        "import fiona\n",
        "from fiona.crs import from_epsg\n",
        "\n",
        "# Set output directory\n",
        "output_dir = 'shapefile_output'\n",
        "\n",
        "# create the dir if it doesn't already exist\n",
        "if not os.path.exists(output_dir):\n",
        "    os.makedirs(output_dir)\n",
        "\n",
        "# Define your schema as a polygon geom with a couple of fields\n",
        "schema = {\n",
        "    'geometry': 'Polygon',\n",
        "    'properties': OrderedDict([\n",
        "        ('ImageName', 'str'),\n",
        "        ('Detection', 'str')\n",
        "  ])\n",
        "}\n",
        "\n",
        "with fiona.open(output_dir + '/seal_detections.shp',\n",
        "    'w',\n",
        "    driver='ESRI Shapefile',\n",
        "    crs=dataset.crs,\n",
        "    schema=schema) as c:\n",
        "    \n",
        "    for num, polygon in enumerate(geolocated_annotations_after_nms):\n",
        "      record = {\n",
        "            'geometry': {'coordinates': [polygon[0]], 'type': 'Polygon'},\n",
        "            'id': num,\n",
        "            'properties': OrderedDict([('ImageName', orthomosaic_file),\n",
        "                                       ('Detection', polygon[1])\n",
        "                                       ]),\n",
        "            'type': 'Feature'}\n",
        "      c.write(record)"
      ],
      "execution_count": null,
      "outputs": []
    },
    {
      "cell_type": "markdown",
      "metadata": {
        "id": "mKfVjeklm1rt"
      },
      "source": [
        "### Zip output folder for download"
      ]
    },
    {
      "cell_type": "code",
      "metadata": {
        "colab": {
          "base_uri": "https://localhost:8080/",
          "height": 17
        },
        "id": "aAmS92vcm1rt",
        "outputId": "f031480d-1a3e-4d76-e37a-6d1a188c09dd"
      },
      "source": [
        "# zip up the output directory into an archive for download\n",
        "import subprocess\n",
        "subprocess.call(['zip', '-r', '/content/' + output_dir + '.zip', '/content/' + output_dir])\n",
        "\n",
        "from google.colab import files\n",
        "files.download(\"/content/\" + output_dir + \".zip\")"
      ],
      "execution_count": null,
      "outputs": [
        {
          "output_type": "display_data",
          "data": {
            "application/javascript": [
              "\n",
              "    async function download(id, filename, size) {\n",
              "      if (!google.colab.kernel.accessAllowed) {\n",
              "        return;\n",
              "      }\n",
              "      const div = document.createElement('div');\n",
              "      const label = document.createElement('label');\n",
              "      label.textContent = `Downloading \"${filename}\": `;\n",
              "      div.appendChild(label);\n",
              "      const progress = document.createElement('progress');\n",
              "      progress.max = size;\n",
              "      div.appendChild(progress);\n",
              "      document.body.appendChild(div);\n",
              "\n",
              "      const buffers = [];\n",
              "      let downloaded = 0;\n",
              "\n",
              "      const channel = await google.colab.kernel.comms.open(id);\n",
              "      // Send a message to notify the kernel that we're ready.\n",
              "      channel.send({})\n",
              "\n",
              "      for await (const message of channel.messages) {\n",
              "        // Send a message to notify the kernel that we're ready.\n",
              "        channel.send({})\n",
              "        if (message.buffers) {\n",
              "          for (const buffer of message.buffers) {\n",
              "            buffers.push(buffer);\n",
              "            downloaded += buffer.byteLength;\n",
              "            progress.value = downloaded;\n",
              "          }\n",
              "        }\n",
              "      }\n",
              "      const blob = new Blob(buffers, {type: 'application/binary'});\n",
              "      const a = document.createElement('a');\n",
              "      a.href = window.URL.createObjectURL(blob);\n",
              "      a.download = filename;\n",
              "      div.appendChild(a);\n",
              "      a.click();\n",
              "      div.remove();\n",
              "    }\n",
              "  "
            ],
            "text/plain": [
              "<IPython.core.display.Javascript object>"
            ]
          },
          "metadata": {
            "tags": []
          }
        },
        {
          "output_type": "display_data",
          "data": {
            "application/javascript": [
              "download(\"download_7be09d68-64f0-4270-8cbe-b52c440301f5\", \"shapefile_output.zip\", 7304)"
            ],
            "text/plain": [
              "<IPython.core.display.Javascript object>"
            ]
          },
          "metadata": {
            "tags": []
          }
        }
      ]
    },
    {
      "cell_type": "markdown",
      "metadata": {
        "id": "Jb_yWaChpVV_"
      },
      "source": [
        "### RetinaNet to Existing VIA"
      ]
    },
    {
      "cell_type": "code",
      "metadata": {
        "id": "KxZjZKbfpVV_"
      },
      "source": [
        "# open the previous training data\n",
        "\n",
        "with open(local_download_path + '/via_SealCNN_TrainingData.json') as f:\n",
        "    existing_labels = json.load(f)\n",
        "\n",
        "# add the new detections to the old via_region_data.json file\n",
        "\n",
        "#\"11_fiX1mEhK\",\"[\"\"2015_02_02_hay_island_flight03_s110rgb_jpeg_mosaic_group1---27.png\"\"]\",0,\"[]\",\"[2,509.275,929.174,89.376,48.904]\",\"{}\"\n",
        "\n",
        "for filepath, detections in detected_labels.items():\n",
        "    fn = filepath.split(\"/\")[-1]\n",
        "    # TODO is deep copy correct?\n",
        "    for filename_size, metadata in existing_labels.items():\n",
        "        if fn == metadata[\"filename\"]:\n",
        "            for detection in detections:\n",
        "                # 'box' : [x1, y1, x2, y2]\n",
        "                x1 = detection[\"box\"][0]\n",
        "                y1 = detection[\"box\"][1]\n",
        "                x2 = detection[\"box\"][2]\n",
        "                y2 = detection[\"box\"][3]\n",
        "                #print(x1,x2,y1,y2)\n",
        "                metadata[\"regions\"].append({'shape_attributes': {'name': 'rect', 'x': x1, 'y': y1, 'width': x2-x1, 'height': y2-y1}, 'region_attributes': {}})\n",
        "    "
      ],
      "execution_count": null,
      "outputs": []
    },
    {
      "cell_type": "code",
      "metadata": {
        "id": "ioY92hB7pVWB"
      },
      "source": [
        "# write out new VIA file with additional detections\n",
        "\n",
        "with open(local_download_path + '/via_region_data_detections.json', 'w') as fp:\n",
        "    json.dump(existing_labels, fp)"
      ],
      "execution_count": null,
      "outputs": []
    }
  ]
}