{
 "cells": [
  {
   "cell_type": "markdown",
   "metadata": {},
   "source": [
    "## At a later date we might flesh this out to a full tutorial/walkthrough, but for now here's the basics because we know how to do this"
   ]
  },
  {
   "cell_type": "markdown",
   "metadata": {},
   "source": [
    "Download VIA annotation tool @ http://www.robots.ox.ac.uk/~vgg/software/via/"
   ]
  },
  {
   "cell_type": "markdown",
   "metadata": {},
   "source": [
    "Annotate each tile with boxes around each seal, multiple classes (generally that's what we're doing now)"
   ]
  },
  {
   "cell_type": "markdown",
   "metadata": {},
   "source": [
    "When finished annotating, export annotations as CSV file, and (if you want to merge your original annotated \"detections\" with the CNN's detection) export annotations as JSON file."
   ]
  },
  {
   "cell_type": "markdown",
   "metadata": {},
   "source": [
    "Upload your CSV and JSON files to the google drive directory where you're keeping your data (mosaic, tiles, and data.json so far) so it gets pulled in future scripts."
   ]
  }
 ],
 "metadata": {
  "kernelspec": {
   "display_name": "Python 3",
   "language": "python",
   "name": "python3"
  },
  "language_info": {
   "codemirror_mode": {
    "name": "ipython",
    "version": 3
   },
   "file_extension": ".py",
   "mimetype": "text/x-python",
   "name": "python",
   "nbconvert_exporter": "python",
   "pygments_lexer": "ipython3",
   "version": "3.8.3"
  }
 },
 "nbformat": 4,
 "nbformat_minor": 4
}
