{
 "cells": [
  {
   "cell_type": "markdown",
   "metadata": {},
   "source": [
    "## At a later date we might flesh this out to a full tutorial/walkthrough, but for now here's the basics because we know how to do this"
   ]
  },
  {
   "cell_type": "markdown",
   "metadata": {},
   "source": [
    "On your local machine you should have a tiled dataset, produced from your source orthomosaic in Step 1. The work for this step takes place outside of python, using an HTML tool with lots of manual input on your local computer."
   ]
  },
  {
   "cell_type": "markdown",
   "metadata": {},
   "source": [
    "We will be using VIA, a pre-made tool for annotating imagery: download this tool at http://www.robots.ox.ac.uk/~vgg/software/via/\n",
    "\n",
    "You will probably end up grabbing [this file](https://www.robots.ox.ac.uk/~vgg/software/via/downloads/via-2.0.10.zip) (`via-2.0.10.zip` at the time this was written) but note that this could change if VGG updates the software or the website's file directories.\n",
    "\n",
    "We recommend exploring the tool through the demonstrations section on the linked page above, but we have also made a basic tutorial in this document."
   ]
  },
  {
   "cell_type": "markdown",
   "metadata": {},
   "source": [
    "## A tutorial tailored to this workflow:"
   ]
  },
  {
   "cell_type": "markdown",
   "metadata": {},
   "source": [
    "Once you have downloaded and extracted the folder containing VIA's files, open `via.html` and you should see a new blank project with an automatically assigned default name (change that if you like).\n",
    "\\\n",
    "\\\n",
<<<<<<< HEAD
    "![https://duke.box.com/shared/static/eh0yjcxzph1x2pan1lrdt3i7ufjscrnz.png](https://duke.box.com/shared/static/eh0yjcxzph1x2pan1lrdt3i7ufjscrnz.png)"
=======
    "![blank VIA project](VIA_tutorial_1.png)\n",
    "<img src=\"VIA_tutorial_1.png\"/>"
>>>>>>> d8255320f171048513b1493d1c41819f22d5181e
   ]
  },
  {
   "cell_type": "markdown",
   "metadata": {},
   "source": [
    "Click the `\"Add Files\"` button under the `\"Project\"` tab on the left panel, and navigate to the directory containing your tiled data files (generated in `Step 1` of this workflow). Select all files and click `\"Open\"`) to load all your tiled data files into VIA. \n",
    "\n",
    "Note that the tiling process can generate many empty tiles at a mosaic's margins (the all-black images in this screenshot). Be sure to include these files in your project (we need the complete tile set), but you can quickly skip over them during the following annotation process.\n",
    "\\\n",
    "\\\n",
    "![https://duke.box.com/shared/static/0tvxt82wqew29u0620w2es8bqu39cc8y.png]](https://duke.box.com/shared/static/0tvxt82wqew29u0620w2es8bqu39cc8y.png)"
   ]
  },
  {
   "cell_type": "markdown",
   "metadata": {},
   "source": [
    "Before making any annotations, set up any classes you will be distinguishing using the `\"attributes\"` tab on the left panel (you can skip this if you are only training a CNN to detect 1 class of objects). Here we have created a class type, `\"age_class\"`, with two categories: `\"adult\"` and `\"pup\"`, which will be selected by radio buttons, with `\"adult\"` set as the default category. You can pick whatever \"type\" of category assignment you want and change or omit the default setting, as fits your style and preference, feel free to experiment!\n",
    "\\\n",
    "\\\n",
    "![https://duke.box.com/shared/static/q74r7pf8hitvnhngwk6y2ilv11s8p917.png](https://duke.box.com/shared/static/q74r7pf8hitvnhngwk6y2ilv11s8p917.png)"
   ]
  },
  {
   "cell_type": "markdown",
   "metadata": {},
   "source": [
    "Here we have navigated to an example image with many seals, both adults and pups, and we have annotated some of them with boxes. Note that although it is possible to annotate using other polygons, for this workflow we can only annotate using rectangles (unless you would like to customize the code to handle other polygons).\n",
    "\n",
    "In  example annotation 8 below we you can see the class selection box. See that it is pre-populated with the \"adult seal\" default category, even though we have highlighted a pup. Be careful if you use a default category because it might be easier to accidentally mislabel annotations.\n",
    "\n",
    "Depending on your project you might choose to include an \"unknown\" or \"uncertain\" category for your own benefit, but this workflow is not currently designed to handle that during CNN training and testing (the code is written to disregard an \"unknown\" category).\n",
    "\\\n",
    "\\\n",
    "![https://duke.box.com/shared/static/q62eh79ft97sx3vugmoun6ljlw0kb64t.png](https://duke.box.com/shared/static/q62eh79ft97sx3vugmoun6ljlw0kb64t.png)"
   ]
  },
  {
   "cell_type": "markdown",
   "metadata": {},
   "source": [
    "If you need to take a break from annotating or back up your work (recommended) you can save your project and load it later using the `\"Project\"` menu.\n",
    "\\\n",
    "\\\n",
    "![https://duke.box.com/shared/static/4wvyuhb8hgpmeii77wyhvh3rhbt2baw2.png](https://duke.box.com/shared/static/4wvyuhb8hgpmeii77wyhvh3rhbt2baw2.png)"
   ]
  },
  {
   "cell_type": "markdown",
   "metadata": {},
   "source": [
    "Finally, when you have finished annotating all images export your annotations using the `\"Annotation\"` menu. You should export your annotations both as a `csv` file and as a `json` file, as both are currently used in this workflow.\n",
    "\\\n",
    "\\\n",
    "![https://duke.box.com/shared/static/gxpiem7j5j6marxhuuy2ymdxjf7jnbx5.png](https://duke.box.com/shared/static/gxpiem7j5j6marxhuuy2ymdxjf7jnbx5.png)"
   ]
  },
  {
   "cell_type": "markdown",
   "metadata": {},
   "source": [
    "VIA has a lot of keyboard shortcuts and functionality not covered in this tutorial (e.g. correcting mistakes, modifying and deleting annotations, navigating between images, etc.), so definitely explore the software if you're planning to spend a lot of time with it! This tutorial only covers the essential basics for the purpose of this workflow."
   ]
  },
  {
   "cell_type": "markdown",
   "metadata": {},
   "source": [
    "When finished exporting your annotations, upload your `csv` and `json` files to the google drive folder where you are hosting the rest of your data (the orthomosaic, tiles, and `spatial_data.json` file that we have generated so far). These annotation files will be pulled from the google drive folder and used in subsequent steps. "
   ]
  }
 ],
 "metadata": {
  "kernelspec": {
   "display_name": "Python 3",
   "language": "python",
   "name": "python3"
  },
  "language_info": {
   "codemirror_mode": {
    "name": "ipython",
    "version": 3
   },
   "file_extension": ".py",
   "mimetype": "text/x-python",
   "name": "python",
   "nbconvert_exporter": "python",
   "pygments_lexer": "ipython3",
   "version": "3.8.3"
  }
 },
 "nbformat": 4,
 "nbformat_minor": 4
}
