{
 "cells": [
  {
   "cell_type": "markdown",
   "metadata": {},
   "source": [
    "## At a later date we might flesh this out to a full tutorial/walkthrough, but for now here's the basics because we know how to do this"
   ]
  },
  {
   "cell_type": "markdown",
   "metadata": {},
   "source": [
    "On your local machine you should have a tiled dataset, produced from your source orthomosaic in Step 1. The work for this step takes place outside of python, using an HTML tool with lots of manual input."
   ]
  },
  {
   "cell_type": "markdown",
   "metadata": {},
   "source": [
    "Download VIA annotation tool @ http://www.robots.ox.ac.uk/~vgg/software/via/\n",
    "\n",
    "you'll probably end up grabbing this file: https://www.robots.ox.ac.uk/~vgg/software/via/downloads/via-2.0.10.zip\n",
    "but note that this could change if they update the software or the website's file directories"
   ]
  },
  {
   "cell_type": "markdown",
   "metadata": {},
   "source": [
    "We recommend exploring the tool through the demonstrations section on the linked page above, "
   ]
  },
  {
   "cell_type": "markdown",
   "metadata": {},
   "source": [
    "![title](\"https://duke.box.com/shared/static/eh0yjcxzph1x2pan1lrdt3i7ufjscrnz.png\")"
   ]
  },
  {
   "cell_type": "markdown",
   "metadata": {},
   "source": [
    "![title](\"https://duke.box.com/shared/static/0tvxt82wqew29u0620w2es8bqu39cc8y.png\")"
   ]
  },
  {
   "cell_type": "markdown",
   "metadata": {},
   "source": [
    "![title](\"https://duke.box.com/shared/static/q74r7pf8hitvnhngwk6y2ilv11s8p917.png\")"
   ]
  },
  {
   "cell_type": "markdown",
   "metadata": {},
   "source": [
    "![title](\"https://duke.box.com/shared/static/q62eh79ft97sx3vugmoun6ljlw0kb64t.png\")"
   ]
  },
  {
   "cell_type": "markdown",
   "metadata": {},
   "source": [
    "![title](\"https://duke.box.com/shared/static/4wvyuhb8hgpmeii77wyhvh3rhbt2baw2.png\")"
   ]
  },
  {
   "cell_type": "markdown",
   "metadata": {},
   "source": [
    "![title](\"https://duke.box.com/shared/static/gxpiem7j5j6marxhuuy2ymdxjf7jnbx5.png\")"
   ]
  },
  {
   "cell_type": "markdown",
   "metadata": {},
   "source": [
    "Annotate each tile with boxes around each seal, set up your classes first, if doing multipl classes, so each annotation is assigned one of those classes."
   ]
  },
  {
   "cell_type": "markdown",
   "metadata": {},
   "source": [
    "When finished annotating, export annotations as CSV file, and (if you want to merge your original annotated \"detections\" with the CNN's detections) export annotations as JSON file."
   ]
  },
  {
   "cell_type": "markdown",
   "metadata": {},
   "source": [
    "Upload your CSV and JSON files to the google drive directory where you're keeping your data (mosaic, tiles, and spatial_data.json so far) so they get pulled in future scripts."
   ]
  },
  {
   "cell_type": "code",
   "execution_count": null,
   "metadata": {},
   "outputs": [],
   "source": []
  }
 ],
 "metadata": {
  "kernelspec": {
   "display_name": "Python 3",
   "language": "python",
   "name": "python3"
  },
  "language_info": {
   "codemirror_mode": {
    "name": "ipython",
    "version": 3
   },
   "file_extension": ".py",
   "mimetype": "text/x-python",
   "name": "python",
   "nbconvert_exporter": "python",
   "pygments_lexer": "ipython3",
   "version": "3.8.3"
  }
 },
 "nbformat": 4,
 "nbformat_minor": 4
}
